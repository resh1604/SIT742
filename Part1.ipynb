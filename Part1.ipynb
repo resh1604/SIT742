{
  "nbformat": 4,
  "nbformat_minor": 0,
  "metadata": {
    "colab": {
      "name": "Untitled12.ipynb",
      "version": "0.3.2",
      "provenance": [],
      "include_colab_link": true
    },
    "kernelspec": {
      "name": "python3",
      "display_name": "Python 3"
    }
  },
  "cells": [
    {
      "cell_type": "markdown",
      "metadata": {
        "id": "view-in-github",
        "colab_type": "text"
      },
      "source": [
        "<a href=\"https://colab.research.google.com/github/resh1604/SIT742/blob/master/Part1.ipynb\" target=\"_parent\"><img src=\"https://colab.research.google.com/assets/colab-badge.svg\" alt=\"Open In Colab\"/></a>"
      ]
    },
    {
      "metadata": {
        "id": "51eOw14LimGx",
        "colab_type": "code",
        "outputId": "4e3e5a36-49c2-4e6c-ccc3-bd945b19ac91",
        "colab": {
          "base_uri": "https://localhost:8080/",
          "height": 150
        }
      },
      "cell_type": "code",
      "source": [
        "!pip install wget "
      ],
      "execution_count": 1,
      "outputs": [
        {
          "output_type": "stream",
          "text": [
            "Collecting wget\n",
            "  Downloading https://files.pythonhosted.org/packages/47/6a/62e288da7bcda82b935ff0c6cfe542970f04e29c756b0e147251b2fb251f/wget-3.2.zip\n",
            "Building wheels for collected packages: wget\n",
            "  Building wheel for wget (setup.py) ... \u001b[?25ldone\n",
            "\u001b[?25h  Stored in directory: /root/.cache/pip/wheels/40/15/30/7d8f7cea2902b4db79e3fea550d7d7b85ecb27ef992b618f3f\n",
            "Successfully built wget\n",
            "Installing collected packages: wget\n",
            "Successfully installed wget-3.2\n"
          ],
          "name": "stdout"
        }
      ]
    },
    {
      "metadata": {
        "id": "N0J89Akm7dmt",
        "colab_type": "code",
        "colab": {}
      },
      "cell_type": "code",
      "source": [
        "import wget\n",
        "\n",
        "link_to_data = 'https://github.com/tulip-lab/sit742/raw/master/Assessment/2019/data/wine.json'\n",
        "DataSet = wget.download(link_to_data)\n",
        "\n",
        "link_to_data = 'https://github.com/tulip-lab/sit742/raw/master/Assessment/2019/data/stopwords.txt'\n",
        "\n",
        "DataSet = wget.download(link_to_data)"
      ],
      "execution_count": 0,
      "outputs": []
    },
    {
      "metadata": {
        "id": "lG4_KbVW7gac",
        "colab_type": "code",
        "outputId": "e9cdadf1-eba8-485e-d230-d81b89e2e0ab",
        "colab": {
          "base_uri": "https://localhost:8080/",
          "height": 33
        }
      },
      "cell_type": "code",
      "source": [
        "!ls"
      ],
      "execution_count": 3,
      "outputs": [
        {
          "output_type": "stream",
          "text": [
            "sample_data  stopwords.txt  wine.json\n"
          ],
          "name": "stdout"
        }
      ]
    },
    {
      "metadata": {
        "id": "74X9lCrv8Ogd",
        "colab_type": "code",
        "colab": {}
      },
      "cell_type": "code",
      "source": [
        "import json\n",
        "import pandas as pd\n",
        "import matplotlib.pyplot as plt"
      ],
      "execution_count": 0,
      "outputs": []
    },
    {
      "metadata": {
        "id": "VXFgM7r48Reo",
        "colab_type": "code",
        "colab": {}
      },
      "cell_type": "code",
      "source": [
        "file = 'wine.json'"
      ],
      "execution_count": 0,
      "outputs": []
    },
    {
      "metadata": {
        "id": "TKmcsTAh8SoK",
        "colab_type": "code",
        "colab": {}
      },
      "cell_type": "code",
      "source": [
        "df = pd.read_json(file, orient='columns')\n",
        "#df.head(10)\n",
        "#print(df)\n",
        "#print(df.to_json(orient='index', lines='True'))\n",
        "df"
      ],
      "execution_count": 0,
      "outputs": []
    },
    {
      "metadata": {
        "id": "sQtJvTh8DRrx",
        "colab_type": "code",
        "colab": {}
      },
      "cell_type": "code",
      "source": [
        "#df = df[(df['points']=='NaN') & (df['price']=='NaN')]\n",
        "#df = df.loc[~((df['points'] == NaN) | (df['price'] == NaN))]\n",
        "df2 = df.dropna(subset=['price', 'points'])"
      ],
      "execution_count": 0,
      "outputs": []
    },
    {
      "metadata": {
        "id": "qVv3HordiptW",
        "colab_type": "code",
        "outputId": "43ac864a-70ef-4a2c-cd5b-637a2a6e7393",
        "colab": {
          "base_uri": "https://localhost:8080/",
          "height": 167
        }
      },
      "cell_type": "code",
      "source": [
        "#df2.describe()\n",
        "#df2.describe(include ='all')\n",
        "df2.points.describe()"
      ],
      "execution_count": 9,
      "outputs": [
        {
          "output_type": "execute_result",
          "data": {
            "text/plain": [
              "count    120975.000000\n",
              "mean         88.421881\n",
              "std           3.044508\n",
              "min          80.000000\n",
              "25%          86.000000\n",
              "50%          88.000000\n",
              "75%          91.000000\n",
              "max         100.000000\n",
              "Name: points, dtype: float64"
            ]
          },
          "metadata": {
            "tags": []
          },
          "execution_count": 9
        }
      ]
    },
    {
      "metadata": {
        "id": "rSyVOatWnjDi",
        "colab_type": "code",
        "outputId": "8866593f-551d-42c7-943e-c65c102f19f2",
        "colab": {
          "base_uri": "https://localhost:8080/",
          "height": 173
        }
      },
      "cell_type": "code",
      "source": [
        "df2.price.describe()"
      ],
      "execution_count": 0,
      "outputs": [
        {
          "output_type": "execute_result",
          "data": {
            "text/plain": [
              "count    120975.000000\n",
              "mean         35.363389\n",
              "std          41.022218\n",
              "min           4.000000\n",
              "25%          17.000000\n",
              "50%          25.000000\n",
              "75%          42.000000\n",
              "max        3300.000000\n",
              "Name: price, dtype: float64"
            ]
          },
          "metadata": {
            "tags": []
          },
          "execution_count": 26
        }
      ]
    },
    {
      "metadata": {
        "id": "xj79ToyMrR8O",
        "colab_type": "code",
        "colab": {}
      },
      "cell_type": "code",
      "source": [
        "#df[df.points > 80].sort_values['variety'].head(10)\n",
        "df2.nlargest(10, 'points')\n"
      ],
      "execution_count": 0,
      "outputs": []
    },
    {
      "metadata": {
        "id": "HlHtJMzFyVRG",
        "colab_type": "code",
        "outputId": "ca866850-5470-45aa-bbd3-723ff506f0ec",
        "colab": {
          "base_uri": "https://localhost:8080/",
          "height": 201
        }
      },
      "cell_type": "code",
      "source": [
        "df2['variety'].value_counts().head(10)  "
      ],
      "execution_count": 11,
      "outputs": [
        {
          "output_type": "execute_result",
          "data": {
            "text/plain": [
              "Pinot Noir                  12787\n",
              "Chardonnay                  11080\n",
              "Cabernet Sauvignon           9386\n",
              "Red Blend                    8476\n",
              "Bordeaux-style Red Blend     5340\n",
              "Riesling                     4972\n",
              "Sauvignon Blanc              4783\n",
              "Syrah                        4086\n",
              "Rosé                         3262\n",
              "Merlot                       3062\n",
              "Name: variety, dtype: int64"
            ]
          },
          "metadata": {
            "tags": []
          },
          "execution_count": 11
        }
      ]
    },
    {
      "metadata": {
        "id": "MEHUzDAmQJcn",
        "colab_type": "code",
        "colab": {
          "base_uri": "https://localhost:8080/",
          "height": 201
        },
        "outputId": "3d88c3e5-907c-44f2-fb43-ea63840a19f6"
      },
      "cell_type": "code",
      "source": [
        "ans = df2.sort_values('variety')\n",
        "ans['variety'].value_counts()[:10]\n",
        "#ans"
      ],
      "execution_count": 13,
      "outputs": [
        {
          "output_type": "execute_result",
          "data": {
            "text/plain": [
              "Pinot Noir                  12787\n",
              "Chardonnay                  11080\n",
              "Cabernet Sauvignon           9386\n",
              "Red Blend                    8476\n",
              "Bordeaux-style Red Blend     5340\n",
              "Riesling                     4972\n",
              "Sauvignon Blanc              4783\n",
              "Syrah                        4086\n",
              "Rosé                         3262\n",
              "Merlot                       3062\n",
              "Name: variety, dtype: int64"
            ]
          },
          "metadata": {
            "tags": []
          },
          "execution_count": 13
        }
      ]
    },
    {
      "metadata": {
        "id": "5L8fYW82TP3Z",
        "colab_type": "code",
        "colab": {}
      },
      "cell_type": "code",
      "source": [
        "#group = df2.groupby(['variety'])[['variety','points','price']]\n",
        "#group.head()\n",
        "\n",
        "#group = df2.groupby(['points','price','variety'])['variety'].count()\n",
        "#group.head(10)\n",
        "\n",
        "#data = list(df2['points'].groupby(df2['variety']))\n",
        "\n",
        "data= df2.groupby('variety')[['points','price']].mean()\n",
        "data\n",
        "\n",
        "#data2 = data[data['price']<20 & (data['points']>=90)]\n",
        "#data2\n",
        "\n",
        "data2 = data[(data[\"price\"]<20) & (data[\"points\"] >=90)]\n",
        "data2\n"
      ],
      "execution_count": 0,
      "outputs": []
    }
  ]
}