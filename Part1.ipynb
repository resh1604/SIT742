{
  "nbformat": 4,
  "nbformat_minor": 0,
  "metadata": {
    "colab": {
      "name": "Untitled12.ipynb",
      "version": "0.3.2",
      "provenance": [],
      "include_colab_link": true
    },
    "kernelspec": {
      "name": "python3",
      "display_name": "Python 3"
    }
  },
  "cells": [
    {
      "cell_type": "markdown",
      "metadata": {
        "id": "view-in-github",
        "colab_type": "text"
      },
      "source": [
        "<a href=\"https://colab.research.google.com/github/resh1604/SIT742/blob/master/Part1.ipynb\" target=\"_parent\"><img src=\"https://colab.research.google.com/assets/colab-badge.svg\" alt=\"Open In Colab\"/></a>"
      ]
    },
    {
      "metadata": {
        "id": "51eOw14LimGx",
        "colab_type": "code",
        "outputId": "4e3e5a36-49c2-4e6c-ccc3-bd945b19ac91",
        "colab": {
          "base_uri": "https://localhost:8080/",
          "height": 150
        }
      },
      "cell_type": "code",
      "source": [
        "!pip install wget "
      ],
      "execution_count": 0,
      "outputs": [
        {
          "output_type": "stream",
          "text": [
            "Collecting wget\n",
            "  Downloading https://files.pythonhosted.org/packages/47/6a/62e288da7bcda82b935ff0c6cfe542970f04e29c756b0e147251b2fb251f/wget-3.2.zip\n",
            "Building wheels for collected packages: wget\n",
            "  Building wheel for wget (setup.py) ... \u001b[?25ldone\n",
            "\u001b[?25h  Stored in directory: /root/.cache/pip/wheels/40/15/30/7d8f7cea2902b4db79e3fea550d7d7b85ecb27ef992b618f3f\n",
            "Successfully built wget\n",
            "Installing collected packages: wget\n",
            "Successfully installed wget-3.2\n"
          ],
          "name": "stdout"
        }
      ]
    },
    {
      "metadata": {
        "id": "N0J89Akm7dmt",
        "colab_type": "code",
        "colab": {}
      },
      "cell_type": "code",
      "source": [
        "import wget\n",
        "\n",
        "link_to_data = 'https://github.com/tulip-lab/sit742/raw/master/Assessment/2019/data/wine.json'\n",
        "DataSet = wget.download(link_to_data)\n",
        "\n",
        "link_to_data = 'https://github.com/tulip-lab/sit742/raw/master/Assessment/2019/data/stopwords.txt'\n",
        "\n",
        "DataSet = wget.download(link_to_data)"
      ],
      "execution_count": 0,
      "outputs": []
    },
    {
      "metadata": {
        "id": "lG4_KbVW7gac",
        "colab_type": "code",
        "outputId": "e9cdadf1-eba8-485e-d230-d81b89e2e0ab",
        "colab": {
          "base_uri": "https://localhost:8080/",
          "height": 33
        }
      },
      "cell_type": "code",
      "source": [
        "!ls"
      ],
      "execution_count": 0,
      "outputs": [
        {
          "output_type": "stream",
          "text": [
            "sample_data  stopwords.txt  wine.json\n"
          ],
          "name": "stdout"
        }
      ]
    },
    {
      "metadata": {
        "id": "74X9lCrv8Ogd",
        "colab_type": "code",
        "colab": {}
      },
      "cell_type": "code",
      "source": [
        "import json\n",
        "import pandas as pd\n",
        "import matplotlib.pyplot as plt"
      ],
      "execution_count": 0,
      "outputs": []
    },
    {
      "metadata": {
        "id": "VXFgM7r48Reo",
        "colab_type": "code",
        "colab": {}
      },
      "cell_type": "code",
      "source": [
        "file = 'wine.json'"
      ],
      "execution_count": 0,
      "outputs": []
    },
    {
      "metadata": {
        "id": "TKmcsTAh8SoK",
        "colab_type": "code",
        "colab": {}
      },
      "cell_type": "code",
      "source": [
        "df = pd.read_json(file, orient='columns')\n",
        "#df.head(10)\n",
        "#print(df)\n",
        "#print(df.to_json(orient='index', lines='True'))\n",
        "df"
      ],
      "execution_count": 0,
      "outputs": []
    },
    {
      "metadata": {
        "id": "sQtJvTh8DRrx",
        "colab_type": "code",
        "colab": {}
      },
      "cell_type": "code",
      "source": [
        "#df = df[(df['points']=='NaN') & (df['price']=='NaN')]\n",
        "#df = df.loc[~((df['points'] == NaN) | (df['price'] == NaN))]\n",
        "df2 = df.dropna(subset=['price', 'points'])"
      ],
      "execution_count": 0,
      "outputs": []
    },
    {
      "metadata": {
        "id": "qVv3HordiptW",
        "colab_type": "code",
        "outputId": "43ac864a-70ef-4a2c-cd5b-637a2a6e7393",
        "colab": {
          "base_uri": "https://localhost:8080/",
          "height": 167
        }
      },
      "cell_type": "code",
      "source": [
        "#df2.describe()\n",
        "#df2.describe(include ='all')\n",
        "df2.points.describe()"
      ],
      "execution_count": 0,
      "outputs": [
        {
          "output_type": "execute_result",
          "data": {
            "text/plain": [
              "count    120975.000000\n",
              "mean         88.421881\n",
              "std           3.044508\n",
              "min          80.000000\n",
              "25%          86.000000\n",
              "50%          88.000000\n",
              "75%          91.000000\n",
              "max         100.000000\n",
              "Name: points, dtype: float64"
            ]
          },
          "metadata": {
            "tags": []
          },
          "execution_count": 9
        }
      ]
    },
    {
      "metadata": {
        "id": "rSyVOatWnjDi",
        "colab_type": "code",
        "outputId": "8866593f-551d-42c7-943e-c65c102f19f2",
        "colab": {
          "base_uri": "https://localhost:8080/",
          "height": 173
        }
      },
      "cell_type": "code",
      "source": [
        "df2.price.describe()"
      ],
      "execution_count": 0,
      "outputs": [
        {
          "output_type": "execute_result",
          "data": {
            "text/plain": [
              "count    120975.000000\n",
              "mean         35.363389\n",
              "std          41.022218\n",
              "min           4.000000\n",
              "25%          17.000000\n",
              "50%          25.000000\n",
              "75%          42.000000\n",
              "max        3300.000000\n",
              "Name: price, dtype: float64"
            ]
          },
          "metadata": {
            "tags": []
          },
          "execution_count": 26
        }
      ]
    },
    {
      "metadata": {
        "id": "xj79ToyMrR8O",
        "colab_type": "code",
        "outputId": "a957ebee-8948-4a1f-fd59-d95002d8dcb6",
        "colab": {
          "base_uri": "https://localhost:8080/",
          "height": 1018
        }
      },
      "cell_type": "code",
      "source": [
        "#df[df.points > 80].sort_values['variety'].head(10)\n",
        "df2.nlargest(10, 'points')\n"
      ],
      "execution_count": 0,
      "outputs": [
        {
          "output_type": "execute_result",
          "data": {
            "text/html": [
              "<div>\n",
              "<style scoped>\n",
              "    .dataframe tbody tr th:only-of-type {\n",
              "        vertical-align: middle;\n",
              "    }\n",
              "\n",
              "    .dataframe tbody tr th {\n",
              "        vertical-align: top;\n",
              "    }\n",
              "\n",
              "    .dataframe thead th {\n",
              "        text-align: right;\n",
              "    }\n",
              "</style>\n",
              "<table border=\"1\" class=\"dataframe\">\n",
              "  <thead>\n",
              "    <tr style=\"text-align: right;\">\n",
              "      <th></th>\n",
              "      <th>country</th>\n",
              "      <th>description</th>\n",
              "      <th>designation</th>\n",
              "      <th>points</th>\n",
              "      <th>price</th>\n",
              "      <th>province</th>\n",
              "      <th>region_1</th>\n",
              "      <th>region_2</th>\n",
              "      <th>taster_name</th>\n",
              "      <th>taster_twitter_handle</th>\n",
              "      <th>title</th>\n",
              "      <th>variety</th>\n",
              "      <th>winery</th>\n",
              "    </tr>\n",
              "  </thead>\n",
              "  <tbody>\n",
              "    <tr>\n",
              "      <th>345</th>\n",
              "      <td>Australia</td>\n",
              "      <td>This wine contains some material over 100 year...</td>\n",
              "      <td>Rare</td>\n",
              "      <td>100</td>\n",
              "      <td>350.0</td>\n",
              "      <td>Victoria</td>\n",
              "      <td>Rutherglen</td>\n",
              "      <td>None</td>\n",
              "      <td>Joe Czerwinski</td>\n",
              "      <td>@JoeCz</td>\n",
              "      <td>Chambers Rosewood Vineyards NV Rare Muscat (Ru...</td>\n",
              "      <td>Muscat</td>\n",
              "      <td>Chambers Rosewood Vineyards</td>\n",
              "    </tr>\n",
              "    <tr>\n",
              "      <th>7335</th>\n",
              "      <td>Italy</td>\n",
              "      <td>Thick as molasses and dark as caramelized brow...</td>\n",
              "      <td>Occhio di Pernice</td>\n",
              "      <td>100</td>\n",
              "      <td>210.0</td>\n",
              "      <td>Tuscany</td>\n",
              "      <td>Vin Santo di Montepulciano</td>\n",
              "      <td>None</td>\n",
              "      <td>None</td>\n",
              "      <td>None</td>\n",
              "      <td>Avignonesi 1995 Occhio di Pernice  (Vin Santo ...</td>\n",
              "      <td>Prugnolo Gentile</td>\n",
              "      <td>Avignonesi</td>\n",
              "    </tr>\n",
              "    <tr>\n",
              "      <th>36528</th>\n",
              "      <td>France</td>\n",
              "      <td>This is a fabulous wine from the greatest Cham...</td>\n",
              "      <td>Brut</td>\n",
              "      <td>100</td>\n",
              "      <td>259.0</td>\n",
              "      <td>Champagne</td>\n",
              "      <td>Champagne</td>\n",
              "      <td>None</td>\n",
              "      <td>Roger Voss</td>\n",
              "      <td>@vossroger</td>\n",
              "      <td>Krug 2002 Brut  (Champagne)</td>\n",
              "      <td>Champagne Blend</td>\n",
              "      <td>Krug</td>\n",
              "    </tr>\n",
              "    <tr>\n",
              "      <th>39286</th>\n",
              "      <td>Italy</td>\n",
              "      <td>A perfect wine from a classic vintage, the 200...</td>\n",
              "      <td>Masseto</td>\n",
              "      <td>100</td>\n",
              "      <td>460.0</td>\n",
              "      <td>Tuscany</td>\n",
              "      <td>Toscana</td>\n",
              "      <td>None</td>\n",
              "      <td>None</td>\n",
              "      <td>None</td>\n",
              "      <td>Tenuta dell'Ornellaia 2007 Masseto Merlot (Tos...</td>\n",
              "      <td>Merlot</td>\n",
              "      <td>Tenuta dell'Ornellaia</td>\n",
              "    </tr>\n",
              "    <tr>\n",
              "      <th>42197</th>\n",
              "      <td>Portugal</td>\n",
              "      <td>This is the latest release of what has long be...</td>\n",
              "      <td>Barca-Velha</td>\n",
              "      <td>100</td>\n",
              "      <td>450.0</td>\n",
              "      <td>Douro</td>\n",
              "      <td>None</td>\n",
              "      <td>None</td>\n",
              "      <td>Roger Voss</td>\n",
              "      <td>@vossroger</td>\n",
              "      <td>Casa Ferreirinha 2008 Barca-Velha Red (Douro)</td>\n",
              "      <td>Portuguese Red</td>\n",
              "      <td>Casa Ferreirinha</td>\n",
              "    </tr>\n",
              "    <tr>\n",
              "      <th>45781</th>\n",
              "      <td>Italy</td>\n",
              "      <td>This gorgeous, fragrant wine opens with classi...</td>\n",
              "      <td>Riserva</td>\n",
              "      <td>100</td>\n",
              "      <td>550.0</td>\n",
              "      <td>Tuscany</td>\n",
              "      <td>Brunello di Montalcino</td>\n",
              "      <td>None</td>\n",
              "      <td>Kerin O’Keefe</td>\n",
              "      <td>@kerinokeefe</td>\n",
              "      <td>Biondi Santi 2010 Riserva  (Brunello di Montal...</td>\n",
              "      <td>Sangiovese</td>\n",
              "      <td>Biondi Santi</td>\n",
              "    </tr>\n",
              "    <tr>\n",
              "      <th>45798</th>\n",
              "      <td>US</td>\n",
              "      <td>Tasted in a flight of great and famous Napa wi...</td>\n",
              "      <td>None</td>\n",
              "      <td>100</td>\n",
              "      <td>200.0</td>\n",
              "      <td>California</td>\n",
              "      <td>Napa Valley</td>\n",
              "      <td>Napa</td>\n",
              "      <td>None</td>\n",
              "      <td>None</td>\n",
              "      <td>Cardinale 2006 Cabernet Sauvignon (Napa Valley)</td>\n",
              "      <td>Cabernet Sauvignon</td>\n",
              "      <td>Cardinale</td>\n",
              "    </tr>\n",
              "    <tr>\n",
              "      <th>58352</th>\n",
              "      <td>France</td>\n",
              "      <td>This is a magnificently solid wine, initially ...</td>\n",
              "      <td>None</td>\n",
              "      <td>100</td>\n",
              "      <td>150.0</td>\n",
              "      <td>Bordeaux</td>\n",
              "      <td>Saint-Julien</td>\n",
              "      <td>None</td>\n",
              "      <td>Roger Voss</td>\n",
              "      <td>@vossroger</td>\n",
              "      <td>Château Léoville Barton 2010  Saint-Julien</td>\n",
              "      <td>Bordeaux-style Red Blend</td>\n",
              "      <td>Château Léoville Barton</td>\n",
              "    </tr>\n",
              "    <tr>\n",
              "      <th>89728</th>\n",
              "      <td>France</td>\n",
              "      <td>This latest incarnation of the famous brand is...</td>\n",
              "      <td>Cristal Vintage Brut</td>\n",
              "      <td>100</td>\n",
              "      <td>250.0</td>\n",
              "      <td>Champagne</td>\n",
              "      <td>Champagne</td>\n",
              "      <td>None</td>\n",
              "      <td>Roger Voss</td>\n",
              "      <td>@vossroger</td>\n",
              "      <td>Louis Roederer 2008 Cristal Vintage Brut  (Cha...</td>\n",
              "      <td>Champagne Blend</td>\n",
              "      <td>Louis Roederer</td>\n",
              "    </tr>\n",
              "    <tr>\n",
              "      <th>89729</th>\n",
              "      <td>France</td>\n",
              "      <td>This new release from a great vintage for Char...</td>\n",
              "      <td>Le Mesnil Blanc de Blancs Brut</td>\n",
              "      <td>100</td>\n",
              "      <td>617.0</td>\n",
              "      <td>Champagne</td>\n",
              "      <td>Champagne</td>\n",
              "      <td>None</td>\n",
              "      <td>Roger Voss</td>\n",
              "      <td>@vossroger</td>\n",
              "      <td>Salon 2006 Le Mesnil Blanc de Blancs Brut Char...</td>\n",
              "      <td>Chardonnay</td>\n",
              "      <td>Salon</td>\n",
              "    </tr>\n",
              "  </tbody>\n",
              "</table>\n",
              "</div>"
            ],
            "text/plain": [
              "         country                                        description  \\\n",
              "345    Australia  This wine contains some material over 100 year...   \n",
              "7335       Italy  Thick as molasses and dark as caramelized brow...   \n",
              "36528     France  This is a fabulous wine from the greatest Cham...   \n",
              "39286      Italy  A perfect wine from a classic vintage, the 200...   \n",
              "42197   Portugal  This is the latest release of what has long be...   \n",
              "45781      Italy  This gorgeous, fragrant wine opens with classi...   \n",
              "45798         US  Tasted in a flight of great and famous Napa wi...   \n",
              "58352     France  This is a magnificently solid wine, initially ...   \n",
              "89728     France  This latest incarnation of the famous brand is...   \n",
              "89729     France  This new release from a great vintage for Char...   \n",
              "\n",
              "                          designation  points  price    province  \\\n",
              "345                              Rare     100  350.0    Victoria   \n",
              "7335                Occhio di Pernice     100  210.0     Tuscany   \n",
              "36528                            Brut     100  259.0   Champagne   \n",
              "39286                         Masseto     100  460.0     Tuscany   \n",
              "42197                     Barca-Velha     100  450.0       Douro   \n",
              "45781                         Riserva     100  550.0     Tuscany   \n",
              "45798                            None     100  200.0  California   \n",
              "58352                            None     100  150.0    Bordeaux   \n",
              "89728            Cristal Vintage Brut     100  250.0   Champagne   \n",
              "89729  Le Mesnil Blanc de Blancs Brut     100  617.0   Champagne   \n",
              "\n",
              "                         region_1 region_2     taster_name  \\\n",
              "345                    Rutherglen     None  Joe Czerwinski   \n",
              "7335   Vin Santo di Montepulciano     None            None   \n",
              "36528                   Champagne     None      Roger Voss   \n",
              "39286                     Toscana     None            None   \n",
              "42197                        None     None      Roger Voss   \n",
              "45781      Brunello di Montalcino     None   Kerin O’Keefe   \n",
              "45798                 Napa Valley     Napa            None   \n",
              "58352                Saint-Julien     None      Roger Voss   \n",
              "89728                   Champagne     None      Roger Voss   \n",
              "89729                   Champagne     None      Roger Voss   \n",
              "\n",
              "      taster_twitter_handle  \\\n",
              "345                  @JoeCz   \n",
              "7335                   None   \n",
              "36528            @vossroger   \n",
              "39286                  None   \n",
              "42197            @vossroger   \n",
              "45781          @kerinokeefe   \n",
              "45798                  None   \n",
              "58352            @vossroger   \n",
              "89728            @vossroger   \n",
              "89729            @vossroger   \n",
              "\n",
              "                                                   title  \\\n",
              "345    Chambers Rosewood Vineyards NV Rare Muscat (Ru...   \n",
              "7335   Avignonesi 1995 Occhio di Pernice  (Vin Santo ...   \n",
              "36528                        Krug 2002 Brut  (Champagne)   \n",
              "39286  Tenuta dell'Ornellaia 2007 Masseto Merlot (Tos...   \n",
              "42197      Casa Ferreirinha 2008 Barca-Velha Red (Douro)   \n",
              "45781  Biondi Santi 2010 Riserva  (Brunello di Montal...   \n",
              "45798    Cardinale 2006 Cabernet Sauvignon (Napa Valley)   \n",
              "58352         Château Léoville Barton 2010  Saint-Julien   \n",
              "89728  Louis Roederer 2008 Cristal Vintage Brut  (Cha...   \n",
              "89729  Salon 2006 Le Mesnil Blanc de Blancs Brut Char...   \n",
              "\n",
              "                        variety                       winery  \n",
              "345                      Muscat  Chambers Rosewood Vineyards  \n",
              "7335           Prugnolo Gentile                   Avignonesi  \n",
              "36528           Champagne Blend                         Krug  \n",
              "39286                    Merlot        Tenuta dell'Ornellaia  \n",
              "42197            Portuguese Red             Casa Ferreirinha  \n",
              "45781                Sangiovese                 Biondi Santi  \n",
              "45798        Cabernet Sauvignon                    Cardinale  \n",
              "58352  Bordeaux-style Red Blend      Château Léoville Barton  \n",
              "89728           Champagne Blend               Louis Roederer  \n",
              "89729                Chardonnay                        Salon  "
            ]
          },
          "metadata": {
            "tags": []
          },
          "execution_count": 85
        }
      ]
    },
    {
      "metadata": {
        "id": "HlHtJMzFyVRG",
        "colab_type": "code",
        "outputId": "ca866850-5470-45aa-bbd3-723ff506f0ec",
        "colab": {
          "base_uri": "https://localhost:8080/",
          "height": 201
        }
      },
      "cell_type": "code",
      "source": [
        "df2['variety'].value_counts().head(10)  "
      ],
      "execution_count": 0,
      "outputs": [
        {
          "output_type": "execute_result",
          "data": {
            "text/plain": [
              "Pinot Noir                  12787\n",
              "Chardonnay                  11080\n",
              "Cabernet Sauvignon           9386\n",
              "Red Blend                    8476\n",
              "Bordeaux-style Red Blend     5340\n",
              "Riesling                     4972\n",
              "Sauvignon Blanc              4783\n",
              "Syrah                        4086\n",
              "Rosé                         3262\n",
              "Merlot                       3062\n",
              "Name: variety, dtype: int64"
            ]
          },
          "metadata": {
            "tags": []
          },
          "execution_count": 11
        }
      ]
    },
    {
      "metadata": {
        "id": "MEHUzDAmQJcn",
        "colab_type": "code",
        "outputId": "3d88c3e5-907c-44f2-fb43-ea63840a19f6",
        "colab": {
          "base_uri": "https://localhost:8080/",
          "height": 201
        }
      },
      "cell_type": "code",
      "source": [
        "ans = df2.sort_values('variety')\n",
        "ans['variety'].value_counts()[:10]\n",
        "#ans"
      ],
      "execution_count": 0,
      "outputs": [
        {
          "output_type": "execute_result",
          "data": {
            "text/plain": [
              "Pinot Noir                  12787\n",
              "Chardonnay                  11080\n",
              "Cabernet Sauvignon           9386\n",
              "Red Blend                    8476\n",
              "Bordeaux-style Red Blend     5340\n",
              "Riesling                     4972\n",
              "Sauvignon Blanc              4783\n",
              "Syrah                        4086\n",
              "Rosé                         3262\n",
              "Merlot                       3062\n",
              "Name: variety, dtype: int64"
            ]
          },
          "metadata": {
            "tags": []
          },
          "execution_count": 13
        }
      ]
    },
    {
      "metadata": {
        "id": "5L8fYW82TP3Z",
        "colab_type": "code",
        "colab": {}
      },
      "cell_type": "code",
      "source": [
        "#group = df2.groupby(['variety'])[['variety','points','price']]\n",
        "#group.head()\n",
        "\n",
        "#group = df2.groupby(['points','price','variety'])['variety'].count()\n",
        "#group.head(10)\n",
        "\n",
        "#data = list(df2['points'].groupby(df2['variety']))\n",
        "\n",
        "data= df2.groupby('variety')[['points','price']].mean()\n",
        "data\n",
        "\n",
        "#data2 = data[data['price']<20 & (data['points']>=90)]\n",
        "#data2\n",
        "\n",
        "data2 = data[(data[\"price\"]<20) & (data[\"points\"] >=90)]\n",
        "data2\n"
      ],
      "execution_count": 0,
      "outputs": []
    },
    {
      "metadata": {
        "id": "X_daUDjXolb0",
        "colab_type": "code",
        "colab": {}
      },
      "cell_type": "code",
      "source": [
        "data\n",
        "\n",
        "data3 = round(data,2)\n",
        "data3"
      ],
      "execution_count": 0,
      "outputs": []
    },
    {
      "metadata": {
        "id": "ZuHu7D2NpvUS",
        "colab_type": "code",
        "colab": {}
      },
      "cell_type": "code",
      "source": [
        "data3= df2.groupby(['country','variety'])[['points','price']].mean()\n",
        "data3\n",
        "\n",
        "\n",
        "data4 = round(data3,2)\n",
        "data4"
      ],
      "execution_count": 0,
      "outputs": []
    },
    {
      "metadata": {
        "id": "K7iyaC2cLH0i",
        "colab_type": "code",
        "colab": {}
      },
      "cell_type": "code",
      "source": [
        "data3= df2.groupby('country').agg({'price':'mean','points':'mean','variety':lambda x: x.mode()})\n",
        "data10 = data3.round(2)\n",
        "data10"
      ],
      "execution_count": 0,
      "outputs": []
    },
    {
      "metadata": {
        "id": "SEOXB_3o6hsp",
        "colab_type": "code",
        "colab": {}
      },
      "cell_type": "code",
      "source": [
        "data4.to_csv(\"statisticByState.csv\")"
      ],
      "execution_count": 0,
      "outputs": []
    },
    {
      "metadata": {
        "id": "pWWaiQWesrab",
        "colab_type": "code",
        "colab": {}
      },
      "cell_type": "code",
      "source": [
        "#data5 = data4.sort_values['variety']\n",
        "#data5['variety'].value_counts()[:5]\n",
        "\n",
        "#data4['variety'].value_counts()\n",
        "\n",
        "#data4['variety'].apply(pd.value_counts)\n",
        "\n",
        "#def top_value_count(x, n=5):\n",
        "#    return x.value_counts().head(n)\n",
        "\n",
        "#gb = df2.groupby(['variety', 'points'])\n",
        "#df_top_freq = gb.apply(top_value_count).reset_index()\n",
        "#df_top_freq.rename(columns=dict(level_2='cod', cod='count_cod'))\n",
        "\n",
        "#data3= df2.groupby(['country','variety','description'])[['points','price']].agg(lambda x:x.value_counts().index[0])\n",
        "#data3.agg(lambda x:x.value_counts().index[0])\n",
        "\n",
        "#data3.nlargest(50, 'points')\n",
        "\n",
        "#data3.sort('variety', ascending=False)\n"
      ],
      "execution_count": 0,
      "outputs": []
    }
  ]
}