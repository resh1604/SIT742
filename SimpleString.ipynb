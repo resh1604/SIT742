{
  "nbformat": 4,
  "nbformat_minor": 0,
  "metadata": {
    "colab": {
      "name": "Untitled0.ipynb",
      "version": "0.3.2",
      "provenance": [],
      "include_colab_link": true
    },
    "kernelspec": {
      "name": "python3",
      "display_name": "Python 3"
    }
  },
  "cells": [
    {
      "cell_type": "markdown",
      "metadata": {
        "id": "view-in-github",
        "colab_type": "text"
      },
      "source": [
        "<a href=\"https://colab.research.google.com/github/resh1604/SIT742/blob/master/SimpleString.ipynb\" target=\"_parent\"><img src=\"https://colab.research.google.com/assets/colab-badge.svg\" alt=\"Open In Colab\"/></a>"
      ]
    },
    {
      "metadata": {
        "id": "WnHfk7DOJStv",
        "colab_type": "code",
        "colab": {
          "base_uri": "https://localhost:8080/",
          "height": 34
        },
        "outputId": "afb57b29-2643-44d7-c0d5-2e86b31838f1"
      },
      "cell_type": "code",
      "source": [
        "print('Hello, World!')"
      ],
      "execution_count": 1,
      "outputs": [
        {
          "output_type": "stream",
          "text": [
            "Hello, World!\n"
          ],
          "name": "stdout"
        }
      ]
    },
    {
      "metadata": {
        "id": "vy1r8YtOJdQD",
        "colab_type": "code",
        "colab": {
          "base_uri": "https://localhost:8080/",
          "height": 34
        },
        "outputId": "adaab840-a777-4b8c-80a1-c37d1d6bc946"
      },
      "cell_type": "code",
      "source": [
        "mytext = 'New World'\n",
        "print(mytext)"
      ],
      "execution_count": 2,
      "outputs": [
        {
          "output_type": "stream",
          "text": [
            "New World\n"
          ],
          "name": "stdout"
        }
      ]
    },
    {
      "metadata": {
        "id": "B5P0FqWrKHsS",
        "colab_type": "code",
        "colab": {
          "base_uri": "https://localhost:8080/",
          "height": 34
        },
        "outputId": "f94415eb-a359-4c7c-8f01-7975ada59931"
      },
      "cell_type": "code",
      "source": [
        "text2 = 'What\\'s your name?'\n",
        "print(text2)"
      ],
      "execution_count": 5,
      "outputs": [
        {
          "output_type": "stream",
          "text": [
            "What's your name?\n"
          ],
          "name": "stdout"
        }
      ]
    },
    {
      "metadata": {
        "id": "LUAKuXU3KkgR",
        "colab_type": "code",
        "colab": {
          "base_uri": "https://localhost:8080/",
          "height": 51
        },
        "outputId": "49ae11ba-dd5e-4c11-de4a-2f18d534703e"
      },
      "cell_type": "code",
      "source": [
        "text3 = '''My name is Khan\n",
        "And I\\'m not a Terrorist'''\n",
        "print(text3)"
      ],
      "execution_count": 8,
      "outputs": [
        {
          "output_type": "stream",
          "text": [
            "My name is Khan\n",
            "And I'm not a Terrorist\n"
          ],
          "name": "stdout"
        }
      ]
    },
    {
      "metadata": {
        "id": "O4s-bUGTK-ra",
        "colab_type": "code",
        "colab": {
          "base_uri": "https://localhost:8080/",
          "height": 51
        },
        "outputId": "ca00e4bf-f8b1-4767-9bd6-1b52d05a4515"
      },
      "cell_type": "code",
      "source": [
        "text4 = '''path = \"C:\\\\location\\\\folder\"\n",
        "This is the path'''\n",
        "print(text4)"
      ],
      "execution_count": 9,
      "outputs": [
        {
          "output_type": "stream",
          "text": [
            "path = \"C:\\location\\folder\"\n",
            "This is the path\n"
          ],
          "name": "stdout"
        }
      ]
    },
    {
      "metadata": {
        "id": "Znfl-uTHMBUr",
        "colab_type": "code",
        "colab": {
          "base_uri": "https://localhost:8080/",
          "height": 68
        },
        "outputId": "fb3690ba-1165-4401-9104-86f5dc994b81"
      },
      "cell_type": "code",
      "source": [
        "text5 = ' This is a multiline example.\\n This is the first line. \\n This is the second line.'\n",
        "print(text5 )"
      ],
      "execution_count": 11,
      "outputs": [
        {
          "output_type": "stream",
          "text": [
            " This is a multiline example.\n",
            " This is the first line. \n",
            " This is the second line.\n"
          ],
          "name": "stdout"
        }
      ]
    },
    {
      "metadata": {
        "id": "tWFztP62MxvD",
        "colab_type": "code",
        "colab": {
          "base_uri": "https://localhost:8080/",
          "height": 34
        },
        "outputId": "7fb49021-9aa9-41b1-9482-d4c105234b10"
      },
      "cell_type": "code",
      "source": [
        "text6 = 'Hello '+'World'\n",
        "print(text6)"
      ],
      "execution_count": 13,
      "outputs": [
        {
          "output_type": "stream",
          "text": [
            "Hello World\n"
          ],
          "name": "stdout"
        }
      ]
    },
    {
      "metadata": {
        "id": "khboLoNAM7jb",
        "colab_type": "code",
        "colab": {
          "base_uri": "https://localhost:8080/",
          "height": 85
        },
        "outputId": "1ddfdd52-6f7d-4446-cd3e-8aa858bf7c6c"
      },
      "cell_type": "code",
      "source": [
        "text7 = (('Hello '+ 'World\\n') *3)\n",
        "print(text7)"
      ],
      "execution_count": 16,
      "outputs": [
        {
          "output_type": "stream",
          "text": [
            "Hello World\n",
            "Hello World\n",
            "Hello World\n",
            "\n"
          ],
          "name": "stdout"
        }
      ]
    },
    {
      "metadata": {
        "id": "Je0Jsj0SNZ6t",
        "colab_type": "code",
        "colab": {
          "base_uri": "https://localhost:8080/",
          "height": 34
        },
        "outputId": "23a2472e-ba6a-4827-d42a-4cdb6f71db43"
      },
      "cell_type": "code",
      "source": [
        "text8 = 'Good Morning'\n",
        "text9 = 'Sunshine'\n",
        "print(text8 + ' ' + text9 + '!!')"
      ],
      "execution_count": 19,
      "outputs": [
        {
          "output_type": "stream",
          "text": [
            "Good Morning Sunshine!!\n"
          ],
          "name": "stdout"
        }
      ]
    }
  ]
}