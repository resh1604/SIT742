{
  "nbformat": 4,
  "nbformat_minor": 0,
  "metadata": {
    "colab": {
      "name": "Untitled5.ipynb",
      "version": "0.3.2",
      "provenance": [],
      "include_colab_link": true
    },
    "kernelspec": {
      "name": "python3",
      "display_name": "Python 3"
    }
  },
  "cells": [
    {
      "cell_type": "markdown",
      "metadata": {
        "id": "view-in-github",
        "colab_type": "text"
      },
      "source": [
        "<a href=\"https://colab.research.google.com/github/resh1604/SIT742/blob/master/Loop.ipynb\" target=\"_parent\"><img src=\"https://colab.research.google.com/assets/colab-badge.svg\" alt=\"Open In Colab\"/></a>"
      ]
    },
    {
      "metadata": {
        "id": "UCGFYz2RPsWd",
        "colab_type": "code",
        "colab": {
          "base_uri": "https://localhost:8080/",
          "height": 50
        },
        "outputId": "d920d8aa-4471-4971-f19f-b2b3ab3341e1"
      },
      "cell_type": "code",
      "source": [
        "for name in[\"Reshu\",\"Harsh\"]:\n",
        "  print(\"Hi %s How are you?\" %name)"
      ],
      "execution_count": 2,
      "outputs": [
        {
          "output_type": "stream",
          "text": [
            "Hi Reshu How are you?\n",
            "Hi Harsh How are you?\n"
          ],
          "name": "stdout"
        }
      ]
    },
    {
      "metadata": {
        "id": "8oF3pSamQl5W",
        "colab_type": "code",
        "colab": {
          "base_uri": "https://localhost:8080/",
          "height": 84
        },
        "outputId": "10fabd43-176e-444b-e0c6-482a0e02c92d"
      },
      "cell_type": "code",
      "source": [
        "for count in[1,2,3,4]:\n",
        "  print(\"Count is %d\" %count)"
      ],
      "execution_count": 4,
      "outputs": [
        {
          "output_type": "stream",
          "text": [
            "Count is 1\n",
            "Count is 2\n",
            "Count is 3\n",
            "Count is 4\n"
          ],
          "name": "stdout"
        }
      ]
    },
    {
      "metadata": {
        "id": "1O_mvJoaSvKN",
        "colab_type": "code",
        "colab": {
          "base_uri": "https://localhost:8080/",
          "height": 184
        },
        "outputId": "fc5d6d4c-4ded-4f04-f52e-9577ad16375b"
      },
      "cell_type": "code",
      "source": [
        "for count in range(5):\n",
        "  print('Count is %d' %count)\n",
        "  \n",
        "  print(range(5))"
      ],
      "execution_count": 11,
      "outputs": [
        {
          "output_type": "stream",
          "text": [
            "Count is 0\n",
            "range(0, 5)\n",
            "Count is 1\n",
            "range(0, 5)\n",
            "Count is 2\n",
            "range(0, 5)\n",
            "Count is 3\n",
            "range(0, 5)\n",
            "Count is 4\n",
            "range(0, 5)\n"
          ],
          "name": "stdout"
        }
      ]
    },
    {
      "metadata": {
        "id": "iFTIa9TLUN8O",
        "colab_type": "code",
        "colab": {
          "base_uri": "https://localhost:8080/",
          "height": 33
        },
        "outputId": "6ba48310-a4db-42bb-f7ea-964551f9c5fd"
      },
      "cell_type": "code",
      "source": [
        "rangetext = range(5)\n",
        "list(rangetext)"
      ],
      "execution_count": 12,
      "outputs": [
        {
          "output_type": "execute_result",
          "data": {
            "text/plain": [
              "[0, 1, 2, 3, 4]"
            ]
          },
          "metadata": {
            "tags": []
          },
          "execution_count": 12
        }
      ]
    },
    {
      "metadata": {
        "id": "PObLhIwwUZQP",
        "colab_type": "code",
        "colab": {
          "base_uri": "https://localhost:8080/",
          "height": 33
        },
        "outputId": "c4bc81e3-350d-4a54-f1c8-18e793ea8447"
      },
      "cell_type": "code",
      "source": [
        "rangetext = range(5)\n",
        "print(rangetext)"
      ],
      "execution_count": 13,
      "outputs": [
        {
          "output_type": "stream",
          "text": [
            "range(0, 5)\n"
          ],
          "name": "stdout"
        }
      ]
    }
  ]
}