{
  "nbformat": 4,
  "nbformat_minor": 0,
  "metadata": {
    "colab": {
      "name": "Untitled7.ipynb",
      "version": "0.3.2",
      "provenance": [],
      "include_colab_link": true
    },
    "kernelspec": {
      "name": "python3",
      "display_name": "Python 3"
    }
  },
  "cells": [
    {
      "cell_type": "markdown",
      "metadata": {
        "id": "view-in-github",
        "colab_type": "text"
      },
      "source": [
        "<a href=\"https://colab.research.google.com/github/resh1604/SIT742/blob/master/FileIO.ipynb\" target=\"_parent\"><img src=\"https://colab.research.google.com/assets/colab-badge.svg\" alt=\"Open In Colab\"/></a>"
      ]
    },
    {
      "metadata": {
        "id": "zni_JxCub4gN",
        "colab_type": "code",
        "colab": {
          "base_uri": "https://localhost:8080/",
          "height": 33
        },
        "outputId": "9ecff2bf-ce98-4ffa-8883-772a3173932b"
      },
      "cell_type": "code",
      "source": [
        "!pip install wget"
      ],
      "execution_count": 1,
      "outputs": [
        {
          "output_type": "stream",
          "text": [
            "Requirement already satisfied: wget in /usr/local/lib/python3.6/dist-packages (3.2)\n"
          ],
          "name": "stdout"
        }
      ]
    },
    {
      "metadata": {
        "id": "8TPfjb7hcST3",
        "colab_type": "code",
        "colab": {
          "base_uri": "https://localhost:8080/",
          "height": 33
        },
        "outputId": "63553610-6769-43c3-834f-8bbbc6bee95d"
      },
      "cell_type": "code",
      "source": [
        "import wget\n",
        "\n",
        "link_to_data = 'https://github.com/tulip-lab/sit742/raw/master/Jupyter/data/score.txt'\n",
        "DataSet = wget.download(link_to_data)\n",
        "\n",
        "print(DataSet)"
      ],
      "execution_count": 3,
      "outputs": [
        {
          "output_type": "stream",
          "text": [
            "score (2).txt\n"
          ],
          "name": "stdout"
        }
      ]
    },
    {
      "metadata": {
        "id": "z3JAyugGcg4p",
        "colab_type": "code",
        "colab": {
          "base_uri": "https://localhost:8080/",
          "height": 100
        },
        "outputId": "04b74ae1-c811-4110-fb1d-9079e8592494"
      },
      "cell_type": "code",
      "source": [
        "# scorefile = open('https://raw.githubusercontent.com/tulip-lab/sit742/master/Jupyter/data/score.txt','r')\n",
        "\n",
        "scorefile = open('score.txt','r')\n",
        "\n",
        "for line in scorefile:\n",
        "    value = line.split()\n",
        "    name = value[0]\n",
        "    id = value[1]\n",
        "    score = value[2]\n",
        "    print('%s with ID %s has a score of %s' % (name, id, score))"
      ],
      "execution_count": 4,
      "outputs": [
        {
          "output_type": "stream",
          "text": [
            "David with ID 3402 has a score of 80\n",
            "Jane with ID 3403 has a score of 76\n",
            "Sophia with ID 3405 has a score of 65\n",
            "Jane with ID 3447 has a score of 92\n",
            "William with ID 3456 has a score of 75\n"
          ],
          "name": "stdout"
        }
      ]
    },
    {
      "metadata": {
        "id": "gi6HwC3Xgsfv",
        "colab_type": "code",
        "colab": {
          "base_uri": "https://localhost:8080/",
          "height": 134
        },
        "outputId": "ccfeb8c2-fe50-451f-8fe7-b909515ac910"
      },
      "cell_type": "code",
      "source": [
        "infile = open('score.txt', 'r')\n",
        "outfile = open('id.txt', 'w')\n",
        "\n",
        "for line in infile:\n",
        "    values = line.split()\n",
        "    id = values[1]\n",
        "    score = values[2]\n",
        "    dataline = id + ',' + score\n",
        "\n",
        "    outfile.write(dataline + '\\n')\n",
        "\n",
        "infile.close()\n",
        "outfile.close()\n",
        "\n",
        "f=open('id.txt', 'r')\n",
        "message=f.read()\n",
        "print(message)\n",
        "f.close"
      ],
      "execution_count": 8,
      "outputs": [
        {
          "output_type": "stream",
          "text": [
            "3402,80\n",
            "3403,76\n",
            "3405,65\n",
            "3447,92\n",
            "3456,75\n",
            "\n"
          ],
          "name": "stdout"
        },
        {
          "output_type": "execute_result",
          "data": {
            "text/plain": [
              "<function TextIOWrapper.close>"
            ]
          },
          "metadata": {
            "tags": []
          },
          "execution_count": 8
        }
      ]
    },
    {
      "metadata": {
        "id": "FfR8BfcoXUwm",
        "colab_type": "code",
        "colab": {
          "base_uri": "https://localhost:8080/",
          "height": 50
        },
        "outputId": "ae180241-d383-450c-af38-f98407370912"
      },
      "cell_type": "code",
      "source": [
        "l = [10, 20, 30, 40]\n",
        "print(l[1])\n",
        "print(l[-1])"
      ],
      "execution_count": 10,
      "outputs": [
        {
          "output_type": "stream",
          "text": [
            "20\n",
            "40\n"
          ],
          "name": "stdout"
        }
      ]
    },
    {
      "metadata": {
        "id": "rDAtdvi2Xfbk",
        "colab_type": "code",
        "colab": {
          "base_uri": "https://localhost:8080/",
          "height": 33
        },
        "outputId": "ec403f22-da5c-4915-8e10-3933df2d261b"
      },
      "cell_type": "code",
      "source": [
        "l = ['apple', 2.0, 5, [10, 20]]\n",
        "l[0]\n",
        "l[-1]\n",
        "l[3][1]"
      ],
      "execution_count": 14,
      "outputs": [
        {
          "output_type": "execute_result",
          "data": {
            "text/plain": [
              "20"
            ]
          },
          "metadata": {
            "tags": []
          },
          "execution_count": 14
        }
      ]
    },
    {
      "metadata": {
        "id": "H9ls-bXOrFjU",
        "colab_type": "code",
        "colab": {
          "base_uri": "https://localhost:8080/",
          "height": 33
        },
        "outputId": "88c11273-81e7-4171-829e-0fee9ecc31c4"
      },
      "cell_type": "code",
      "source": [
        "shoplist = ['apple', 'mango', 'carrot', 'banana']\n",
        "'apple' in shoplist\n",
        "\n",
        "'a' in 'banana'\n",
        "\n",
        "'seed' in 'banana'"
      ],
      "execution_count": 17,
      "outputs": [
        {
          "output_type": "execute_result",
          "data": {
            "text/plain": [
              "False"
            ]
          },
          "metadata": {
            "tags": []
          },
          "execution_count": 17
        }
      ]
    },
    {
      "metadata": {
        "id": "7UDG1NBOrlMj",
        "colab_type": "code",
        "colab": {
          "base_uri": "https://localhost:8080/",
          "height": 33
        },
        "outputId": "0d0c3ec2-297d-4f6c-fb09-84ac95bca762"
      },
      "cell_type": "code",
      "source": [
        "shoplist = ['apple', 'mango', 'carrot', 'banana']\n",
        "shoplist_sorted = sorted(shoplist)  \n",
        "\n",
        "shoplist_sorted"
      ],
      "execution_count": 20,
      "outputs": [
        {
          "output_type": "execute_result",
          "data": {
            "text/plain": [
              "['apple', 'banana', 'carrot', 'mango']"
            ]
          },
          "metadata": {
            "tags": []
          },
          "execution_count": 20
        }
      ]
    }
  ]
}