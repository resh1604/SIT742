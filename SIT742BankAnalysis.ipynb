{
  "nbformat": 4,
  "nbformat_minor": 0,
  "metadata": {
    "colab": {
      "name": "SIT742BankAnalysis.ipynb",
      "version": "0.3.2",
      "provenance": [],
      "collapsed_sections": [],
      "toc_visible": true,
      "include_colab_link": true
    },
    "language_info": {
      "codemirror_mode": {
        "name": "ipython",
        "version": 3
      },
      "file_extension": ".py",
      "mimetype": "text/x-python",
      "name": "python",
      "nbconvert_exporter": "python",
      "pygments_lexer": "ipython3",
      "version": "3.6.4"
    },
    "kernelspec": {
      "display_name": "Python 3",
      "language": "python",
      "name": "python3"
    }
  },
  "cells": [
    {
      "cell_type": "markdown",
      "metadata": {
        "id": "view-in-github",
        "colab_type": "text"
      },
      "source": [
        "<a href=\"https://colab.research.google.com/github/resh1604/SIT742/blob/master/SIT742BankAnalysis.ipynb\" target=\"_parent\"><img src=\"https://colab.research.google.com/assets/colab-badge.svg\" alt=\"Open In Colab\"/></a>"
      ]
    },
    {
      "cell_type": "markdown",
      "metadata": {
        "id": "GOUUQCsm8ecf",
        "colab_type": "text"
      },
      "source": [
        "# SIT742: Modern Data Science \n",
        "**(Assessment Task 02: Bank Marketing Data Analytics)**\n",
        "\n",
        "---\n",
        "- Materials in this module include resources collected from various open-source online repositories.\n",
        "- You are free to use, change and distribute this package.\n",
        "\n",
        "Prepared by **SIT742 Teaching Team**\n",
        "\n",
        "\n",
        "---\n",
        "\n",
        "**Project Group Information:**\n",
        "\n",
        "- Names:\n",
        "- Student IDs:\n",
        "- Emails:\n",
        "\n",
        "---"
      ]
    },
    {
      "cell_type": "markdown",
      "metadata": {
        "colab_type": "text",
        "id": "eASNvREtBU9G"
      },
      "source": [
        "## 1. Import Spark"
      ]
    },
    {
      "cell_type": "code",
      "metadata": {
        "cellView": "code",
        "colab_type": "code",
        "id": "duCJfMrnGu00",
        "outputId": "9cd0eb8f-de7d-438f-8d44-a07c4a9f58d8",
        "colab": {
          "base_uri": "https://localhost:8080/",
          "height": 33
        }
      },
      "source": [
        "#!apt-get install openjdk-8-jdk-headless -qq > /dev/null\n",
        "#!wget -q http://www-us.apache.org/dist/spark/spark-2.4.0/spark-2.4.0-bin-hadoop2.7.tgz\n",
        "#!tar xf spark-2.4.0-bin-hadoop2.7.tgz\n",
        "#!pip install -q findspark\n",
        "\n",
        "#import os\n",
        "#os.environ[\"JAVA_HOME\"] = \"/usr/lib/jvm/java-8-openjdk-amd64\"\n",
        "#os.environ[\"SPARK_HOME\"] = \"/content/spark-2.4.0-bin-hadoop2.7\"\n",
        "\n",
        "!pip install wget\n",
        "!apt-get install openjdk-8-jdk-headless -qq > /dev/null\n",
        "!wget -q https://archive.apache.org/dist/spark/spark-2.4.0/spark-2.4.0-bin-hadoop2.7.tgz\n",
        "!tar xf spark-2.4.0-bin-hadoop2.7.tgz\n",
        "!pip install -q findspark\n",
        "import os\n",
        "os.environ[\"JAVA_HOME\"] = \"/usr/lib/jvm/java-8-openjdk-amd64\"\n",
        "os.environ[\"SPARK_HOME\"] = \"/content/spark-2.4.0-bin-hadoop2.7\""
      ],
      "execution_count": 74,
      "outputs": [
        {
          "output_type": "stream",
          "text": [
            "Requirement already satisfied: wget in /usr/local/lib/python3.6/dist-packages (3.2)\n"
          ],
          "name": "stdout"
        }
      ]
    },
    {
      "cell_type": "code",
      "metadata": {
        "colab_type": "code",
        "id": "aGOo805LA-fM",
        "colab": {}
      },
      "source": [
        "import findspark\n",
        "findspark.init()\n",
        "from pyspark.sql import SparkSession "
      ],
      "execution_count": 0,
      "outputs": []
    },
    {
      "cell_type": "markdown",
      "metadata": {
        "colab_type": "text",
        "id": "K7bEtO_fBZmE"
      },
      "source": [
        "## 2. Read and check data"
      ]
    },
    {
      "cell_type": "code",
      "metadata": {
        "id": "F5qcOpBu8ecq",
        "colab_type": "code",
        "outputId": "d0bf69aa-28d1-4158-d0d0-760b05619e17",
        "colab": {
          "base_uri": "https://localhost:8080/",
          "height": 33
        }
      },
      "source": [
        "!pip install wget  "
      ],
      "execution_count": 76,
      "outputs": [
        {
          "output_type": "stream",
          "text": [
            "Requirement already satisfied: wget in /usr/local/lib/python3.6/dist-packages (3.2)\n"
          ],
          "name": "stdout"
        }
      ]
    },
    {
      "cell_type": "code",
      "metadata": {
        "id": "Q6c6Lla88ect",
        "colab_type": "code",
        "colab": {}
      },
      "source": [
        "import wget\n",
        "\n",
        "link_to_data = 'https://github.com/tulip-lab/sit742/raw/master/Assessment/2019/data/bank.csv'\n",
        "DataSet = wget.download(link_to_data)"
      ],
      "execution_count": 0,
      "outputs": []
    },
    {
      "cell_type": "code",
      "metadata": {
        "id": "aR55yOYn8ecw",
        "colab_type": "code",
        "outputId": "b485becc-fb89-496a-e0be-4339d6732adb",
        "colab": {
          "base_uri": "https://localhost:8080/",
          "height": 150
        }
      },
      "source": [
        "!ls"
      ],
      "execution_count": 78,
      "outputs": [
        {
          "output_type": "stream",
          "text": [
            "'bank (1).csv'\t spark-2.4.0-bin-hadoop2.7\n",
            "'bank (2).csv'\t spark-2.4.0-bin-hadoop2.7.tgz\n",
            "'bank (3).csv'\t spark-2.4.0-bin-hadoop2.7.tgz.1\n",
            "'bank (4).csv'\t spark-2.4.0-bin-hadoop2.7.tgz.2\n",
            "'bank (5).csv'\t spark-2.4.0-bin-hadoop2.7.tgz.3\n",
            "'bank (6).csv'\t spark-2.4.0-bin-hadoop2.7.tgz.4\n",
            " bank.csv\t spark-2.4.0-bin-hadoop2.7.tgz.5\n",
            " sample_data\t spark-2.4.0-bin-hadoop2.7.tgz.6\n"
          ],
          "name": "stdout"
        }
      ]
    },
    {
      "cell_type": "code",
      "metadata": {
        "colab_type": "code",
        "id": "FQ8Ts9eZBA-M",
        "outputId": "d3a288fd-efd5-46b9-dbd3-d515aca608c6",
        "colab": {
          "base_uri": "https://localhost:8080/",
          "height": 53
        }
      },
      "source": [
        "spark = SparkSession.builder.appName('ml-bank').getOrCreate()\n",
        "\n",
        "from pyspark.sql.types import StructType, StructField\n",
        "from pyspark.sql.types import DoubleType, IntegerType, StringType\n",
        "\n",
        "schema = StructType([\n",
        "    StructField(\"age\", IntegerType()),\n",
        "    StructField(\"job\", StringType()),\n",
        "    StructField(\"marital\", StringType()),\n",
        "    StructField(\"education\", StringType()),\n",
        "    StructField(\"default\", StringType()),\n",
        "    StructField(\"balance\", IntegerType()),\n",
        "    StructField(\"housing\", StringType()),\n",
        "    StructField(\"contact\", StringType()),\n",
        "    StructField(\"day\", IntegerType()),\n",
        "    StructField(\"month\", StringType()),\n",
        "    StructField(\"duration\", IntegerType()),\n",
        "    StructField(\"campaign\", IntegerType()),\n",
        "    StructField(\"pdays\", IntegerType()),\n",
        "    StructField(\"previous\", IntegerType()),\n",
        "    StructField(\"poutcome\", StringType()),\n",
        "    StructField(\"deposit\", StringType())\n",
        "])\n",
        "\n",
        "# Import the 'bank.csv' as a Spark dataframe and name it as df\n",
        "df = spark.read.format(\"csv\").\\\n",
        "        option(\"header\", \"true\").\\\n",
        "            load(\"bank.csv\")\n",
        "        \n",
        "df = df.withColumn(\"age\", df[\"age\"].cast(IntegerType()))\n",
        "df = df.withColumn(\"balance\", df[\"balance\"].cast(IntegerType()))\n",
        "df = df.withColumn(\"day\", df[\"day\"].cast(IntegerType()))\n",
        "df = df.withColumn(\"duration\", df[\"duration\"].cast(IntegerType()))\n",
        "df = df.withColumn(\"campaign\", df[\"campaign\"].cast(IntegerType()))\n",
        "df = df.withColumn(\"pdays\", df[\"pdays\"].cast(IntegerType()))\n",
        "df = df.withColumn(\"previous\", df[\"previous\"].cast(IntegerType()))\n",
        "\n",
        "df"
      ],
      "execution_count": 79,
      "outputs": [
        {
          "output_type": "execute_result",
          "data": {
            "text/plain": [
              "DataFrame[age: int, job: string, marital: string, education: string, default: string, balance: int, housing: string, loan: string, contact: string, day: int, month: string, duration: int, campaign: int, pdays: int, previous: int, poutcome: string, deposit: string]"
            ]
          },
          "metadata": {
            "tags": []
          },
          "execution_count": 79
        }
      ]
    },
    {
      "cell_type": "code",
      "metadata": {
        "id": "kD7R8DK4COOb",
        "colab_type": "code",
        "outputId": "88faadcd-30ce-4e82-a525-f9bd696222d2",
        "colab": {
          "base_uri": "https://localhost:8080/",
          "height": 53
        }
      },
      "source": [
        "df.head(1)"
      ],
      "execution_count": 80,
      "outputs": [
        {
          "output_type": "execute_result",
          "data": {
            "text/plain": [
              "[Row(age=59, job='admin.', marital='married', education='secondary', default='no', balance=2343, housing='yes', loan='no', contact='unknown', day=5, month='may', duration=1042, campaign=1, pdays=-1, previous=0, poutcome='unknown', deposit='yes')]"
            ]
          },
          "metadata": {
            "tags": []
          },
          "execution_count": 80
        }
      ]
    },
    {
      "cell_type": "code",
      "metadata": {
        "colab_type": "code",
        "id": "XJGWVc0yB0UA",
        "outputId": "8f687a8a-f462-46e8-fb67-c442b7da7b88",
        "colab": {
          "base_uri": "https://localhost:8080/",
          "height": 334
        }
      },
      "source": [
        "# check data distribution\n",
        "# you may use printSchema() \n",
        "df.printSchema()"
      ],
      "execution_count": 81,
      "outputs": [
        {
          "output_type": "stream",
          "text": [
            "root\n",
            " |-- age: integer (nullable = true)\n",
            " |-- job: string (nullable = true)\n",
            " |-- marital: string (nullable = true)\n",
            " |-- education: string (nullable = true)\n",
            " |-- default: string (nullable = true)\n",
            " |-- balance: integer (nullable = true)\n",
            " |-- housing: string (nullable = true)\n",
            " |-- loan: string (nullable = true)\n",
            " |-- contact: string (nullable = true)\n",
            " |-- day: integer (nullable = true)\n",
            " |-- month: string (nullable = true)\n",
            " |-- duration: integer (nullable = true)\n",
            " |-- campaign: integer (nullable = true)\n",
            " |-- pdays: integer (nullable = true)\n",
            " |-- previous: integer (nullable = true)\n",
            " |-- poutcome: string (nullable = true)\n",
            " |-- deposit: string (nullable = true)\n",
            "\n"
          ],
          "name": "stdout"
        }
      ]
    },
    {
      "cell_type": "markdown",
      "metadata": {
        "colab_type": "text",
        "id": "wKQMhrtFChHa"
      },
      "source": [
        "## 3. Select features"
      ]
    },
    {
      "cell_type": "code",
      "metadata": {
        "colab_type": "code",
        "id": "VU5xMqN_RyM2",
        "outputId": "faff342f-c7e9-41fc-8c08-5792c81efb9d",
        "colab": {
          "base_uri": "https://localhost:8080/",
          "height": 53
        }
      },
      "source": [
        "# select features ('age', 'job', 'marital', 'education', 'default', 'balance', 'housing', 'loan', 'campaign', 'pdays', 'previous', 'poutcome', 'deposit') as df2\n",
        "columns = ['age',\n",
        "           'job', \n",
        "           'marital',\n",
        "           'education',\n",
        "           'default', \n",
        "           'balance', \n",
        "           'housing',\n",
        "           'loan',\n",
        "           'campaign',\n",
        "           'pdays', \n",
        "           'previous',\n",
        "           'poutcome',\n",
        "           'deposit']\n",
        "df2 = df.select([c for c in df.columns if c in columns])\n",
        "df2.head(1)"
      ],
      "execution_count": 82,
      "outputs": [
        {
          "output_type": "execute_result",
          "data": {
            "text/plain": [
              "[Row(age=59, job='admin.', marital='married', education='secondary', default='no', balance=2343, housing='yes', loan='no', campaign=1, pdays=-1, previous=0, poutcome='unknown', deposit='yes')]"
            ]
          },
          "metadata": {
            "tags": []
          },
          "execution_count": 82
        }
      ]
    },
    {
      "cell_type": "code",
      "metadata": {
        "colab_type": "code",
        "id": "vwF5sqRYa_eI",
        "colab": {}
      },
      "source": [
        "# remove invalid rows/records using spark.sql \n",
        "df2 = df2.na.drop()"
      ],
      "execution_count": 0,
      "outputs": []
    },
    {
      "cell_type": "code",
      "metadata": {
        "colab_type": "code",
        "id": "A_T8qvxzR-oI",
        "outputId": "e1cf88c6-52d7-4043-9255-30fe1a370d93",
        "colab": {
          "base_uri": "https://localhost:8080/",
          "height": 639
        }
      },
      "source": [
        "# convert categorical features to numeric features  using One hot encoding, \n",
        "from pyspark.ml import Pipeline\n",
        "\n",
        "from pyspark.ml.feature import StringIndexer, OneHotEncoderEstimator, VectorAssembler, OneHotEncoder\n",
        "\n",
        "cols = [\"job\", \n",
        "        \"marital\",\n",
        "        \"education\",\n",
        "        \"default\",\n",
        "        \"housing\",\n",
        "        \"loan\",\n",
        "        \"poutcome\",\n",
        "        \"deposit\"]\n",
        "\n",
        "for col in cols:\n",
        "  stringIndexer = StringIndexer(inputCol=col, outputCol=\"{}Index\".format(col))\n",
        "  model = stringIndexer.fit(df2)\n",
        "  indexed = model.transform(df2)\n",
        "\n",
        "  encoder = OneHotEncoder(inputCol=\"{}Index\".format(col), outputCol=\"{}Vec\".format(col))\n",
        "  df2 = encoder.transform(indexed)\n",
        "  \n",
        "df2.show(30)"
      ],
      "execution_count": 84,
      "outputs": [
        {
          "output_type": "stream",
          "text": [
            "+---+-----------+--------+---------+-------+-------+-------+----+--------+-----+--------+--------+-------+--------+--------------+------------+-------------+--------------+-------------+------------+-------------+------------+-------------+---------+-------------+-------------+-------------+------------+----------+\n",
            "|age|        job| marital|education|default|balance|housing|loan|campaign|pdays|previous|poutcome|deposit|jobIndex|        jobVec|maritalIndex|   maritalVec|educationIndex| educationVec|defaultIndex|   defaultVec|housingIndex|   housingVec|loanIndex|      loanVec|poutcomeIndex|  poutcomeVec|depositIndex|depositVec|\n",
            "+---+-----------+--------+---------+-------+-------+-------+----+--------+-----+--------+--------+-------+--------+--------------+------------+-------------+--------------+-------------+------------+-------------+------------+-------------+---------+-------------+-------------+-------------+------------+----------+\n",
            "| 59|     admin.| married|secondary|     no|   2343|    yes|  no|       1|   -1|       0| unknown|    yes|     3.0|(11,[3],[1.0])|         0.0|(2,[0],[1.0])|           0.0|(3,[0],[1.0])|         0.0|(1,[0],[1.0])|         1.0|    (1,[],[])|      0.0|(1,[0],[1.0])|          0.0|(3,[0],[1.0])|         1.0| (1,[],[])|\n",
            "| 56|     admin.| married|secondary|     no|     45|     no|  no|       1|   -1|       0| unknown|    yes|     3.0|(11,[3],[1.0])|         0.0|(2,[0],[1.0])|           0.0|(3,[0],[1.0])|         0.0|(1,[0],[1.0])|         0.0|(1,[0],[1.0])|      0.0|(1,[0],[1.0])|          0.0|(3,[0],[1.0])|         1.0| (1,[],[])|\n",
            "| 41| technician| married|secondary|     no|   1270|    yes|  no|       1|   -1|       0| unknown|    yes|     2.0|(11,[2],[1.0])|         0.0|(2,[0],[1.0])|           0.0|(3,[0],[1.0])|         0.0|(1,[0],[1.0])|         1.0|    (1,[],[])|      0.0|(1,[0],[1.0])|          0.0|(3,[0],[1.0])|         1.0| (1,[],[])|\n",
            "| 55|   services| married|secondary|     no|   2476|    yes|  no|       1|   -1|       0| unknown|    yes|     4.0|(11,[4],[1.0])|         0.0|(2,[0],[1.0])|           0.0|(3,[0],[1.0])|         0.0|(1,[0],[1.0])|         1.0|    (1,[],[])|      0.0|(1,[0],[1.0])|          0.0|(3,[0],[1.0])|         1.0| (1,[],[])|\n",
            "| 54|     admin.| married| tertiary|     no|    184|     no|  no|       2|   -1|       0| unknown|    yes|     3.0|(11,[3],[1.0])|         0.0|(2,[0],[1.0])|           1.0|(3,[1],[1.0])|         0.0|(1,[0],[1.0])|         0.0|(1,[0],[1.0])|      0.0|(1,[0],[1.0])|          0.0|(3,[0],[1.0])|         1.0| (1,[],[])|\n",
            "| 42| management|  single| tertiary|     no|      0|    yes| yes|       2|   -1|       0| unknown|    yes|     0.0|(11,[0],[1.0])|         1.0|(2,[1],[1.0])|           1.0|(3,[1],[1.0])|         0.0|(1,[0],[1.0])|         1.0|    (1,[],[])|      1.0|    (1,[],[])|          0.0|(3,[0],[1.0])|         1.0| (1,[],[])|\n",
            "| 56| management| married| tertiary|     no|    830|    yes| yes|       1|   -1|       0| unknown|    yes|     0.0|(11,[0],[1.0])|         0.0|(2,[0],[1.0])|           1.0|(3,[1],[1.0])|         0.0|(1,[0],[1.0])|         1.0|    (1,[],[])|      1.0|    (1,[],[])|          0.0|(3,[0],[1.0])|         1.0| (1,[],[])|\n",
            "| 60|    retired|divorced|secondary|     no|    545|    yes|  no|       1|   -1|       0| unknown|    yes|     5.0|(11,[5],[1.0])|         2.0|    (2,[],[])|           0.0|(3,[0],[1.0])|         0.0|(1,[0],[1.0])|         1.0|    (1,[],[])|      0.0|(1,[0],[1.0])|          0.0|(3,[0],[1.0])|         1.0| (1,[],[])|\n",
            "| 37| technician| married|secondary|     no|      1|    yes|  no|       1|   -1|       0| unknown|    yes|     2.0|(11,[2],[1.0])|         0.0|(2,[0],[1.0])|           0.0|(3,[0],[1.0])|         0.0|(1,[0],[1.0])|         1.0|    (1,[],[])|      0.0|(1,[0],[1.0])|          0.0|(3,[0],[1.0])|         1.0| (1,[],[])|\n",
            "| 28|   services|  single|secondary|     no|   5090|    yes|  no|       3|   -1|       0| unknown|    yes|     4.0|(11,[4],[1.0])|         1.0|(2,[1],[1.0])|           0.0|(3,[0],[1.0])|         0.0|(1,[0],[1.0])|         1.0|    (1,[],[])|      0.0|(1,[0],[1.0])|          0.0|(3,[0],[1.0])|         1.0| (1,[],[])|\n",
            "| 38|     admin.|  single|secondary|     no|    100|    yes|  no|       1|   -1|       0| unknown|    yes|     3.0|(11,[3],[1.0])|         1.0|(2,[1],[1.0])|           0.0|(3,[0],[1.0])|         0.0|(1,[0],[1.0])|         1.0|    (1,[],[])|      0.0|(1,[0],[1.0])|          0.0|(3,[0],[1.0])|         1.0| (1,[],[])|\n",
            "| 30|blue-collar| married|secondary|     no|    309|    yes|  no|       2|   -1|       0| unknown|    yes|     1.0|(11,[1],[1.0])|         0.0|(2,[0],[1.0])|           0.0|(3,[0],[1.0])|         0.0|(1,[0],[1.0])|         1.0|    (1,[],[])|      0.0|(1,[0],[1.0])|          0.0|(3,[0],[1.0])|         1.0| (1,[],[])|\n",
            "| 29| management| married| tertiary|     no|    199|    yes| yes|       4|   -1|       0| unknown|    yes|     0.0|(11,[0],[1.0])|         0.0|(2,[0],[1.0])|           1.0|(3,[1],[1.0])|         0.0|(1,[0],[1.0])|         1.0|    (1,[],[])|      1.0|    (1,[],[])|          0.0|(3,[0],[1.0])|         1.0| (1,[],[])|\n",
            "| 46|blue-collar|  single| tertiary|     no|    460|    yes|  no|       2|   -1|       0| unknown|    yes|     1.0|(11,[1],[1.0])|         1.0|(2,[1],[1.0])|           1.0|(3,[1],[1.0])|         0.0|(1,[0],[1.0])|         1.0|    (1,[],[])|      0.0|(1,[0],[1.0])|          0.0|(3,[0],[1.0])|         1.0| (1,[],[])|\n",
            "| 31| technician|  single| tertiary|     no|    703|    yes|  no|       2|   -1|       0| unknown|    yes|     2.0|(11,[2],[1.0])|         1.0|(2,[1],[1.0])|           1.0|(3,[1],[1.0])|         0.0|(1,[0],[1.0])|         1.0|    (1,[],[])|      0.0|(1,[0],[1.0])|          0.0|(3,[0],[1.0])|         1.0| (1,[],[])|\n",
            "| 35| management|divorced| tertiary|     no|   3837|    yes|  no|       1|   -1|       0| unknown|    yes|     0.0|(11,[0],[1.0])|         2.0|    (2,[],[])|           1.0|(3,[1],[1.0])|         0.0|(1,[0],[1.0])|         1.0|    (1,[],[])|      0.0|(1,[0],[1.0])|          0.0|(3,[0],[1.0])|         1.0| (1,[],[])|\n",
            "| 32|blue-collar|  single|  primary|     no|    611|    yes|  no|       3|   -1|       0| unknown|    yes|     1.0|(11,[1],[1.0])|         1.0|(2,[1],[1.0])|           2.0|(3,[2],[1.0])|         0.0|(1,[0],[1.0])|         1.0|    (1,[],[])|      0.0|(1,[0],[1.0])|          0.0|(3,[0],[1.0])|         1.0| (1,[],[])|\n",
            "| 49|   services| married|secondary|     no|     -8|    yes|  no|       1|   -1|       0| unknown|    yes|     4.0|(11,[4],[1.0])|         0.0|(2,[0],[1.0])|           0.0|(3,[0],[1.0])|         0.0|(1,[0],[1.0])|         1.0|    (1,[],[])|      0.0|(1,[0],[1.0])|          0.0|(3,[0],[1.0])|         1.0| (1,[],[])|\n",
            "| 41|     admin.| married|secondary|     no|     55|    yes|  no|       2|   -1|       0| unknown|    yes|     3.0|(11,[3],[1.0])|         0.0|(2,[0],[1.0])|           0.0|(3,[0],[1.0])|         0.0|(1,[0],[1.0])|         1.0|    (1,[],[])|      0.0|(1,[0],[1.0])|          0.0|(3,[0],[1.0])|         1.0| (1,[],[])|\n",
            "| 49|     admin.|divorced|secondary|     no|    168|    yes| yes|       1|   -1|       0| unknown|    yes|     3.0|(11,[3],[1.0])|         2.0|    (2,[],[])|           0.0|(3,[0],[1.0])|         0.0|(1,[0],[1.0])|         1.0|    (1,[],[])|      1.0|    (1,[],[])|          0.0|(3,[0],[1.0])|         1.0| (1,[],[])|\n",
            "| 28|     admin.|divorced|secondary|     no|    785|    yes|  no|       2|   -1|       0| unknown|    yes|     3.0|(11,[3],[1.0])|         2.0|    (2,[],[])|           0.0|(3,[0],[1.0])|         0.0|(1,[0],[1.0])|         1.0|    (1,[],[])|      0.0|(1,[0],[1.0])|          0.0|(3,[0],[1.0])|         1.0| (1,[],[])|\n",
            "| 43| management|  single| tertiary|     no|   2067|    yes|  no|       1|   -1|       0| unknown|    yes|     0.0|(11,[0],[1.0])|         1.0|(2,[1],[1.0])|           1.0|(3,[1],[1.0])|         0.0|(1,[0],[1.0])|         1.0|    (1,[],[])|      0.0|(1,[0],[1.0])|          0.0|(3,[0],[1.0])|         1.0| (1,[],[])|\n",
            "| 43| management|divorced| tertiary|     no|    388|    yes|  no|       2|   -1|       0| unknown|    yes|     0.0|(11,[0],[1.0])|         2.0|    (2,[],[])|           1.0|(3,[1],[1.0])|         0.0|(1,[0],[1.0])|         1.0|    (1,[],[])|      0.0|(1,[0],[1.0])|          0.0|(3,[0],[1.0])|         1.0| (1,[],[])|\n",
            "| 43|blue-collar| married|  primary|     no|   -192|    yes|  no|       2|   -1|       0| unknown|    yes|     1.0|(11,[1],[1.0])|         0.0|(2,[0],[1.0])|           2.0|(3,[2],[1.0])|         0.0|(1,[0],[1.0])|         1.0|    (1,[],[])|      0.0|(1,[0],[1.0])|          0.0|(3,[0],[1.0])|         1.0| (1,[],[])|\n",
            "| 37| unemployed|  single|secondary|     no|    381|    yes|  no|       2|   -1|       0| unknown|    yes|     8.0|(11,[8],[1.0])|         1.0|(2,[1],[1.0])|           0.0|(3,[0],[1.0])|         0.0|(1,[0],[1.0])|         1.0|    (1,[],[])|      0.0|(1,[0],[1.0])|          0.0|(3,[0],[1.0])|         1.0| (1,[],[])|\n",
            "| 35|blue-collar|  single|secondary|     no|     40|    yes|  no|       4|   -1|       0| unknown|    yes|     1.0|(11,[1],[1.0])|         1.0|(2,[1],[1.0])|           0.0|(3,[0],[1.0])|         0.0|(1,[0],[1.0])|         1.0|    (1,[],[])|      0.0|(1,[0],[1.0])|          0.0|(3,[0],[1.0])|         1.0| (1,[],[])|\n",
            "| 31| technician|  single| tertiary|     no|     22|    yes|  no|       3|   -1|       0| unknown|    yes|     2.0|(11,[2],[1.0])|         1.0|(2,[1],[1.0])|           1.0|(3,[1],[1.0])|         0.0|(1,[0],[1.0])|         1.0|    (1,[],[])|      0.0|(1,[0],[1.0])|          0.0|(3,[0],[1.0])|         1.0| (1,[],[])|\n",
            "| 43|blue-collar|  single|secondary|     no|      3|    yes|  no|       3|   -1|       0| unknown|    yes|     1.0|(11,[1],[1.0])|         1.0|(2,[1],[1.0])|           0.0|(3,[0],[1.0])|         0.0|(1,[0],[1.0])|         1.0|    (1,[],[])|      0.0|(1,[0],[1.0])|          0.0|(3,[0],[1.0])|         1.0| (1,[],[])|\n",
            "| 31|     admin.| married|secondary|     no|    307|    yes|  no|       1|   -1|       0| unknown|    yes|     3.0|(11,[3],[1.0])|         0.0|(2,[0],[1.0])|           0.0|(3,[0],[1.0])|         0.0|(1,[0],[1.0])|         1.0|    (1,[],[])|      0.0|(1,[0],[1.0])|          0.0|(3,[0],[1.0])|         1.0| (1,[],[])|\n",
            "| 28|blue-collar|  single|secondary|     no|    759|    yes|  no|       1|   -1|       0| unknown|    yes|     1.0|(11,[1],[1.0])|         1.0|(2,[1],[1.0])|           0.0|(3,[0],[1.0])|         0.0|(1,[0],[1.0])|         1.0|    (1,[],[])|      0.0|(1,[0],[1.0])|          0.0|(3,[0],[1.0])|         1.0| (1,[],[])|\n",
            "+---+-----------+--------+---------+-------+-------+-------+----+--------+-----+--------+--------+-------+--------+--------------+------------+-------------+--------------+-------------+------------+-------------+------------+-------------+---------+-------------+-------------+-------------+------------+----------+\n",
            "only showing top 30 rows\n",
            "\n"
          ],
          "name": "stdout"
        }
      ]
    },
    {
      "cell_type": "markdown",
      "metadata": {
        "colab_type": "text",
        "id": "pOqHERYJCQuC"
      },
      "source": [
        "### 3.1 normalisation"
      ]
    },
    {
      "cell_type": "code",
      "metadata": {
        "id": "5p-VF7zqJNr5",
        "colab_type": "code",
        "outputId": "82ef8130-0e92-483b-d985-09ed318d0165",
        "colab": {
          "base_uri": "https://localhost:8080/",
          "height": 639
        }
      },
      "source": [
        "numeric_variables = [\n",
        "    'age',\n",
        "    'balance',\n",
        "    'pdays',\n",
        "    'previous'\n",
        "]\n",
        "\n",
        "\n",
        "vecAssembler = VectorAssembler(inputCols=numeric_variables, outputCol=\"nums\")\n",
        "df2 = vecAssembler.transform(df2)\n",
        "df2.show(30)"
      ],
      "execution_count": 85,
      "outputs": [
        {
          "output_type": "stream",
          "text": [
            "+---+-----------+--------+---------+-------+-------+-------+----+--------+-----+--------+--------+-------+--------+--------------+------------+-------------+--------------+-------------+------------+-------------+------------+-------------+---------+-------------+-------------+-------------+------------+----------+--------------------+\n",
            "|age|        job| marital|education|default|balance|housing|loan|campaign|pdays|previous|poutcome|deposit|jobIndex|        jobVec|maritalIndex|   maritalVec|educationIndex| educationVec|defaultIndex|   defaultVec|housingIndex|   housingVec|loanIndex|      loanVec|poutcomeIndex|  poutcomeVec|depositIndex|depositVec|                nums|\n",
            "+---+-----------+--------+---------+-------+-------+-------+----+--------+-----+--------+--------+-------+--------+--------------+------------+-------------+--------------+-------------+------------+-------------+------------+-------------+---------+-------------+-------------+-------------+------------+----------+--------------------+\n",
            "| 59|     admin.| married|secondary|     no|   2343|    yes|  no|       1|   -1|       0| unknown|    yes|     3.0|(11,[3],[1.0])|         0.0|(2,[0],[1.0])|           0.0|(3,[0],[1.0])|         0.0|(1,[0],[1.0])|         1.0|    (1,[],[])|      0.0|(1,[0],[1.0])|          0.0|(3,[0],[1.0])|         1.0| (1,[],[])|[59.0,2343.0,-1.0...|\n",
            "| 56|     admin.| married|secondary|     no|     45|     no|  no|       1|   -1|       0| unknown|    yes|     3.0|(11,[3],[1.0])|         0.0|(2,[0],[1.0])|           0.0|(3,[0],[1.0])|         0.0|(1,[0],[1.0])|         0.0|(1,[0],[1.0])|      0.0|(1,[0],[1.0])|          0.0|(3,[0],[1.0])|         1.0| (1,[],[])|[56.0,45.0,-1.0,0.0]|\n",
            "| 41| technician| married|secondary|     no|   1270|    yes|  no|       1|   -1|       0| unknown|    yes|     2.0|(11,[2],[1.0])|         0.0|(2,[0],[1.0])|           0.0|(3,[0],[1.0])|         0.0|(1,[0],[1.0])|         1.0|    (1,[],[])|      0.0|(1,[0],[1.0])|          0.0|(3,[0],[1.0])|         1.0| (1,[],[])|[41.0,1270.0,-1.0...|\n",
            "| 55|   services| married|secondary|     no|   2476|    yes|  no|       1|   -1|       0| unknown|    yes|     4.0|(11,[4],[1.0])|         0.0|(2,[0],[1.0])|           0.0|(3,[0],[1.0])|         0.0|(1,[0],[1.0])|         1.0|    (1,[],[])|      0.0|(1,[0],[1.0])|          0.0|(3,[0],[1.0])|         1.0| (1,[],[])|[55.0,2476.0,-1.0...|\n",
            "| 54|     admin.| married| tertiary|     no|    184|     no|  no|       2|   -1|       0| unknown|    yes|     3.0|(11,[3],[1.0])|         0.0|(2,[0],[1.0])|           1.0|(3,[1],[1.0])|         0.0|(1,[0],[1.0])|         0.0|(1,[0],[1.0])|      0.0|(1,[0],[1.0])|          0.0|(3,[0],[1.0])|         1.0| (1,[],[])|[54.0,184.0,-1.0,...|\n",
            "| 42| management|  single| tertiary|     no|      0|    yes| yes|       2|   -1|       0| unknown|    yes|     0.0|(11,[0],[1.0])|         1.0|(2,[1],[1.0])|           1.0|(3,[1],[1.0])|         0.0|(1,[0],[1.0])|         1.0|    (1,[],[])|      1.0|    (1,[],[])|          0.0|(3,[0],[1.0])|         1.0| (1,[],[])| [42.0,0.0,-1.0,0.0]|\n",
            "| 56| management| married| tertiary|     no|    830|    yes| yes|       1|   -1|       0| unknown|    yes|     0.0|(11,[0],[1.0])|         0.0|(2,[0],[1.0])|           1.0|(3,[1],[1.0])|         0.0|(1,[0],[1.0])|         1.0|    (1,[],[])|      1.0|    (1,[],[])|          0.0|(3,[0],[1.0])|         1.0| (1,[],[])|[56.0,830.0,-1.0,...|\n",
            "| 60|    retired|divorced|secondary|     no|    545|    yes|  no|       1|   -1|       0| unknown|    yes|     5.0|(11,[5],[1.0])|         2.0|    (2,[],[])|           0.0|(3,[0],[1.0])|         0.0|(1,[0],[1.0])|         1.0|    (1,[],[])|      0.0|(1,[0],[1.0])|          0.0|(3,[0],[1.0])|         1.0| (1,[],[])|[60.0,545.0,-1.0,...|\n",
            "| 37| technician| married|secondary|     no|      1|    yes|  no|       1|   -1|       0| unknown|    yes|     2.0|(11,[2],[1.0])|         0.0|(2,[0],[1.0])|           0.0|(3,[0],[1.0])|         0.0|(1,[0],[1.0])|         1.0|    (1,[],[])|      0.0|(1,[0],[1.0])|          0.0|(3,[0],[1.0])|         1.0| (1,[],[])| [37.0,1.0,-1.0,0.0]|\n",
            "| 28|   services|  single|secondary|     no|   5090|    yes|  no|       3|   -1|       0| unknown|    yes|     4.0|(11,[4],[1.0])|         1.0|(2,[1],[1.0])|           0.0|(3,[0],[1.0])|         0.0|(1,[0],[1.0])|         1.0|    (1,[],[])|      0.0|(1,[0],[1.0])|          0.0|(3,[0],[1.0])|         1.0| (1,[],[])|[28.0,5090.0,-1.0...|\n",
            "| 38|     admin.|  single|secondary|     no|    100|    yes|  no|       1|   -1|       0| unknown|    yes|     3.0|(11,[3],[1.0])|         1.0|(2,[1],[1.0])|           0.0|(3,[0],[1.0])|         0.0|(1,[0],[1.0])|         1.0|    (1,[],[])|      0.0|(1,[0],[1.0])|          0.0|(3,[0],[1.0])|         1.0| (1,[],[])|[38.0,100.0,-1.0,...|\n",
            "| 30|blue-collar| married|secondary|     no|    309|    yes|  no|       2|   -1|       0| unknown|    yes|     1.0|(11,[1],[1.0])|         0.0|(2,[0],[1.0])|           0.0|(3,[0],[1.0])|         0.0|(1,[0],[1.0])|         1.0|    (1,[],[])|      0.0|(1,[0],[1.0])|          0.0|(3,[0],[1.0])|         1.0| (1,[],[])|[30.0,309.0,-1.0,...|\n",
            "| 29| management| married| tertiary|     no|    199|    yes| yes|       4|   -1|       0| unknown|    yes|     0.0|(11,[0],[1.0])|         0.0|(2,[0],[1.0])|           1.0|(3,[1],[1.0])|         0.0|(1,[0],[1.0])|         1.0|    (1,[],[])|      1.0|    (1,[],[])|          0.0|(3,[0],[1.0])|         1.0| (1,[],[])|[29.0,199.0,-1.0,...|\n",
            "| 46|blue-collar|  single| tertiary|     no|    460|    yes|  no|       2|   -1|       0| unknown|    yes|     1.0|(11,[1],[1.0])|         1.0|(2,[1],[1.0])|           1.0|(3,[1],[1.0])|         0.0|(1,[0],[1.0])|         1.0|    (1,[],[])|      0.0|(1,[0],[1.0])|          0.0|(3,[0],[1.0])|         1.0| (1,[],[])|[46.0,460.0,-1.0,...|\n",
            "| 31| technician|  single| tertiary|     no|    703|    yes|  no|       2|   -1|       0| unknown|    yes|     2.0|(11,[2],[1.0])|         1.0|(2,[1],[1.0])|           1.0|(3,[1],[1.0])|         0.0|(1,[0],[1.0])|         1.0|    (1,[],[])|      0.0|(1,[0],[1.0])|          0.0|(3,[0],[1.0])|         1.0| (1,[],[])|[31.0,703.0,-1.0,...|\n",
            "| 35| management|divorced| tertiary|     no|   3837|    yes|  no|       1|   -1|       0| unknown|    yes|     0.0|(11,[0],[1.0])|         2.0|    (2,[],[])|           1.0|(3,[1],[1.0])|         0.0|(1,[0],[1.0])|         1.0|    (1,[],[])|      0.0|(1,[0],[1.0])|          0.0|(3,[0],[1.0])|         1.0| (1,[],[])|[35.0,3837.0,-1.0...|\n",
            "| 32|blue-collar|  single|  primary|     no|    611|    yes|  no|       3|   -1|       0| unknown|    yes|     1.0|(11,[1],[1.0])|         1.0|(2,[1],[1.0])|           2.0|(3,[2],[1.0])|         0.0|(1,[0],[1.0])|         1.0|    (1,[],[])|      0.0|(1,[0],[1.0])|          0.0|(3,[0],[1.0])|         1.0| (1,[],[])|[32.0,611.0,-1.0,...|\n",
            "| 49|   services| married|secondary|     no|     -8|    yes|  no|       1|   -1|       0| unknown|    yes|     4.0|(11,[4],[1.0])|         0.0|(2,[0],[1.0])|           0.0|(3,[0],[1.0])|         0.0|(1,[0],[1.0])|         1.0|    (1,[],[])|      0.0|(1,[0],[1.0])|          0.0|(3,[0],[1.0])|         1.0| (1,[],[])|[49.0,-8.0,-1.0,0.0]|\n",
            "| 41|     admin.| married|secondary|     no|     55|    yes|  no|       2|   -1|       0| unknown|    yes|     3.0|(11,[3],[1.0])|         0.0|(2,[0],[1.0])|           0.0|(3,[0],[1.0])|         0.0|(1,[0],[1.0])|         1.0|    (1,[],[])|      0.0|(1,[0],[1.0])|          0.0|(3,[0],[1.0])|         1.0| (1,[],[])|[41.0,55.0,-1.0,0.0]|\n",
            "| 49|     admin.|divorced|secondary|     no|    168|    yes| yes|       1|   -1|       0| unknown|    yes|     3.0|(11,[3],[1.0])|         2.0|    (2,[],[])|           0.0|(3,[0],[1.0])|         0.0|(1,[0],[1.0])|         1.0|    (1,[],[])|      1.0|    (1,[],[])|          0.0|(3,[0],[1.0])|         1.0| (1,[],[])|[49.0,168.0,-1.0,...|\n",
            "| 28|     admin.|divorced|secondary|     no|    785|    yes|  no|       2|   -1|       0| unknown|    yes|     3.0|(11,[3],[1.0])|         2.0|    (2,[],[])|           0.0|(3,[0],[1.0])|         0.0|(1,[0],[1.0])|         1.0|    (1,[],[])|      0.0|(1,[0],[1.0])|          0.0|(3,[0],[1.0])|         1.0| (1,[],[])|[28.0,785.0,-1.0,...|\n",
            "| 43| management|  single| tertiary|     no|   2067|    yes|  no|       1|   -1|       0| unknown|    yes|     0.0|(11,[0],[1.0])|         1.0|(2,[1],[1.0])|           1.0|(3,[1],[1.0])|         0.0|(1,[0],[1.0])|         1.0|    (1,[],[])|      0.0|(1,[0],[1.0])|          0.0|(3,[0],[1.0])|         1.0| (1,[],[])|[43.0,2067.0,-1.0...|\n",
            "| 43| management|divorced| tertiary|     no|    388|    yes|  no|       2|   -1|       0| unknown|    yes|     0.0|(11,[0],[1.0])|         2.0|    (2,[],[])|           1.0|(3,[1],[1.0])|         0.0|(1,[0],[1.0])|         1.0|    (1,[],[])|      0.0|(1,[0],[1.0])|          0.0|(3,[0],[1.0])|         1.0| (1,[],[])|[43.0,388.0,-1.0,...|\n",
            "| 43|blue-collar| married|  primary|     no|   -192|    yes|  no|       2|   -1|       0| unknown|    yes|     1.0|(11,[1],[1.0])|         0.0|(2,[0],[1.0])|           2.0|(3,[2],[1.0])|         0.0|(1,[0],[1.0])|         1.0|    (1,[],[])|      0.0|(1,[0],[1.0])|          0.0|(3,[0],[1.0])|         1.0| (1,[],[])|[43.0,-192.0,-1.0...|\n",
            "| 37| unemployed|  single|secondary|     no|    381|    yes|  no|       2|   -1|       0| unknown|    yes|     8.0|(11,[8],[1.0])|         1.0|(2,[1],[1.0])|           0.0|(3,[0],[1.0])|         0.0|(1,[0],[1.0])|         1.0|    (1,[],[])|      0.0|(1,[0],[1.0])|          0.0|(3,[0],[1.0])|         1.0| (1,[],[])|[37.0,381.0,-1.0,...|\n",
            "| 35|blue-collar|  single|secondary|     no|     40|    yes|  no|       4|   -1|       0| unknown|    yes|     1.0|(11,[1],[1.0])|         1.0|(2,[1],[1.0])|           0.0|(3,[0],[1.0])|         0.0|(1,[0],[1.0])|         1.0|    (1,[],[])|      0.0|(1,[0],[1.0])|          0.0|(3,[0],[1.0])|         1.0| (1,[],[])|[35.0,40.0,-1.0,0.0]|\n",
            "| 31| technician|  single| tertiary|     no|     22|    yes|  no|       3|   -1|       0| unknown|    yes|     2.0|(11,[2],[1.0])|         1.0|(2,[1],[1.0])|           1.0|(3,[1],[1.0])|         0.0|(1,[0],[1.0])|         1.0|    (1,[],[])|      0.0|(1,[0],[1.0])|          0.0|(3,[0],[1.0])|         1.0| (1,[],[])|[31.0,22.0,-1.0,0.0]|\n",
            "| 43|blue-collar|  single|secondary|     no|      3|    yes|  no|       3|   -1|       0| unknown|    yes|     1.0|(11,[1],[1.0])|         1.0|(2,[1],[1.0])|           0.0|(3,[0],[1.0])|         0.0|(1,[0],[1.0])|         1.0|    (1,[],[])|      0.0|(1,[0],[1.0])|          0.0|(3,[0],[1.0])|         1.0| (1,[],[])| [43.0,3.0,-1.0,0.0]|\n",
            "| 31|     admin.| married|secondary|     no|    307|    yes|  no|       1|   -1|       0| unknown|    yes|     3.0|(11,[3],[1.0])|         0.0|(2,[0],[1.0])|           0.0|(3,[0],[1.0])|         0.0|(1,[0],[1.0])|         1.0|    (1,[],[])|      0.0|(1,[0],[1.0])|          0.0|(3,[0],[1.0])|         1.0| (1,[],[])|[31.0,307.0,-1.0,...|\n",
            "| 28|blue-collar|  single|secondary|     no|    759|    yes|  no|       1|   -1|       0| unknown|    yes|     1.0|(11,[1],[1.0])|         1.0|(2,[1],[1.0])|           0.0|(3,[0],[1.0])|         0.0|(1,[0],[1.0])|         1.0|    (1,[],[])|      0.0|(1,[0],[1.0])|          0.0|(3,[0],[1.0])|         1.0| (1,[],[])|[28.0,759.0,-1.0,...|\n",
            "+---+-----------+--------+---------+-------+-------+-------+----+--------+-----+--------+--------+-------+--------+--------------+------------+-------------+--------------+-------------+------------+-------------+------------+-------------+---------+-------------+-------------+-------------+------------+----------+--------------------+\n",
            "only showing top 30 rows\n",
            "\n"
          ],
          "name": "stdout"
        }
      ]
    },
    {
      "cell_type": "code",
      "metadata": {
        "colab_type": "code",
        "id": "cfL6_sca5VwI",
        "outputId": "e4b735f0-ef7e-4aea-dbda-63fc8114f747",
        "colab": {
          "base_uri": "https://localhost:8080/",
          "height": 639
        }
      },
      "source": [
        "# then apply Min-Max normalisation on each attribute using MinMaxScaler  \n",
        "from pyspark.ml.feature import MinMaxScaler\n",
        "  \n",
        "scaler = MinMaxScaler(inputCol=\"nums\", outputCol=\"scaledNums\")\n",
        "\n",
        "# Compute summary statistics and generate MinMaxScalerModel\n",
        "scalerModel = scaler.fit(df2)\n",
        "\n",
        "# rescale each feature to range [min, max].\n",
        "df2 = scalerModel.transform(df2)\n",
        "\n",
        "df2.show(30)"
      ],
      "execution_count": 86,
      "outputs": [
        {
          "output_type": "stream",
          "text": [
            "+---+-----------+--------+---------+-------+-------+-------+----+--------+-----+--------+--------+-------+--------+--------------+------------+-------------+--------------+-------------+------------+-------------+------------+-------------+---------+-------------+-------------+-------------+------------+----------+--------------------+--------------------+\n",
            "|age|        job| marital|education|default|balance|housing|loan|campaign|pdays|previous|poutcome|deposit|jobIndex|        jobVec|maritalIndex|   maritalVec|educationIndex| educationVec|defaultIndex|   defaultVec|housingIndex|   housingVec|loanIndex|      loanVec|poutcomeIndex|  poutcomeVec|depositIndex|depositVec|                nums|          scaledNums|\n",
            "+---+-----------+--------+---------+-------+-------+-------+----+--------+-----+--------+--------+-------+--------+--------------+------------+-------------+--------------+-------------+------------+-------------+------------+-------------+---------+-------------+-------------+-------------+------------+----------+--------------------+--------------------+\n",
            "| 59|     admin.| married|secondary|     no|   2343|    yes|  no|       1|   -1|       0| unknown|    yes|     3.0|(11,[3],[1.0])|         0.0|(2,[0],[1.0])|           0.0|(3,[0],[1.0])|         0.0|(1,[0],[1.0])|         1.0|    (1,[],[])|      0.0|(1,[0],[1.0])|          0.0|(3,[0],[1.0])|         1.0| (1,[],[])|[59.0,2343.0,-1.0...|[0.53246753246753...|\n",
            "| 56|     admin.| married|secondary|     no|     45|     no|  no|       1|   -1|       0| unknown|    yes|     3.0|(11,[3],[1.0])|         0.0|(2,[0],[1.0])|           0.0|(3,[0],[1.0])|         0.0|(1,[0],[1.0])|         0.0|(1,[0],[1.0])|      0.0|(1,[0],[1.0])|          0.0|(3,[0],[1.0])|         1.0| (1,[],[])|[56.0,45.0,-1.0,0.0]|[0.49350649350649...|\n",
            "| 41| technician| married|secondary|     no|   1270|    yes|  no|       1|   -1|       0| unknown|    yes|     2.0|(11,[2],[1.0])|         0.0|(2,[0],[1.0])|           0.0|(3,[0],[1.0])|         0.0|(1,[0],[1.0])|         1.0|    (1,[],[])|      0.0|(1,[0],[1.0])|          0.0|(3,[0],[1.0])|         1.0| (1,[],[])|[41.0,1270.0,-1.0...|[0.29870129870129...|\n",
            "| 55|   services| married|secondary|     no|   2476|    yes|  no|       1|   -1|       0| unknown|    yes|     4.0|(11,[4],[1.0])|         0.0|(2,[0],[1.0])|           0.0|(3,[0],[1.0])|         0.0|(1,[0],[1.0])|         1.0|    (1,[],[])|      0.0|(1,[0],[1.0])|          0.0|(3,[0],[1.0])|         1.0| (1,[],[])|[55.0,2476.0,-1.0...|[0.48051948051948...|\n",
            "| 54|     admin.| married| tertiary|     no|    184|     no|  no|       2|   -1|       0| unknown|    yes|     3.0|(11,[3],[1.0])|         0.0|(2,[0],[1.0])|           1.0|(3,[1],[1.0])|         0.0|(1,[0],[1.0])|         0.0|(1,[0],[1.0])|      0.0|(1,[0],[1.0])|          0.0|(3,[0],[1.0])|         1.0| (1,[],[])|[54.0,184.0,-1.0,...|[0.46753246753246...|\n",
            "| 42| management|  single| tertiary|     no|      0|    yes| yes|       2|   -1|       0| unknown|    yes|     0.0|(11,[0],[1.0])|         1.0|(2,[1],[1.0])|           1.0|(3,[1],[1.0])|         0.0|(1,[0],[1.0])|         1.0|    (1,[],[])|      1.0|    (1,[],[])|          0.0|(3,[0],[1.0])|         1.0| (1,[],[])| [42.0,0.0,-1.0,0.0]|[0.31168831168831...|\n",
            "| 56| management| married| tertiary|     no|    830|    yes| yes|       1|   -1|       0| unknown|    yes|     0.0|(11,[0],[1.0])|         0.0|(2,[0],[1.0])|           1.0|(3,[1],[1.0])|         0.0|(1,[0],[1.0])|         1.0|    (1,[],[])|      1.0|    (1,[],[])|          0.0|(3,[0],[1.0])|         1.0| (1,[],[])|[56.0,830.0,-1.0,...|[0.49350649350649...|\n",
            "| 60|    retired|divorced|secondary|     no|    545|    yes|  no|       1|   -1|       0| unknown|    yes|     5.0|(11,[5],[1.0])|         2.0|    (2,[],[])|           0.0|(3,[0],[1.0])|         0.0|(1,[0],[1.0])|         1.0|    (1,[],[])|      0.0|(1,[0],[1.0])|          0.0|(3,[0],[1.0])|         1.0| (1,[],[])|[60.0,545.0,-1.0,...|[0.54545454545454...|\n",
            "| 37| technician| married|secondary|     no|      1|    yes|  no|       1|   -1|       0| unknown|    yes|     2.0|(11,[2],[1.0])|         0.0|(2,[0],[1.0])|           0.0|(3,[0],[1.0])|         0.0|(1,[0],[1.0])|         1.0|    (1,[],[])|      0.0|(1,[0],[1.0])|          0.0|(3,[0],[1.0])|         1.0| (1,[],[])| [37.0,1.0,-1.0,0.0]|[0.24675324675324...|\n",
            "| 28|   services|  single|secondary|     no|   5090|    yes|  no|       3|   -1|       0| unknown|    yes|     4.0|(11,[4],[1.0])|         1.0|(2,[1],[1.0])|           0.0|(3,[0],[1.0])|         0.0|(1,[0],[1.0])|         1.0|    (1,[],[])|      0.0|(1,[0],[1.0])|          0.0|(3,[0],[1.0])|         1.0| (1,[],[])|[28.0,5090.0,-1.0...|[0.12987012987012...|\n",
            "| 38|     admin.|  single|secondary|     no|    100|    yes|  no|       1|   -1|       0| unknown|    yes|     3.0|(11,[3],[1.0])|         1.0|(2,[1],[1.0])|           0.0|(3,[0],[1.0])|         0.0|(1,[0],[1.0])|         1.0|    (1,[],[])|      0.0|(1,[0],[1.0])|          0.0|(3,[0],[1.0])|         1.0| (1,[],[])|[38.0,100.0,-1.0,...|[0.25974025974025...|\n",
            "| 30|blue-collar| married|secondary|     no|    309|    yes|  no|       2|   -1|       0| unknown|    yes|     1.0|(11,[1],[1.0])|         0.0|(2,[0],[1.0])|           0.0|(3,[0],[1.0])|         0.0|(1,[0],[1.0])|         1.0|    (1,[],[])|      0.0|(1,[0],[1.0])|          0.0|(3,[0],[1.0])|         1.0| (1,[],[])|[30.0,309.0,-1.0,...|[0.15584415584415...|\n",
            "| 29| management| married| tertiary|     no|    199|    yes| yes|       4|   -1|       0| unknown|    yes|     0.0|(11,[0],[1.0])|         0.0|(2,[0],[1.0])|           1.0|(3,[1],[1.0])|         0.0|(1,[0],[1.0])|         1.0|    (1,[],[])|      1.0|    (1,[],[])|          0.0|(3,[0],[1.0])|         1.0| (1,[],[])|[29.0,199.0,-1.0,...|[0.14285714285714...|\n",
            "| 46|blue-collar|  single| tertiary|     no|    460|    yes|  no|       2|   -1|       0| unknown|    yes|     1.0|(11,[1],[1.0])|         1.0|(2,[1],[1.0])|           1.0|(3,[1],[1.0])|         0.0|(1,[0],[1.0])|         1.0|    (1,[],[])|      0.0|(1,[0],[1.0])|          0.0|(3,[0],[1.0])|         1.0| (1,[],[])|[46.0,460.0,-1.0,...|[0.36363636363636...|\n",
            "| 31| technician|  single| tertiary|     no|    703|    yes|  no|       2|   -1|       0| unknown|    yes|     2.0|(11,[2],[1.0])|         1.0|(2,[1],[1.0])|           1.0|(3,[1],[1.0])|         0.0|(1,[0],[1.0])|         1.0|    (1,[],[])|      0.0|(1,[0],[1.0])|          0.0|(3,[0],[1.0])|         1.0| (1,[],[])|[31.0,703.0,-1.0,...|[0.16883116883116...|\n",
            "| 35| management|divorced| tertiary|     no|   3837|    yes|  no|       1|   -1|       0| unknown|    yes|     0.0|(11,[0],[1.0])|         2.0|    (2,[],[])|           1.0|(3,[1],[1.0])|         0.0|(1,[0],[1.0])|         1.0|    (1,[],[])|      0.0|(1,[0],[1.0])|          0.0|(3,[0],[1.0])|         1.0| (1,[],[])|[35.0,3837.0,-1.0...|[0.22077922077922...|\n",
            "| 32|blue-collar|  single|  primary|     no|    611|    yes|  no|       3|   -1|       0| unknown|    yes|     1.0|(11,[1],[1.0])|         1.0|(2,[1],[1.0])|           2.0|(3,[2],[1.0])|         0.0|(1,[0],[1.0])|         1.0|    (1,[],[])|      0.0|(1,[0],[1.0])|          0.0|(3,[0],[1.0])|         1.0| (1,[],[])|[32.0,611.0,-1.0,...|[0.18181818181818...|\n",
            "| 49|   services| married|secondary|     no|     -8|    yes|  no|       1|   -1|       0| unknown|    yes|     4.0|(11,[4],[1.0])|         0.0|(2,[0],[1.0])|           0.0|(3,[0],[1.0])|         0.0|(1,[0],[1.0])|         1.0|    (1,[],[])|      0.0|(1,[0],[1.0])|          0.0|(3,[0],[1.0])|         1.0| (1,[],[])|[49.0,-8.0,-1.0,0.0]|[0.40259740259740...|\n",
            "| 41|     admin.| married|secondary|     no|     55|    yes|  no|       2|   -1|       0| unknown|    yes|     3.0|(11,[3],[1.0])|         0.0|(2,[0],[1.0])|           0.0|(3,[0],[1.0])|         0.0|(1,[0],[1.0])|         1.0|    (1,[],[])|      0.0|(1,[0],[1.0])|          0.0|(3,[0],[1.0])|         1.0| (1,[],[])|[41.0,55.0,-1.0,0.0]|[0.29870129870129...|\n",
            "| 49|     admin.|divorced|secondary|     no|    168|    yes| yes|       1|   -1|       0| unknown|    yes|     3.0|(11,[3],[1.0])|         2.0|    (2,[],[])|           0.0|(3,[0],[1.0])|         0.0|(1,[0],[1.0])|         1.0|    (1,[],[])|      1.0|    (1,[],[])|          0.0|(3,[0],[1.0])|         1.0| (1,[],[])|[49.0,168.0,-1.0,...|[0.40259740259740...|\n",
            "| 28|     admin.|divorced|secondary|     no|    785|    yes|  no|       2|   -1|       0| unknown|    yes|     3.0|(11,[3],[1.0])|         2.0|    (2,[],[])|           0.0|(3,[0],[1.0])|         0.0|(1,[0],[1.0])|         1.0|    (1,[],[])|      0.0|(1,[0],[1.0])|          0.0|(3,[0],[1.0])|         1.0| (1,[],[])|[28.0,785.0,-1.0,...|[0.12987012987012...|\n",
            "| 43| management|  single| tertiary|     no|   2067|    yes|  no|       1|   -1|       0| unknown|    yes|     0.0|(11,[0],[1.0])|         1.0|(2,[1],[1.0])|           1.0|(3,[1],[1.0])|         0.0|(1,[0],[1.0])|         1.0|    (1,[],[])|      0.0|(1,[0],[1.0])|          0.0|(3,[0],[1.0])|         1.0| (1,[],[])|[43.0,2067.0,-1.0...|[0.32467532467532...|\n",
            "| 43| management|divorced| tertiary|     no|    388|    yes|  no|       2|   -1|       0| unknown|    yes|     0.0|(11,[0],[1.0])|         2.0|    (2,[],[])|           1.0|(3,[1],[1.0])|         0.0|(1,[0],[1.0])|         1.0|    (1,[],[])|      0.0|(1,[0],[1.0])|          0.0|(3,[0],[1.0])|         1.0| (1,[],[])|[43.0,388.0,-1.0,...|[0.32467532467532...|\n",
            "| 43|blue-collar| married|  primary|     no|   -192|    yes|  no|       2|   -1|       0| unknown|    yes|     1.0|(11,[1],[1.0])|         0.0|(2,[0],[1.0])|           2.0|(3,[2],[1.0])|         0.0|(1,[0],[1.0])|         1.0|    (1,[],[])|      0.0|(1,[0],[1.0])|          0.0|(3,[0],[1.0])|         1.0| (1,[],[])|[43.0,-192.0,-1.0...|[0.32467532467532...|\n",
            "| 37| unemployed|  single|secondary|     no|    381|    yes|  no|       2|   -1|       0| unknown|    yes|     8.0|(11,[8],[1.0])|         1.0|(2,[1],[1.0])|           0.0|(3,[0],[1.0])|         0.0|(1,[0],[1.0])|         1.0|    (1,[],[])|      0.0|(1,[0],[1.0])|          0.0|(3,[0],[1.0])|         1.0| (1,[],[])|[37.0,381.0,-1.0,...|[0.24675324675324...|\n",
            "| 35|blue-collar|  single|secondary|     no|     40|    yes|  no|       4|   -1|       0| unknown|    yes|     1.0|(11,[1],[1.0])|         1.0|(2,[1],[1.0])|           0.0|(3,[0],[1.0])|         0.0|(1,[0],[1.0])|         1.0|    (1,[],[])|      0.0|(1,[0],[1.0])|          0.0|(3,[0],[1.0])|         1.0| (1,[],[])|[35.0,40.0,-1.0,0.0]|[0.22077922077922...|\n",
            "| 31| technician|  single| tertiary|     no|     22|    yes|  no|       3|   -1|       0| unknown|    yes|     2.0|(11,[2],[1.0])|         1.0|(2,[1],[1.0])|           1.0|(3,[1],[1.0])|         0.0|(1,[0],[1.0])|         1.0|    (1,[],[])|      0.0|(1,[0],[1.0])|          0.0|(3,[0],[1.0])|         1.0| (1,[],[])|[31.0,22.0,-1.0,0.0]|[0.16883116883116...|\n",
            "| 43|blue-collar|  single|secondary|     no|      3|    yes|  no|       3|   -1|       0| unknown|    yes|     1.0|(11,[1],[1.0])|         1.0|(2,[1],[1.0])|           0.0|(3,[0],[1.0])|         0.0|(1,[0],[1.0])|         1.0|    (1,[],[])|      0.0|(1,[0],[1.0])|          0.0|(3,[0],[1.0])|         1.0| (1,[],[])| [43.0,3.0,-1.0,0.0]|[0.32467532467532...|\n",
            "| 31|     admin.| married|secondary|     no|    307|    yes|  no|       1|   -1|       0| unknown|    yes|     3.0|(11,[3],[1.0])|         0.0|(2,[0],[1.0])|           0.0|(3,[0],[1.0])|         0.0|(1,[0],[1.0])|         1.0|    (1,[],[])|      0.0|(1,[0],[1.0])|          0.0|(3,[0],[1.0])|         1.0| (1,[],[])|[31.0,307.0,-1.0,...|[0.16883116883116...|\n",
            "| 28|blue-collar|  single|secondary|     no|    759|    yes|  no|       1|   -1|       0| unknown|    yes|     1.0|(11,[1],[1.0])|         1.0|(2,[1],[1.0])|           0.0|(3,[0],[1.0])|         0.0|(1,[0],[1.0])|         1.0|    (1,[],[])|      0.0|(1,[0],[1.0])|          0.0|(3,[0],[1.0])|         1.0| (1,[],[])|[28.0,759.0,-1.0,...|[0.12987012987012...|\n",
            "+---+-----------+--------+---------+-------+-------+-------+----+--------+-----+--------+--------+-------+--------+--------------+------------+-------------+--------------+-------------+------------+-------------+------------+-------------+---------+-------------+-------------+-------------+------------+----------+--------------------+--------------------+\n",
            "only showing top 30 rows\n",
            "\n"
          ],
          "name": "stdout"
        }
      ]
    },
    {
      "cell_type": "markdown",
      "metadata": {
        "colab_type": "text",
        "id": "9trUY7ZgCzhW"
      },
      "source": [
        "## 4. Unsupervised learning"
      ]
    },
    {
      "cell_type": "markdown",
      "metadata": {
        "colab_type": "text",
        "id": "KTQfUch2Cmmi"
      },
      "source": [
        "### 4.1 K-means"
      ]
    },
    {
      "cell_type": "code",
      "metadata": {
        "id": "sGVqbIXnK1xz",
        "colab_type": "code",
        "outputId": "7d1c4d04-38b7-4503-92a4-3fc551468777",
        "colab": {
          "base_uri": "https://localhost:8080/",
          "height": 452
        }
      },
      "source": [
        "df2 = df2.selectExpr('scaledNums as features')\n",
        "df2.show() "
      ],
      "execution_count": 88,
      "outputs": [
        {
          "output_type": "stream",
          "text": [
            "+--------------------+\n",
            "|            features|\n",
            "+--------------------+\n",
            "|[0.53246753246753...|\n",
            "|[0.49350649350649...|\n",
            "|[0.29870129870129...|\n",
            "|[0.48051948051948...|\n",
            "|[0.46753246753246...|\n",
            "|[0.31168831168831...|\n",
            "|[0.49350649350649...|\n",
            "|[0.54545454545454...|\n",
            "|[0.24675324675324...|\n",
            "|[0.12987012987012...|\n",
            "|[0.25974025974025...|\n",
            "|[0.15584415584415...|\n",
            "|[0.14285714285714...|\n",
            "|[0.36363636363636...|\n",
            "|[0.16883116883116...|\n",
            "|[0.22077922077922...|\n",
            "|[0.18181818181818...|\n",
            "|[0.40259740259740...|\n",
            "|[0.29870129870129...|\n",
            "|[0.40259740259740...|\n",
            "+--------------------+\n",
            "only showing top 20 rows\n",
            "\n"
          ],
          "name": "stdout"
        }
      ]
    },
    {
      "cell_type": "code",
      "metadata": {
        "colab_type": "code",
        "id": "dGGZI70Ohqgg",
        "outputId": "e5195343-4195-498d-e257-5ade9eb19120",
        "colab": {
          "base_uri": "https://localhost:8080/",
          "height": 84
        }
      },
      "source": [
        "# Perform unsupervised learning on df2 with k-means \n",
        "# you can use whole df2 as both training and testing data, \n",
        "# evaluate the clustering result using Accuracy.  \n",
        "\n",
        "from pyspark.ml.clustering import KMeans\n",
        "from pyspark.ml.evaluation import ClusteringEvaluator\n",
        "from pyspark.ml.evaluation import MulticlassClassificationEvaluator\n",
        "from pyspark.ml.evaluation import BinaryClassificationEvaluator\n",
        "\n",
        "\n",
        "# Trains a k-means model.\n",
        "kmeans = KMeans().setK(2).setSeed(1)\n",
        "model = kmeans.fit(df2)\n",
        "\n",
        "# Make predictions\n",
        "predictions = model.transform(df2)\n",
        "\n",
        "# Evaluate clustering by computing Silhouette score\n",
        "evaluator = ClusteringEvaluator()\n",
        "\n",
        "silhouette = evaluator.evaluate(predictions)\n",
        "print(\"Silhouette with squared euclidean distance = \" + str(silhouette))\n",
        "\n",
        "# Shows the result.\n",
        "centers = model.clusterCenters()\n",
        "print(\"Cluster Centers: \")\n",
        "for center in centers:\n",
        "    print(center)"
      ],
      "execution_count": 89,
      "outputs": [
        {
          "output_type": "stream",
          "text": [
            "Silhouette with squared euclidean distance = 0.5585376851872408\n",
            "Cluster Centers: \n",
            "[0.47145453 0.09911939 0.05347191 0.01343832]\n",
            "[0.20494051 0.09284213 0.06561405 0.01487672]\n"
          ],
          "name": "stdout"
        }
      ]
    },
    {
      "cell_type": "markdown",
      "metadata": {
        "colab_type": "text",
        "id": "FHom8o2KCt36"
      },
      "source": [
        "### 4.2 PCA"
      ]
    },
    {
      "cell_type": "code",
      "metadata": {
        "colab_type": "code",
        "id": "wT4cx5uGTjmj",
        "outputId": "4f005aa5-e113-4d75-a390-231466e25422",
        "colab": {
          "base_uri": "https://localhost:8080/",
          "height": 452
        }
      },
      "source": [
        "# generate a scatter plot using the first two PCA components to investigate the data distribution.\n",
        " \n",
        "from pyspark.ml.feature import PCA, StandardScaler\n",
        "from pyspark.ml.linalg import Vectors\n",
        "from pyspark.ml.feature import VectorAssembler\n",
        "\n",
        "standardizer = StandardScaler(withMean=True, withStd=True,\n",
        "                              inputCol='features',\n",
        "                              outputCol='std_features')\n",
        "model = standardizer.fit(df2)\n",
        "df2 = model.transform(df2)\n",
        "\n",
        "pca = PCA(k=2, inputCol=\"std_features\", outputCol=\"pcaFeatures\")\n",
        "model = pca.fit(df2)\n",
        "\n",
        "result = model.transform(df2).select(\"pcaFeatures\")\n",
        "result.show(truncate=False)"
      ],
      "execution_count": 90,
      "outputs": [
        {
          "output_type": "stream",
          "text": [
            "+------------------------------------------+\n",
            "|pcaFeatures                               |\n",
            "+------------------------------------------+\n",
            "|[0.5024480111418868,1.2876640294358876]   |\n",
            "|[0.5696986581689144,0.6104554195913101]   |\n",
            "|[0.6016201800130624,-0.014764689663041394]|\n",
            "|[0.5155958010388783,1.0788875953172095]   |\n",
            "|[0.5745372759476424,0.521809213003675]    |\n",
            "|[0.6279346675693007,-0.23110756666275342] |\n",
            "|[0.5509097950203947,0.7809033950435555]   |\n",
            "|[0.541400103465537,0.956675889966385]     |\n",
            "|[0.6483246401447347,-0.5279590366276407]  |\n",
            "|[0.5632651836351033,0.04229805083768032]  |\n",
            "|[0.6418723077642554,-0.4470493296857937]  |\n",
            "|[0.6695321744365385,-0.8769786751215933]  |\n",
            "|[0.6762477902496722,-0.9602768250315613]  |\n",
            "|[0.6005935071664849,0.10642765655551936]  |\n",
            "|[0.6560190590894179,-0.7320152703983291]  |\n",
            "|[0.5646760896940652,0.18612872525217847]  |\n",
            "|[0.6541382844941198,-0.6925776186302129]  |\n",
            "|[0.5995466760232857,0.1830514255072168]   |\n",
            "|[0.6307010318926183,-0.2785790720509119]  |\n",
            "|[0.5953341411008151,0.22126651299714692]  |\n",
            "+------------------------------------------+\n",
            "only showing top 20 rows\n",
            "\n"
          ],
          "name": "stdout"
        }
      ]
    },
    {
      "cell_type": "markdown",
      "metadata": {
        "colab_type": "text",
        "id": "ulp_uILXCv4Z"
      },
      "source": [
        "## 5. Supervised learning"
      ]
    },
    {
      "cell_type": "code",
      "metadata": {
        "id": "L7-RorKELakx",
        "colab_type": "code",
        "outputId": "8c1e053a-dbe6-47e0-f497-3f4f3717429a",
        "colab": {
          "base_uri": "https://localhost:8080/",
          "height": 1995
        }
      },
      "source": [
        "df2 = df2.selectExpr('scaledNums as features', 'poutcomeIndex as label')\n",
        "df2.show() "
      ],
      "execution_count": 92,
      "outputs": [
        {
          "output_type": "error",
          "ename": "AnalysisException",
          "evalue": "ignored",
          "traceback": [
            "\u001b[0;31m---------------------------------------------------------------------------\u001b[0m",
            "\u001b[0;31mPy4JJavaError\u001b[0m                             Traceback (most recent call last)",
            "\u001b[0;32m/content/spark-2.4.0-bin-hadoop2.7/python/pyspark/sql/utils.py\u001b[0m in \u001b[0;36mdeco\u001b[0;34m(*a, **kw)\u001b[0m\n\u001b[1;32m     62\u001b[0m         \u001b[0;32mtry\u001b[0m\u001b[0;34m:\u001b[0m\u001b[0;34m\u001b[0m\u001b[0;34m\u001b[0m\u001b[0m\n\u001b[0;32m---> 63\u001b[0;31m             \u001b[0;32mreturn\u001b[0m \u001b[0mf\u001b[0m\u001b[0;34m(\u001b[0m\u001b[0;34m*\u001b[0m\u001b[0ma\u001b[0m\u001b[0;34m,\u001b[0m \u001b[0;34m**\u001b[0m\u001b[0mkw\u001b[0m\u001b[0;34m)\u001b[0m\u001b[0;34m\u001b[0m\u001b[0;34m\u001b[0m\u001b[0m\n\u001b[0m\u001b[1;32m     64\u001b[0m         \u001b[0;32mexcept\u001b[0m \u001b[0mpy4j\u001b[0m\u001b[0;34m.\u001b[0m\u001b[0mprotocol\u001b[0m\u001b[0;34m.\u001b[0m\u001b[0mPy4JJavaError\u001b[0m \u001b[0;32mas\u001b[0m \u001b[0me\u001b[0m\u001b[0;34m:\u001b[0m\u001b[0;34m\u001b[0m\u001b[0;34m\u001b[0m\u001b[0m\n",
            "\u001b[0;32m/content/spark-2.4.0-bin-hadoop2.7/python/lib/py4j-0.10.7-src.zip/py4j/protocol.py\u001b[0m in \u001b[0;36mget_return_value\u001b[0;34m(answer, gateway_client, target_id, name)\u001b[0m\n\u001b[1;32m    327\u001b[0m                     \u001b[0;34m\"An error occurred while calling {0}{1}{2}.\\n\"\u001b[0m\u001b[0;34m.\u001b[0m\u001b[0;34m\u001b[0m\u001b[0;34m\u001b[0m\u001b[0m\n\u001b[0;32m--> 328\u001b[0;31m                     format(target_id, \".\", name), value)\n\u001b[0m\u001b[1;32m    329\u001b[0m             \u001b[0;32melse\u001b[0m\u001b[0;34m:\u001b[0m\u001b[0;34m\u001b[0m\u001b[0;34m\u001b[0m\u001b[0m\n",
            "\u001b[0;31mPy4JJavaError\u001b[0m: An error occurred while calling o3891.selectExpr.\n: org.apache.spark.sql.AnalysisException: cannot resolve '`scaledNums`' given input columns: [features, std_features]; line 1 pos 0;\n'Project ['scaledNums AS features#7621, 'poutcomeIndex AS label#7622]\n+- Project [features#7385, UDF(features#7385) AS std_features#7571]\n   +- Project [scaledNums#7241 AS features#7385]\n      +- Project [age#6144, job#6111, marital#6112, education#6113, default#6114, balance#6162, housing#6116, loan#6117, campaign#6216, pdays#6234, previous#6252, poutcome#6125, deposit#6126, jobIndex#6355, jobVec#6370, maritalIndex#6417, maritalVec#6434, educationIndex#6485, educationVec#6504, defaultIndex#6559, defaultVec#6580, housingIndex#6639, housingVec#6662, loanIndex#6725, ... 7 more fields]\n         +- Project [age#6144, job#6111, marital#6112, education#6113, default#6114, balance#6162, housing#6116, loan#6117, campaign#6216, pdays#6234, previous#6252, poutcome#6125, deposit#6126, jobIndex#6355, jobVec#6370, maritalIndex#6417, maritalVec#6434, educationIndex#6485, educationVec#6504, defaultIndex#6559, defaultVec#6580, housingIndex#6639, housingVec#6662, loanIndex#6725, ... 6 more fields]\n            +- Project [age#6144, job#6111, marital#6112, education#6113, default#6114, balance#6162, housing#6116, loan#6117, campaign#6216, pdays#6234, previous#6252, poutcome#6125, deposit#6126, jobIndex#6355, jobVec#6370, maritalIndex#6417, maritalVec#6434, educationIndex#6485, educationVec#6504, defaultIndex#6559, defaultVec#6580, housingIndex#6639, housingVec#6662, loanIndex#6725, ... 5 more fields]\n               +- Project [age#6144, job#6111, marital#6112, education#6113, default#6114, balance#6162, housing#6116, loan#6117, campaign#6216, pdays#6234, previous#6252, poutcome#6125, deposit#6126, jobIndex#6355, jobVec#6370, maritalIndex#6417, maritalVec#6434, educationIndex#6485, educationVec#6504, defaultIndex#6559, defaultVec#6580, housingIndex#6639, housingVec#6662, loanIndex#6725, ... 4 more fields]\n                  +- Project [age#6144, job#6111, marital#6112, education#6113, default#6114, balance#6162, housing#6116, loan#6117, campaign#6216, pdays#6234, previous#6252, poutcome#6125, deposit#6126, jobIndex#6355, jobVec#6370, maritalIndex#6417, maritalVec#6434, educationIndex#6485, educationVec#6504, defaultIndex#6559, defaultVec#6580, housingIndex#6639, housingVec#6662, loanIndex#6725, ... 3 more fields]\n                     +- Project [age#6144, job#6111, marital#6112, education#6113, default#6114, balance#6162, housing#6116, loan#6117, campaign#6216, pdays#6234, previous#6252, poutcome#6125, deposit#6126, jobIndex#6355, jobVec#6370, maritalIndex#6417, maritalVec#6434, educationIndex#6485, educationVec#6504, defaultIndex#6559, defaultVec#6580, housingIndex#6639, housingVec#6662, loanIndex#6725, ... 2 more fields]\n                        +- Project [age#6144, job#6111, marital#6112, education#6113, default#6114, balance#6162, housing#6116, loan#6117, campaign#6216, pdays#6234, previous#6252, poutcome#6125, deposit#6126, jobIndex#6355, jobVec#6370, maritalIndex#6417, maritalVec#6434, educationIndex#6485, educationVec#6504, defaultIndex#6559, defaultVec#6580, housingIndex#6639, housingVec#6662, loanIndex#6725, if (isnull(cast(loanIndex#6725 as double))) null else UDF(cast(loanIndex#6725 as double)) AS loanVec#6750]\n                           +- Project [age#6144, job#6111, marital#6112, education#6113, default#6114, balance#6162, housing#6116, loan#6117, campaign#6216, pdays#6234, previous#6252, poutcome#6125, deposit#6126, jobIndex#6355, jobVec#6370, maritalIndex#6417, maritalVec#6434, educationIndex#6485, educationVec#6504, defaultIndex#6559, defaultVec#6580, housingIndex#6639, housingVec#6662, UDF(cast(loan#6117 as string)) AS loanIndex#6725]\n                              +- Project [age#6144, job#6111, marital#6112, education#6113, default#6114, balance#6162, housing#6116, loan#6117, campaign#6216, pdays#6234, previous#6252, poutcome#6125, deposit#6126, jobIndex#6355, jobVec#6370, maritalIndex#6417, maritalVec#6434, educationIndex#6485, educationVec#6504, defaultIndex#6559, defaultVec#6580, housingIndex#6639, if (isnull(cast(housingIndex#6639 as double))) null else UDF(cast(housingIndex#6639 as double)) AS housingVec#6662]\n                                 +- Project [age#6144, job#6111, marital#6112, education#6113, default#6114, balance#6162, housing#6116, loan#6117, campaign#6216, pdays#6234, previous#6252, poutcome#6125, deposit#6126, jobIndex#6355, jobVec#6370, maritalIndex#6417, maritalVec#6434, educationIndex#6485, educationVec#6504, defaultIndex#6559, defaultVec#6580, UDF(cast(housing#6116 as string)) AS housingIndex#6639]\n                                    +- Project [age#6144, job#6111, marital#6112, education#6113, default#6114, balance#6162, housing#6116, loan#6117, campaign#6216, pdays#6234, previous#6252, poutcome#6125, deposit#6126, jobIndex#6355, jobVec#6370, maritalIndex#6417, maritalVec#6434, educationIndex#6485, educationVec#6504, defaultIndex#6559, if (isnull(cast(defaultIndex#6559 as double))) null else UDF(cast(defaultIndex#6559 as double)) AS defaultVec#6580]\n                                       +- Project [age#6144, job#6111, marital#6112, education#6113, default#6114, balance#6162, housing#6116, loan#6117, campaign#6216, pdays#6234, previous#6252, poutcome#6125, deposit#6126, jobIndex#6355, jobVec#6370, maritalIndex#6417, maritalVec#6434, educationIndex#6485, educationVec#6504, UDF(cast(default#6114 as string)) AS defaultIndex#6559]\n                                          +- Project [age#6144, job#6111, marital#6112, education#6113, default#6114, balance#6162, housing#6116, loan#6117, campaign#6216, pdays#6234, previous#6252, poutcome#6125, deposit#6126, jobIndex#6355, jobVec#6370, maritalIndex#6417, maritalVec#6434, educationIndex#6485, if (isnull(cast(educationIndex#6485 as double))) null else UDF(cast(educationIndex#6485 as double)) AS educationVec#6504]\n                                             +- Project [age#6144, job#6111, marital#6112, education#6113, default#6114, balance#6162, housing#6116, loan#6117, campaign#6216, pdays#6234, previous#6252, poutcome#6125, deposit#6126, jobIndex#6355, jobVec#6370, maritalIndex#6417, maritalVec#6434, UDF(cast(education#6113 as string)) AS educationIndex#6485]\n                                                +- Project [age#6144, job#6111, marital#6112, education#6113, default#6114, balance#6162, housing#6116, loan#6117, campaign#6216, pdays#6234, previous#6252, poutcome#6125, deposit#6126, jobIndex#6355, jobVec#6370, maritalIndex#6417, if (isnull(cast(maritalIndex#6417 as double))) null else UDF(cast(maritalIndex#6417 as double)) AS maritalVec#6434]\n                                                   +- Project [age#6144, job#6111, marital#6112, education#6113, default#6114, balance#6162, housing#6116, loan#6117, campaign#6216, pdays#6234, previous#6252, poutcome#6125, deposit#6126, jobIndex#6355, jobVec#6370, UDF(cast(marital#6112 as string)) AS maritalIndex#6417]\n                                                      +- Project [age#6144, job#6111, marital#6112, education#6113, default#6114, balance#6162, housing#6116, loan#6117, campaign#6216, pdays#6234, previous#6252, poutcome#6125, deposit#6126, jobIndex#6355, if (isnull(cast(jobIndex#6355 as double))) null else UDF(cast(jobIndex#6355 as double)) AS jobVec#6370]\n                                                         +- Project [age#6144, job#6111, marital#6112, education#6113, default#6114, balance#6162, housing#6116, loan#6117, campaign#6216, pdays#6234, previous#6252, poutcome#6125, deposit#6126, UDF(cast(job#6111 as string)) AS jobIndex#6355]\n                                                            +- Filter AtLeastNNulls(n, age#6144,job#6111,marital#6112,education#6113,default#6114,balance#6162,housing#6116,loan#6117,campaign#6216,pdays#6234,previous#6252,poutcome#6125,deposit#6126)\n                                                               +- Project [age#6144, job#6111, marital#6112, education#6113, default#6114, balance#6162, housing#6116, loan#6117, campaign#6216, pdays#6234, previous#6252, poutcome#6125, deposit#6126]\n                                                                  +- Project [age#6144, job#6111, marital#6112, education#6113, default#6114, balance#6162, housing#6116, loan#6117, contact#6118, day#6180, month#6120, duration#6198, campaign#6216, pdays#6234, cast(previous#6124 as int) AS previous#6252, poutcome#6125, deposit#6126]\n                                                                     +- Project [age#6144, job#6111, marital#6112, education#6113, default#6114, balance#6162, housing#6116, loan#6117, contact#6118, day#6180, month#6120, duration#6198, campaign#6216, cast(pdays#6123 as int) AS pdays#6234, previous#6124, poutcome#6125, deposit#6126]\n                                                                        +- Project [age#6144, job#6111, marital#6112, education#6113, default#6114, balance#6162, housing#6116, loan#6117, contact#6118, day#6180, month#6120, duration#6198, cast(campaign#6122 as int) AS campaign#6216, pdays#6123, previous#6124, poutcome#6125, deposit#6126]\n                                                                           +- Project [age#6144, job#6111, marital#6112, education#6113, default#6114, balance#6162, housing#6116, loan#6117, contact#6118, day#6180, month#6120, cast(duration#6121 as int) AS duration#6198, campaign#6122, pdays#6123, previous#6124, poutcome#6125, deposit#6126]\n                                                                              +- Project [age#6144, job#6111, marital#6112, education#6113, default#6114, balance#6162, housing#6116, loan#6117, contact#6118, cast(day#6119 as int) AS day#6180, month#6120, duration#6121, campaign#6122, pdays#6123, previous#6124, poutcome#6125, deposit#6126]\n                                                                                 +- Project [age#6144, job#6111, marital#6112, education#6113, default#6114, cast(balance#6115 as int) AS balance#6162, housing#6116, loan#6117, contact#6118, day#6119, month#6120, duration#6121, campaign#6122, pdays#6123, previous#6124, poutcome#6125, deposit#6126]\n                                                                                    +- Project [cast(age#6110 as int) AS age#6144, job#6111, marital#6112, education#6113, default#6114, balance#6115, housing#6116, loan#6117, contact#6118, day#6119, month#6120, duration#6121, campaign#6122, pdays#6123, previous#6124, poutcome#6125, deposit#6126]\n                                                                                       +- Relation[age#6110,job#6111,marital#6112,education#6113,default#6114,balance#6115,housing#6116,loan#6117,contact#6118,day#6119,month#6120,duration#6121,campaign#6122,pdays#6123,previous#6124,poutcome#6125,deposit#6126] csv\n\n\tat org.apache.spark.sql.catalyst.analysis.package$AnalysisErrorAt.failAnalysis(package.scala:42)\n\tat org.apache.spark.sql.catalyst.analysis.CheckAnalysis$$anonfun$checkAnalysis$1$$anonfun$apply$3.applyOrElse(CheckAnalysis.scala:110)\n\tat org.apache.spark.sql.catalyst.analysis.CheckAnalysis$$anonfun$checkAnalysis$1$$anonfun$apply$3.applyOrElse(CheckAnalysis.scala:107)\n\tat org.apache.spark.sql.catalyst.trees.TreeNode$$anonfun$transformUp$1.apply(TreeNode.scala:278)\n\tat org.apache.spark.sql.catalyst.trees.TreeNode$$anonfun$transformUp$1.apply(TreeNode.scala:278)\n\tat org.apache.spark.sql.catalyst.trees.CurrentOrigin$.withOrigin(TreeNode.scala:70)\n\tat org.apache.spark.sql.catalyst.trees.TreeNode.transformUp(TreeNode.scala:277)\n\tat org.apache.spark.sql.catalyst.trees.TreeNode$$anonfun$3.apply(TreeNode.scala:275)\n\tat org.apache.spark.sql.catalyst.trees.TreeNode$$anonfun$3.apply(TreeNode.scala:275)\n\tat org.apache.spark.sql.catalyst.trees.TreeNode$$anonfun$4.apply(TreeNode.scala:326)\n\tat org.apache.spark.sql.catalyst.trees.TreeNode.mapProductIterator(TreeNode.scala:187)\n\tat org.apache.spark.sql.catalyst.trees.TreeNode.mapChildren(TreeNode.scala:324)\n\tat org.apache.spark.sql.catalyst.trees.TreeNode.transformUp(TreeNode.scala:275)\n\tat org.apache.spark.sql.catalyst.plans.QueryPlan$$anonfun$transformExpressionsUp$1.apply(QueryPlan.scala:93)\n\tat org.apache.spark.sql.catalyst.plans.QueryPlan$$anonfun$transformExpressionsUp$1.apply(QueryPlan.scala:93)\n\tat org.apache.spark.sql.catalyst.plans.QueryPlan$$anonfun$1.apply(QueryPlan.scala:105)\n\tat org.apache.spark.sql.catalyst.plans.QueryPlan$$anonfun$1.apply(QueryPlan.scala:105)\n\tat org.apache.spark.sql.catalyst.trees.CurrentOrigin$.withOrigin(TreeNode.scala:70)\n\tat org.apache.spark.sql.catalyst.plans.QueryPlan.transformExpression$1(QueryPlan.scala:104)\n\tat org.apache.spark.sql.catalyst.plans.QueryPlan.org$apache$spark$sql$catalyst$plans$QueryPlan$$recursiveTransform$1(QueryPlan.scala:116)\n\tat org.apache.spark.sql.catalyst.plans.QueryPlan$$anonfun$org$apache$spark$sql$catalyst$plans$QueryPlan$$recursiveTransform$1$2.apply(QueryPlan.scala:121)\n\tat scala.collection.TraversableLike$$anonfun$map$1.apply(TraversableLike.scala:234)\n\tat scala.collection.TraversableLike$$anonfun$map$1.apply(TraversableLike.scala:234)\n\tat scala.collection.mutable.ResizableArray$class.foreach(ResizableArray.scala:59)\n\tat scala.collection.mutable.ArrayBuffer.foreach(ArrayBuffer.scala:48)\n\tat scala.collection.TraversableLike$class.map(TraversableLike.scala:234)\n\tat scala.collection.AbstractTraversable.map(Traversable.scala:104)\n\tat org.apache.spark.sql.catalyst.plans.QueryPlan.org$apache$spark$sql$catalyst$plans$QueryPlan$$recursiveTransform$1(QueryPlan.scala:121)\n\tat org.apache.spark.sql.catalyst.plans.QueryPlan$$anonfun$2.apply(QueryPlan.scala:126)\n\tat org.apache.spark.sql.catalyst.trees.TreeNode.mapProductIterator(TreeNode.scala:187)\n\tat org.apache.spark.sql.catalyst.plans.QueryPlan.mapExpressions(QueryPlan.scala:126)\n\tat org.apache.spark.sql.catalyst.plans.QueryPlan.transformExpressionsUp(QueryPlan.scala:93)\n\tat org.apache.spark.sql.catalyst.analysis.CheckAnalysis$$anonfun$checkAnalysis$1.apply(CheckAnalysis.scala:107)\n\tat org.apache.spark.sql.catalyst.analysis.CheckAnalysis$$anonfun$checkAnalysis$1.apply(CheckAnalysis.scala:85)\n\tat org.apache.spark.sql.catalyst.trees.TreeNode.foreachUp(TreeNode.scala:127)\n\tat org.apache.spark.sql.catalyst.analysis.CheckAnalysis$class.checkAnalysis(CheckAnalysis.scala:85)\n\tat org.apache.spark.sql.catalyst.analysis.Analyzer.checkAnalysis(Analyzer.scala:95)\n\tat org.apache.spark.sql.catalyst.analysis.Analyzer$$anonfun$executeAndCheck$1.apply(Analyzer.scala:108)\n\tat org.apache.spark.sql.catalyst.analysis.Analyzer$$anonfun$executeAndCheck$1.apply(Analyzer.scala:105)\n\tat org.apache.spark.sql.catalyst.plans.logical.AnalysisHelper$.markInAnalyzer(AnalysisHelper.scala:201)\n\tat org.apache.spark.sql.catalyst.analysis.Analyzer.executeAndCheck(Analyzer.scala:105)\n\tat org.apache.spark.sql.execution.QueryExecution.analyzed$lzycompute(QueryExecution.scala:57)\n\tat org.apache.spark.sql.execution.QueryExecution.analyzed(QueryExecution.scala:55)\n\tat org.apache.spark.sql.execution.QueryExecution.assertAnalyzed(QueryExecution.scala:47)\n\tat org.apache.spark.sql.Dataset$.ofRows(Dataset.scala:79)\n\tat org.apache.spark.sql.Dataset.org$apache$spark$sql$Dataset$$withPlan(Dataset.scala:3407)\n\tat org.apache.spark.sql.Dataset.select(Dataset.scala:1335)\n\tat org.apache.spark.sql.Dataset.selectExpr(Dataset.scala:1370)\n\tat sun.reflect.NativeMethodAccessorImpl.invoke0(Native Method)\n\tat sun.reflect.NativeMethodAccessorImpl.invoke(NativeMethodAccessorImpl.java:62)\n\tat sun.reflect.DelegatingMethodAccessorImpl.invoke(DelegatingMethodAccessorImpl.java:43)\n\tat java.lang.reflect.Method.invoke(Method.java:498)\n\tat py4j.reflection.MethodInvoker.invoke(MethodInvoker.java:244)\n\tat py4j.reflection.ReflectionEngine.invoke(ReflectionEngine.java:357)\n\tat py4j.Gateway.invoke(Gateway.java:282)\n\tat py4j.commands.AbstractCommand.invokeMethod(AbstractCommand.java:132)\n\tat py4j.commands.CallCommand.execute(CallCommand.java:79)\n\tat py4j.GatewayConnection.run(GatewayConnection.java:238)\n\tat java.lang.Thread.run(Thread.java:748)\n",
            "\nDuring handling of the above exception, another exception occurred:\n",
            "\u001b[0;31mAnalysisException\u001b[0m                         Traceback (most recent call last)",
            "\u001b[0;32m<ipython-input-92-32380671de8b>\u001b[0m in \u001b[0;36m<module>\u001b[0;34m()\u001b[0m\n\u001b[0;32m----> 1\u001b[0;31m \u001b[0mdf2\u001b[0m \u001b[0;34m=\u001b[0m \u001b[0mdf2\u001b[0m\u001b[0;34m.\u001b[0m\u001b[0mselectExpr\u001b[0m\u001b[0;34m(\u001b[0m\u001b[0;34m'scaledNums as features'\u001b[0m\u001b[0;34m,\u001b[0m \u001b[0;34m'poutcomeIndex as label'\u001b[0m\u001b[0;34m)\u001b[0m\u001b[0;34m\u001b[0m\u001b[0;34m\u001b[0m\u001b[0m\n\u001b[0m\u001b[1;32m      2\u001b[0m \u001b[0mdf2\u001b[0m\u001b[0;34m.\u001b[0m\u001b[0mshow\u001b[0m\u001b[0;34m(\u001b[0m\u001b[0;34m)\u001b[0m\u001b[0;34m\u001b[0m\u001b[0;34m\u001b[0m\u001b[0m\n",
            "\u001b[0;32m/content/spark-2.4.0-bin-hadoop2.7/python/pyspark/sql/dataframe.py\u001b[0m in \u001b[0;36mselectExpr\u001b[0;34m(self, *expr)\u001b[0m\n\u001b[1;32m   1332\u001b[0m         \u001b[0;32mif\u001b[0m \u001b[0mlen\u001b[0m\u001b[0;34m(\u001b[0m\u001b[0mexpr\u001b[0m\u001b[0;34m)\u001b[0m \u001b[0;34m==\u001b[0m \u001b[0;36m1\u001b[0m \u001b[0;32mand\u001b[0m \u001b[0misinstance\u001b[0m\u001b[0;34m(\u001b[0m\u001b[0mexpr\u001b[0m\u001b[0;34m[\u001b[0m\u001b[0;36m0\u001b[0m\u001b[0;34m]\u001b[0m\u001b[0;34m,\u001b[0m \u001b[0mlist\u001b[0m\u001b[0;34m)\u001b[0m\u001b[0;34m:\u001b[0m\u001b[0;34m\u001b[0m\u001b[0;34m\u001b[0m\u001b[0m\n\u001b[1;32m   1333\u001b[0m             \u001b[0mexpr\u001b[0m \u001b[0;34m=\u001b[0m \u001b[0mexpr\u001b[0m\u001b[0;34m[\u001b[0m\u001b[0;36m0\u001b[0m\u001b[0;34m]\u001b[0m\u001b[0;34m\u001b[0m\u001b[0;34m\u001b[0m\u001b[0m\n\u001b[0;32m-> 1334\u001b[0;31m         \u001b[0mjdf\u001b[0m \u001b[0;34m=\u001b[0m \u001b[0mself\u001b[0m\u001b[0;34m.\u001b[0m\u001b[0m_jdf\u001b[0m\u001b[0;34m.\u001b[0m\u001b[0mselectExpr\u001b[0m\u001b[0;34m(\u001b[0m\u001b[0mself\u001b[0m\u001b[0;34m.\u001b[0m\u001b[0m_jseq\u001b[0m\u001b[0;34m(\u001b[0m\u001b[0mexpr\u001b[0m\u001b[0;34m)\u001b[0m\u001b[0;34m)\u001b[0m\u001b[0;34m\u001b[0m\u001b[0;34m\u001b[0m\u001b[0m\n\u001b[0m\u001b[1;32m   1335\u001b[0m         \u001b[0;32mreturn\u001b[0m \u001b[0mDataFrame\u001b[0m\u001b[0;34m(\u001b[0m\u001b[0mjdf\u001b[0m\u001b[0;34m,\u001b[0m \u001b[0mself\u001b[0m\u001b[0;34m.\u001b[0m\u001b[0msql_ctx\u001b[0m\u001b[0;34m)\u001b[0m\u001b[0;34m\u001b[0m\u001b[0;34m\u001b[0m\u001b[0m\n\u001b[1;32m   1336\u001b[0m \u001b[0;34m\u001b[0m\u001b[0m\n",
            "\u001b[0;32m/content/spark-2.4.0-bin-hadoop2.7/python/lib/py4j-0.10.7-src.zip/py4j/java_gateway.py\u001b[0m in \u001b[0;36m__call__\u001b[0;34m(self, *args)\u001b[0m\n\u001b[1;32m   1255\u001b[0m         \u001b[0manswer\u001b[0m \u001b[0;34m=\u001b[0m \u001b[0mself\u001b[0m\u001b[0;34m.\u001b[0m\u001b[0mgateway_client\u001b[0m\u001b[0;34m.\u001b[0m\u001b[0msend_command\u001b[0m\u001b[0;34m(\u001b[0m\u001b[0mcommand\u001b[0m\u001b[0;34m)\u001b[0m\u001b[0;34m\u001b[0m\u001b[0;34m\u001b[0m\u001b[0m\n\u001b[1;32m   1256\u001b[0m         return_value = get_return_value(\n\u001b[0;32m-> 1257\u001b[0;31m             answer, self.gateway_client, self.target_id, self.name)\n\u001b[0m\u001b[1;32m   1258\u001b[0m \u001b[0;34m\u001b[0m\u001b[0m\n\u001b[1;32m   1259\u001b[0m         \u001b[0;32mfor\u001b[0m \u001b[0mtemp_arg\u001b[0m \u001b[0;32min\u001b[0m \u001b[0mtemp_args\u001b[0m\u001b[0;34m:\u001b[0m\u001b[0;34m\u001b[0m\u001b[0;34m\u001b[0m\u001b[0m\n",
            "\u001b[0;32m/content/spark-2.4.0-bin-hadoop2.7/python/pyspark/sql/utils.py\u001b[0m in \u001b[0;36mdeco\u001b[0;34m(*a, **kw)\u001b[0m\n\u001b[1;32m     67\u001b[0m                                              e.java_exception.getStackTrace()))\n\u001b[1;32m     68\u001b[0m             \u001b[0;32mif\u001b[0m \u001b[0ms\u001b[0m\u001b[0;34m.\u001b[0m\u001b[0mstartswith\u001b[0m\u001b[0;34m(\u001b[0m\u001b[0;34m'org.apache.spark.sql.AnalysisException: '\u001b[0m\u001b[0;34m)\u001b[0m\u001b[0;34m:\u001b[0m\u001b[0;34m\u001b[0m\u001b[0;34m\u001b[0m\u001b[0m\n\u001b[0;32m---> 69\u001b[0;31m                 \u001b[0;32mraise\u001b[0m \u001b[0mAnalysisException\u001b[0m\u001b[0;34m(\u001b[0m\u001b[0ms\u001b[0m\u001b[0;34m.\u001b[0m\u001b[0msplit\u001b[0m\u001b[0;34m(\u001b[0m\u001b[0;34m': '\u001b[0m\u001b[0;34m,\u001b[0m \u001b[0;36m1\u001b[0m\u001b[0;34m)\u001b[0m\u001b[0;34m[\u001b[0m\u001b[0;36m1\u001b[0m\u001b[0;34m]\u001b[0m\u001b[0;34m,\u001b[0m \u001b[0mstackTrace\u001b[0m\u001b[0;34m)\u001b[0m\u001b[0;34m\u001b[0m\u001b[0;34m\u001b[0m\u001b[0m\n\u001b[0m\u001b[1;32m     70\u001b[0m             \u001b[0;32mif\u001b[0m \u001b[0ms\u001b[0m\u001b[0;34m.\u001b[0m\u001b[0mstartswith\u001b[0m\u001b[0;34m(\u001b[0m\u001b[0;34m'org.apache.spark.sql.catalyst.analysis'\u001b[0m\u001b[0;34m)\u001b[0m\u001b[0;34m:\u001b[0m\u001b[0;34m\u001b[0m\u001b[0;34m\u001b[0m\u001b[0m\n\u001b[1;32m     71\u001b[0m                 \u001b[0;32mraise\u001b[0m \u001b[0mAnalysisException\u001b[0m\u001b[0;34m(\u001b[0m\u001b[0ms\u001b[0m\u001b[0;34m.\u001b[0m\u001b[0msplit\u001b[0m\u001b[0;34m(\u001b[0m\u001b[0;34m': '\u001b[0m\u001b[0;34m,\u001b[0m \u001b[0;36m1\u001b[0m\u001b[0;34m)\u001b[0m\u001b[0;34m[\u001b[0m\u001b[0;36m1\u001b[0m\u001b[0;34m]\u001b[0m\u001b[0;34m,\u001b[0m \u001b[0mstackTrace\u001b[0m\u001b[0;34m)\u001b[0m\u001b[0;34m\u001b[0m\u001b[0;34m\u001b[0m\u001b[0m\n",
            "\u001b[0;31mAnalysisException\u001b[0m: \"cannot resolve '`scaledNums`' given input columns: [features, std_features]; line 1 pos 0;\\n'Project ['scaledNums AS features#7621, 'poutcomeIndex AS label#7622]\\n+- Project [features#7385, UDF(features#7385) AS std_features#7571]\\n   +- Project [scaledNums#7241 AS features#7385]\\n      +- Project [age#6144, job#6111, marital#6112, education#6113, default#6114, balance#6162, housing#6116, loan#6117, campaign#6216, pdays#6234, previous#6252, poutcome#6125, deposit#6126, jobIndex#6355, jobVec#6370, maritalIndex#6417, maritalVec#6434, educationIndex#6485, educationVec#6504, defaultIndex#6559, defaultVec#6580, housingIndex#6639, housingVec#6662, loanIndex#6725, ... 7 more fields]\\n         +- Project [age#6144, job#6111, marital#6112, education#6113, default#6114, balance#6162, housing#6116, loan#6117, campaign#6216, pdays#6234, previous#6252, poutcome#6125, deposit#6126, jobIndex#6355, jobVec#6370, maritalIndex#6417, maritalVec#6434, educationIndex#6485, educationVec#6504, defaultIndex#6559, defaultVec#6580, housingIndex#6639, housingVec#6662, loanIndex#6725, ... 6 more fields]\\n            +- Project [age#6144, job#6111, marital#6112, education#6113, default#6114, balance#6162, housing#6116, loan#6117, campaign#6216, pdays#6234, previous#6252, poutcome#6125, deposit#6126, jobIndex#6355, jobVec#6370, maritalIndex#6417, maritalVec#6434, educationIndex#6485, educationVec#6504, defaultIndex#6559, defaultVec#6580, housingIndex#6639, housingVec#6662,..."
          ]
        }
      ]
    },
    {
      "cell_type": "code",
      "metadata": {
        "colab_type": "code",
        "id": "0O7tszcPfnHN",
        "outputId": "a8185d49-f668-4725-a24d-257309fd71b4",
        "colab": {
          "base_uri": "https://localhost:8080/",
          "height": 52
        }
      },
      "source": [
        "train, test = df2.randomSplit([0.7, 0.3], seed = 742)\n",
        "print(\"Training Dataset Count: \" + str(train.count()))\n",
        "print(\"Test Dataset Count: \" + str(test.count()))"
      ],
      "execution_count": 0,
      "outputs": [
        {
          "output_type": "stream",
          "text": [
            "Training Dataset Count: 7822\n",
            "Test Dataset Count: 3340\n"
          ],
          "name": "stdout"
        }
      ]
    },
    {
      "cell_type": "markdown",
      "metadata": {
        "colab_type": "text",
        "id": "2SsHdh7YC-eN"
      },
      "source": [
        "### 5.1 LogisticRegression"
      ]
    },
    {
      "cell_type": "code",
      "metadata": {
        "colab_type": "code",
        "id": "Vqo_ywFQYxSj",
        "colab": {}
      },
      "source": [
        "# Logistic Regression\n",
        "\n",
        "from pyspark.ml.classification import LogisticRegression\n",
        "from pyspark.ml.evaluation import MulticlassClassificationEvaluator\n",
        "from pyspark.ml.evaluation import BinaryClassificationEvaluator \n",
        "\n",
        "lr = LogisticRegression(maxIter=10, regParam=0.3, elasticNetParam=0.8)\n",
        "\n",
        "# Fit the model\n",
        "lrModel = lr.fit(train)\n",
        "\n",
        "\n",
        "# We can also use the multinomial family for binary classification\n",
        "mlr = LogisticRegression(maxIter=10,\n",
        "                         regParam=0.3,\n",
        "                         elasticNetParam=0.8, \n",
        "                         family=\"multinomial\")\n",
        "\n",
        "# Fit the model\n",
        "mlrModel = mlr.fit(train)"
      ],
      "execution_count": 0,
      "outputs": []
    },
    {
      "cell_type": "code",
      "metadata": {
        "colab_type": "code",
        "id": "hANwFUzhgG83",
        "outputId": "4134ce7d-4bd8-48f9-f241-695e6e5b168a",
        "colab": {
          "base_uri": "https://localhost:8080/",
          "height": 89
        }
      },
      "source": [
        "# exam the coefficients\n",
        "# Print the coefficients and intercepts for logistic regression with multinomial family\n",
        "print(\"Multinomial coefficients: \" + str(mlrModel.coefficientMatrix))\n",
        "print(\"Multinomial intercepts: \" + str(mlrModel.interceptVector))"
      ],
      "execution_count": 0,
      "outputs": [
        {
          "output_type": "stream",
          "text": [
            "Multinomial coefficients: 4 X 4 CSCMatrix\n",
            "(0,1) -3.3467\n",
            "Multinomial intercepts: [1.8584058718122476,-0.29277621249950403,-0.4539798385650064,-1.111649820747737]\n"
          ],
          "name": "stdout"
        }
      ]
    },
    {
      "cell_type": "markdown",
      "metadata": {
        "colab_type": "text",
        "id": "evM5eiJoDHw2"
      },
      "source": [
        "### 5.2 Decision tree"
      ]
    },
    {
      "cell_type": "code",
      "metadata": {
        "colab_type": "code",
        "id": "He4mlHb7hBoY",
        "outputId": "4f8bb56b-8a50-43ad-a5ea-114f5649f90a",
        "colab": {
          "base_uri": "https://localhost:8080/",
          "height": 225
        }
      },
      "source": [
        "# Decision tree\n",
        "\n",
        "from pyspark.ml import Pipeline\n",
        "from pyspark.ml.classification import DecisionTreeClassifier\n",
        "from pyspark.ml.feature import StringIndexer, VectorIndexer\n",
        "from pyspark.ml.evaluation import MulticlassClassificationEvaluator\n",
        "\n",
        "# Train a DecisionTree model.\n",
        "dt = DecisionTreeClassifier(labelCol=\"label\", \n",
        "                            featuresCol=\"features\")\n",
        "\n",
        "\n",
        "# Train model.  This also runs the indexers.\n",
        "model = dt.fit(train)\n",
        "\n",
        "# Make predictions.\n",
        "predictions = model.transform(test)\n",
        "\n",
        "# Select example rows to display.\n",
        "predictions.select(\"prediction\", \"label\", \"features\").show(5)\n",
        "\n",
        "# Select (prediction, true label) and compute test error\n",
        "evaluator = MulticlassClassificationEvaluator(\n",
        "    labelCol=\"label\", predictionCol=\"prediction\", metricName=\"accuracy\")\n",
        "accuracy = evaluator.evaluate(predictions)\n",
        "print(\"Test Error = %g \" % (1.0 - accuracy))"
      ],
      "execution_count": 0,
      "outputs": [
        {
          "output_type": "stream",
          "text": [
            "+----------+-----+--------------------+\n",
            "|prediction|label|            features|\n",
            "+----------+-----+--------------------+\n",
            "|       0.0|  0.0|[0.0,0.0777958228...|\n",
            "|       0.0|  0.0|[0.0,0.0789883135...|\n",
            "|       2.0|  2.0|[0.0,0.0846668408...|\n",
            "|       0.0|  0.0|[0.01298701298701...|\n",
            "|       0.0|  0.0|[0.01298701298701...|\n",
            "+----------+-----+--------------------+\n",
            "only showing top 5 rows\n",
            "\n",
            "Test Error = 0.115868 \n"
          ],
          "name": "stdout"
        }
      ]
    },
    {
      "cell_type": "markdown",
      "metadata": {
        "colab_type": "text",
        "id": "CaE-Z_IlDKXF"
      },
      "source": [
        "### 5.3 NaiveBayes"
      ]
    },
    {
      "cell_type": "code",
      "metadata": {
        "id": "VSKBCIAQMuc6",
        "colab_type": "code",
        "outputId": "be465d2e-74c5-4dea-bb68-5530575ee438",
        "colab": {
          "base_uri": "https://localhost:8080/",
          "height": 485
        }
      },
      "source": [
        "from pyspark.ml.classification import NaiveBayes\n",
        "from pyspark.ml.evaluation import MulticlassClassificationEvaluator\n",
        "\n",
        "\n",
        "# create the trainer and set its parameters\n",
        "nb = NaiveBayes(smoothing=1.0, modelType=\"multinomial\")\n",
        "\n",
        "# train the model\n",
        "model = nb.fit(train)\n",
        "\n",
        "# select example rows to display.\n",
        "predictions = model.transform(test)\n",
        "predictions.show()\n",
        "\n",
        "# compute accuracy on the test set\n",
        "evaluator = MulticlassClassificationEvaluator(labelCol=\"label\", predictionCol=\"prediction\",\n",
        "                                              metricName=\"accuracy\")\n",
        "accuracy = evaluator.evaluate(predictions)\n",
        "print(\"Test set accuracy = \" + str(accuracy))"
      ],
      "execution_count": 0,
      "outputs": [
        {
          "output_type": "stream",
          "text": [
            "+--------------------+-----+--------------------+--------------------+----------+\n",
            "|            features|label|       rawPrediction|         probability|prediction|\n",
            "+--------------------+-----+--------------------+--------------------+----------+\n",
            "|[0.0,0.0777958228...|  0.0|[-0.4026581009425...|[0.75514649558636...|       0.0|\n",
            "|[0.0,0.0789883135...|  0.0|[-0.4043642558999...|[0.75526616923914...|       0.0|\n",
            "|[0.0,0.0846668408...|  2.0|[-1.3648044693040...|[0.58428306177620...|       0.0|\n",
            "|[0.01298701298701...|  0.0|[-0.4115222093901...|[0.75684612238886...|       0.0|\n",
            "|[0.01298701298701...|  0.0|[-0.4122209204679...|[0.75689490078114...|       0.0|\n",
            "|[0.01298701298701...|  0.0|[-0.4125784005542...|[0.75691985456091...|       0.0|\n",
            "|[0.02597402597402...|  0.0|[-0.4109780919298...|[0.75788310163379...|       0.0|\n",
            "|[0.02597402597402...|  0.0|[-0.4118555430507...|[0.75794417488597...|       0.0|\n",
            "|[0.02597402597402...|  0.0|[-0.4122292722319...|[0.75797018433582...|       0.0|\n",
            "|[0.02597402597402...|  0.0|[-0.4166165278366...|[0.75827536828657...|       0.0|\n",
            "|[0.02597402597402...|  0.0|[-0.4546556588392...|[0.76091026137691...|       0.0|\n",
            "|[0.03896103896103...|  0.0|[-0.4153087029191...|[0.75925499462749...|       0.0|\n",
            "|[0.03896103896103...|  0.0|[-0.4191597383944...|[0.75952189889337...|       0.0|\n",
            "|[0.03896103896103...|  0.0|[-0.4337514255539...|[0.76053134424912...|       0.0|\n",
            "|[0.03896103896103...|  0.0|[-0.4537378121977...|[0.76190920478302...|       0.0|\n",
            "|[0.03896103896103...|  2.0|[-2.3340911713411...|[0.40821075195877...|       0.0|\n",
            "|[0.05194805194805...|  0.0|[-0.4168932168818...|[0.76043160207860...|       0.0|\n",
            "|[0.05194805194805...|  0.0|[-0.4179169098563...|[0.76050232816888...|       0.0|\n",
            "|[0.05194805194805...|  0.0|[-0.4187293645979...|[0.76055844965455...|       0.0|\n",
            "|[0.05194805194805...|  0.0|[-0.4257977208500...|[0.76104632070959...|       0.0|\n",
            "+--------------------+-----+--------------------+--------------------+----------+\n",
            "only showing top 20 rows\n",
            "\n",
            "Test set accuracy = 0.7889221556886228\n"
          ],
          "name": "stdout"
        }
      ]
    }
  ]
}