{
  "nbformat": 4,
  "nbformat_minor": 0,
  "metadata": {
    "colab": {
      "name": "Untitled12.ipynb",
      "version": "0.3.2",
      "provenance": [],
      "include_colab_link": true
    },
    "kernelspec": {
      "name": "python3",
      "display_name": "Python 3"
    }
  },
  "cells": [
    {
      "cell_type": "markdown",
      "metadata": {
        "id": "view-in-github",
        "colab_type": "text"
      },
      "source": [
        "<a href=\"https://colab.research.google.com/github/resh1604/SIT742/blob/master/Part3.ipynb\" target=\"_parent\"><img src=\"https://colab.research.google.com/assets/colab-badge.svg\" alt=\"Open In Colab\"/></a>"
      ]
    },
    {
      "metadata": {
        "id": "51eOw14LimGx",
        "colab_type": "code",
        "outputId": "35c79283-aab9-4cfe-9d5a-a75970f2d0bc",
        "colab": {
          "base_uri": "https://localhost:8080/",
          "height": 150
        }
      },
      "cell_type": "code",
      "source": [
        "!pip install wget "
      ],
      "execution_count": 1,
      "outputs": [
        {
          "output_type": "stream",
          "text": [
            "Collecting wget\n",
            "  Downloading https://files.pythonhosted.org/packages/47/6a/62e288da7bcda82b935ff0c6cfe542970f04e29c756b0e147251b2fb251f/wget-3.2.zip\n",
            "Building wheels for collected packages: wget\n",
            "  Building wheel for wget (setup.py) ... \u001b[?25ldone\n",
            "\u001b[?25h  Stored in directory: /root/.cache/pip/wheels/40/15/30/7d8f7cea2902b4db79e3fea550d7d7b85ecb27ef992b618f3f\n",
            "Successfully built wget\n",
            "Installing collected packages: wget\n",
            "Successfully installed wget-3.2\n"
          ],
          "name": "stdout"
        }
      ]
    },
    {
      "metadata": {
        "id": "N0J89Akm7dmt",
        "colab_type": "code",
        "colab": {}
      },
      "cell_type": "code",
      "source": [
        "import wget\n",
        "\n",
        "link_to_data = 'https://github.com/tulip-lab/sit742/raw/master/Assessment/2019/data/wine.json'\n",
        "DataSet = wget.download(link_to_data)\n",
        "\n",
        "link_to_data = 'https://github.com/tulip-lab/sit742/raw/master/Assessment/2019/data/stopwords.txt'\n",
        "\n",
        "DataSet = wget.download(link_to_data)"
      ],
      "execution_count": 0,
      "outputs": []
    },
    {
      "metadata": {
        "id": "lG4_KbVW7gac",
        "colab_type": "code",
        "outputId": "b8eba2ae-2058-4e7b-f6d0-ab9618254e55",
        "colab": {
          "base_uri": "https://localhost:8080/",
          "height": 33
        }
      },
      "cell_type": "code",
      "source": [
        "!ls"
      ],
      "execution_count": 3,
      "outputs": [
        {
          "output_type": "stream",
          "text": [
            "sample_data  stopwords.txt  wine.json\n"
          ],
          "name": "stdout"
        }
      ]
    },
    {
      "metadata": {
        "id": "74X9lCrv8Ogd",
        "colab_type": "code",
        "colab": {}
      },
      "cell_type": "code",
      "source": [
        "import json\n",
        "import pandas as pd\n",
        "import matplotlib.pyplot as plt"
      ],
      "execution_count": 0,
      "outputs": []
    },
    {
      "metadata": {
        "id": "VXFgM7r48Reo",
        "colab_type": "code",
        "colab": {}
      },
      "cell_type": "code",
      "source": [
        "file = 'wine.json'"
      ],
      "execution_count": 0,
      "outputs": []
    },
    {
      "metadata": {
        "id": "TKmcsTAh8SoK",
        "colab_type": "code",
        "colab": {}
      },
      "cell_type": "code",
      "source": [
        "df = pd.read_json(file, orient='columns')\n",
        "#df.head(10)\n",
        "#print(df)\n",
        "#print(df.to_json(orient='index', lines='True'))\n",
        "df"
      ],
      "execution_count": 0,
      "outputs": []
    },
    {
      "metadata": {
        "id": "sQtJvTh8DRrx",
        "colab_type": "code",
        "colab": {}
      },
      "cell_type": "code",
      "source": [
        "#df = df[(df['points']=='NaN') & (df['price']=='NaN')]\n",
        "#df = df.loc[~((df['points'] == NaN) | (df['price'] == NaN))]\n",
        "df2 = df.dropna(subset=['price', 'points'])"
      ],
      "execution_count": 0,
      "outputs": []
    },
    {
      "metadata": {
        "id": "qVv3HordiptW",
        "colab_type": "code",
        "colab": {}
      },
      "cell_type": "code",
      "source": [
        "#df2.describe()\n",
        "#df2.describe(include ='all')\n",
        "df2.points.describe()"
      ],
      "execution_count": 0,
      "outputs": []
    },
    {
      "metadata": {
        "id": "rSyVOatWnjDi",
        "colab_type": "code",
        "colab": {}
      },
      "cell_type": "code",
      "source": [
        "df2.price.describe()"
      ],
      "execution_count": 0,
      "outputs": []
    },
    {
      "metadata": {
        "id": "xj79ToyMrR8O",
        "colab_type": "code",
        "colab": {}
      },
      "cell_type": "code",
      "source": [
        "#df[df.points > 80].sort_values['variety'].head(10)\n",
        "df2.nlargest(10, 'points')\n"
      ],
      "execution_count": 0,
      "outputs": []
    },
    {
      "metadata": {
        "id": "HlHtJMzFyVRG",
        "colab_type": "code",
        "colab": {}
      },
      "cell_type": "code",
      "source": [
        "df2['variety'].value_counts().head(10)  "
      ],
      "execution_count": 0,
      "outputs": []
    },
    {
      "metadata": {
        "id": "tClw4uljJ0Sv",
        "colab_type": "code",
        "colab": {}
      },
      "cell_type": "code",
      "source": [
        "#df3 = print(df2[['description']])\n",
        "df3 = df2.loc[:,'description']"
      ],
      "execution_count": 0,
      "outputs": []
    },
    {
      "metadata": {
        "id": "VEeC8nnjK1Cd",
        "colab_type": "code",
        "colab": {}
      },
      "cell_type": "code",
      "source": [
        "df3"
      ],
      "execution_count": 0,
      "outputs": []
    },
    {
      "metadata": {
        "id": "4I88oy1jf7qA",
        "colab_type": "code",
        "colab": {}
      },
      "cell_type": "code",
      "source": [
        "df2.description.str.split(expand=True).stack().value_counts()"
      ],
      "execution_count": 0,
      "outputs": []
    },
    {
      "metadata": {
        "id": "IWNkzDN9JkDb",
        "colab_type": "code",
        "colab": {}
      },
      "cell_type": "code",
      "source": [
        "import re\n",
        "import nltk\n",
        "from nltk.tokenize import RegexpTokenizer\n",
        "from nltk.probability import *\n",
        "from itertools import chain\n",
        "#from tqdm import tqdm\n",
        "import codecs"
      ],
      "execution_count": 0,
      "outputs": []
    },
    {
      "metadata": {
        "id": "2wQLX16BJpIa",
        "colab_type": "code",
        "colab": {}
      },
      "cell_type": "code",
      "source": [
        "with open('stopwords.txt') as f:\n",
        "    stop_words = f.read().splitlines()\n",
        "stop_words = set(stop_words)"
      ],
      "execution_count": 0,
      "outputs": []
    },
    {
      "metadata": {
        "id": "FlOynsAuuu3e",
        "colab_type": "code",
        "colab": {}
      },
      "cell_type": "code",
      "source": [
        "#df4 = df2['description'].str.cat(sep=', ')\n",
        "#', '.join(df2.description)"
      ],
      "execution_count": 0,
      "outputs": []
    },
    {
      "metadata": {
        "id": "NkqRWQ3YwmxY",
        "colab_type": "code",
        "colab": {
          "base_uri": "https://localhost:8080/",
          "height": 53
        },
        "outputId": "c3217eb4-0b3a-4474-f65e-6c5e7a48cb1f"
      },
      "cell_type": "code",
      "source": [
        "df5 = df2.loc[:,'description'].head(20)\n",
        "df5\n",
        "df6 = df5.str.cat(sep=', ')\n",
        "df6"
      ],
      "execution_count": 19,
      "outputs": [
        {
          "output_type": "execute_result",
          "data": {
            "text/plain": [
              "\"This is ripe and fruity, a wine that is smooth while still structured. Firm tannins are filled out with juicy red berry fruits and freshened with acidity. It's  already drinkable, although it will certainly be better from 2016., Tart and snappy, the flavors of lime flesh and rind dominate. Some green pineapple pokes through, with crisp acidity underscoring the flavors. The wine was all stainless-steel fermented., Pineapple rind, lemon pith and orange blossom start off the aromas. The palate is a bit more opulent, with notes of honey-drizzled guava and mango giving way to a slightly astringent, semidry finish., Much like the regular bottling from 2012, this comes across as rather rough and tannic, with rustic, earthy, herbal characteristics. Nonetheless, if you think of it as a pleasantly unfussy country wine, it's a good companion to a hearty winter stew., Blackberry and raspberry aromas show a typical Navarran whiff of green herbs and, in this case, horseradish. In the mouth, this is fairly full bodied, with tomatoey acidity. Spicy, herbal flavors complement dark plum fruit, while the finish is fresh but grabby., Here's a bright, informal red that opens with aromas of candied berry, white pepper and savory herb that carry over to the palate. It's balanced with fresh acidity and soft tannins., This dry and restrained wine offers spice in profusion. Balanced with acidity and a firm texture, it's very much for food., Savory dried thyme notes accent sunnier flavors of preserved peach in this brisk, off-dry wine. It's fruity and fresh, with an elegant, sprightly footprint., This has great depth of flavor with its fresh apple and pear fruits and touch of spice. It's off dry while balanced with acidity and a crisp texture. Drink now., Soft, supple plum envelopes an oaky structure in this Cabernet, supported by 15% Merlot. Coffee and chocolate complete the picture, finishing strong at the end, resulting in a value-priced wine of attractive flavor and immediate accessibility., This is a dry wine, very spicy, with a tight, taut texture and strongly mineral character layered with citrus as well as pepper. It's a food wine with its almost crisp aftertaste., Slightly reduced, this wine offers a chalky, tannic backbone to an otherwise juicy explosion of rich black cherry, the whole accented throughout by firm oak and cigar box., Building on 150 years and six generations of winemaking tradition, the winery trends toward a leaner style, with the classic California buttercream aroma cut by tart green apple. In this good everyday sipping wine, flavors that range from pear to barely ripe pineapple prove approachable but not distinctive., Zesty orange peels and apple notes abound in this sprightly, mineral-toned Riesling. Off dry on the palate, yet racy and lean, it's a refreshing, easy quaffer with wide appeal., Baked plum, molasses, balsamic vinegar and cheesy oak aromas feed into a palate that's braced by a bolt of acidity. A compact set of saucy red-berry and plum flavors features tobacco and peppery accents, while the finish is mildly green in flavor, with respectable weight and balance., Raw black-cherry aromas are direct and simple but good. This has a juicy feel that thickens over time, with oak character and extract becoming more apparent. A flavor profile driven by dark-berry fruits and smoldering oak finishes meaty but hot., Desiccated blackberry, leather, charred wood and mint aromas carry the nose on this full-bodied, tannic, heavily oaked Tinto Fino. Flavors of clove and woodspice sit on top of blackberry fruit, then hickory and other forceful oak-based aromas rise up and dominate the finish., Red fruit aromas pervade on the nose, with cigar box and menthol notes riding in the back. The palate is slightly restrained on entry, but opens up to riper notes of cherry and plum specked with crushed pepper. This blend of Merlot, Cabernet Sauvignon and Cabernet Franc is approachable now and ready to be enjoyed., Ripe aromas of dark berries mingle with ample notes of black pepper, toasted vanilla and dusty tobacco. The palate is oak-driven in nature, but notes of tart red currant shine through, offering a bit of levity., A sleek mix of tart berry, stem and herb, along with a hint of oak and chocolate, this is a fair value in a widely available, drink-now Oregon Pinot. The wine oak-aged for six months, whether in neutral or re-staved is not indicated.\""
            ]
          },
          "metadata": {
            "tags": []
          },
          "execution_count": 19
        }
      ]
    },
    {
      "metadata": {
        "id": "CrHSyZJ-JuCb",
        "colab_type": "code",
        "colab": {
          "base_uri": "https://localhost:8080/",
          "height": 53
        },
        "outputId": "58033d4a-ae8b-4f3f-89a0-864492fa680c"
      },
      "cell_type": "code",
      "source": [
        "# write your code here\n",
        "# define your tokenize\n",
        "\n",
        "'''raw = \"\"\"The GSO finace group in  U.S.A. provided Cole with about\n",
        "US$40,000,555.4 in funding, which accounts for 35.3% of Cole's revenue (i.e., AUD113.3m), \n",
        "as the ASX-listed firm battles for its survival.\n",
        "Mr. Johnson said GSO's recapitalisation meant \"the current shares are worthless\".\"\"\" '''\n",
        "\n",
        "re.split(r\"\\s+\", df6)  \n",
        "tokenizer = RegexpTokenizer(r\"\\w+(?:[-']\\w+)?\") \n",
        "tokens = tokenizer.tokenize(df6)\n",
        "print(tokens)"
      ],
      "execution_count": 20,
      "outputs": [
        {
          "output_type": "stream",
          "text": [
            "['This', 'is', 'ripe', 'and', 'fruity', 'a', 'wine', 'that', 'is', 'smooth', 'while', 'still', 'structured', 'Firm', 'tannins', 'are', 'filled', 'out', 'with', 'juicy', 'red', 'berry', 'fruits', 'and', 'freshened', 'with', 'acidity', \"It's\", 'already', 'drinkable', 'although', 'it', 'will', 'certainly', 'be', 'better', 'from', '2016', 'Tart', 'and', 'snappy', 'the', 'flavors', 'of', 'lime', 'flesh', 'and', 'rind', 'dominate', 'Some', 'green', 'pineapple', 'pokes', 'through', 'with', 'crisp', 'acidity', 'underscoring', 'the', 'flavors', 'The', 'wine', 'was', 'all', 'stainless-steel', 'fermented', 'Pineapple', 'rind', 'lemon', 'pith', 'and', 'orange', 'blossom', 'start', 'off', 'the', 'aromas', 'The', 'palate', 'is', 'a', 'bit', 'more', 'opulent', 'with', 'notes', 'of', 'honey-drizzled', 'guava', 'and', 'mango', 'giving', 'way', 'to', 'a', 'slightly', 'astringent', 'semidry', 'finish', 'Much', 'like', 'the', 'regular', 'bottling', 'from', '2012', 'this', 'comes', 'across', 'as', 'rather', 'rough', 'and', 'tannic', 'with', 'rustic', 'earthy', 'herbal', 'characteristics', 'Nonetheless', 'if', 'you', 'think', 'of', 'it', 'as', 'a', 'pleasantly', 'unfussy', 'country', 'wine', \"it's\", 'a', 'good', 'companion', 'to', 'a', 'hearty', 'winter', 'stew', 'Blackberry', 'and', 'raspberry', 'aromas', 'show', 'a', 'typical', 'Navarran', 'whiff', 'of', 'green', 'herbs', 'and', 'in', 'this', 'case', 'horseradish', 'In', 'the', 'mouth', 'this', 'is', 'fairly', 'full', 'bodied', 'with', 'tomatoey', 'acidity', 'Spicy', 'herbal', 'flavors', 'complement', 'dark', 'plum', 'fruit', 'while', 'the', 'finish', 'is', 'fresh', 'but', 'grabby', \"Here's\", 'a', 'bright', 'informal', 'red', 'that', 'opens', 'with', 'aromas', 'of', 'candied', 'berry', 'white', 'pepper', 'and', 'savory', 'herb', 'that', 'carry', 'over', 'to', 'the', 'palate', \"It's\", 'balanced', 'with', 'fresh', 'acidity', 'and', 'soft', 'tannins', 'This', 'dry', 'and', 'restrained', 'wine', 'offers', 'spice', 'in', 'profusion', 'Balanced', 'with', 'acidity', 'and', 'a', 'firm', 'texture', \"it's\", 'very', 'much', 'for', 'food', 'Savory', 'dried', 'thyme', 'notes', 'accent', 'sunnier', 'flavors', 'of', 'preserved', 'peach', 'in', 'this', 'brisk', 'off-dry', 'wine', \"It's\", 'fruity', 'and', 'fresh', 'with', 'an', 'elegant', 'sprightly', 'footprint', 'This', 'has', 'great', 'depth', 'of', 'flavor', 'with', 'its', 'fresh', 'apple', 'and', 'pear', 'fruits', 'and', 'touch', 'of', 'spice', \"It's\", 'off', 'dry', 'while', 'balanced', 'with', 'acidity', 'and', 'a', 'crisp', 'texture', 'Drink', 'now', 'Soft', 'supple', 'plum', 'envelopes', 'an', 'oaky', 'structure', 'in', 'this', 'Cabernet', 'supported', 'by', '15', 'Merlot', 'Coffee', 'and', 'chocolate', 'complete', 'the', 'picture', 'finishing', 'strong', 'at', 'the', 'end', 'resulting', 'in', 'a', 'value-priced', 'wine', 'of', 'attractive', 'flavor', 'and', 'immediate', 'accessibility', 'This', 'is', 'a', 'dry', 'wine', 'very', 'spicy', 'with', 'a', 'tight', 'taut', 'texture', 'and', 'strongly', 'mineral', 'character', 'layered', 'with', 'citrus', 'as', 'well', 'as', 'pepper', \"It's\", 'a', 'food', 'wine', 'with', 'its', 'almost', 'crisp', 'aftertaste', 'Slightly', 'reduced', 'this', 'wine', 'offers', 'a', 'chalky', 'tannic', 'backbone', 'to', 'an', 'otherwise', 'juicy', 'explosion', 'of', 'rich', 'black', 'cherry', 'the', 'whole', 'accented', 'throughout', 'by', 'firm', 'oak', 'and', 'cigar', 'box', 'Building', 'on', '150', 'years', 'and', 'six', 'generations', 'of', 'winemaking', 'tradition', 'the', 'winery', 'trends', 'toward', 'a', 'leaner', 'style', 'with', 'the', 'classic', 'California', 'buttercream', 'aroma', 'cut', 'by', 'tart', 'green', 'apple', 'In', 'this', 'good', 'everyday', 'sipping', 'wine', 'flavors', 'that', 'range', 'from', 'pear', 'to', 'barely', 'ripe', 'pineapple', 'prove', 'approachable', 'but', 'not', 'distinctive', 'Zesty', 'orange', 'peels', 'and', 'apple', 'notes', 'abound', 'in', 'this', 'sprightly', 'mineral-toned', 'Riesling', 'Off', 'dry', 'on', 'the', 'palate', 'yet', 'racy', 'and', 'lean', \"it's\", 'a', 'refreshing', 'easy', 'quaffer', 'with', 'wide', 'appeal', 'Baked', 'plum', 'molasses', 'balsamic', 'vinegar', 'and', 'cheesy', 'oak', 'aromas', 'feed', 'into', 'a', 'palate', \"that's\", 'braced', 'by', 'a', 'bolt', 'of', 'acidity', 'A', 'compact', 'set', 'of', 'saucy', 'red-berry', 'and', 'plum', 'flavors', 'features', 'tobacco', 'and', 'peppery', 'accents', 'while', 'the', 'finish', 'is', 'mildly', 'green', 'in', 'flavor', 'with', 'respectable', 'weight', 'and', 'balance', 'Raw', 'black-cherry', 'aromas', 'are', 'direct', 'and', 'simple', 'but', 'good', 'This', 'has', 'a', 'juicy', 'feel', 'that', 'thickens', 'over', 'time', 'with', 'oak', 'character', 'and', 'extract', 'becoming', 'more', 'apparent', 'A', 'flavor', 'profile', 'driven', 'by', 'dark-berry', 'fruits', 'and', 'smoldering', 'oak', 'finishes', 'meaty', 'but', 'hot', 'Desiccated', 'blackberry', 'leather', 'charred', 'wood', 'and', 'mint', 'aromas', 'carry', 'the', 'nose', 'on', 'this', 'full-bodied', 'tannic', 'heavily', 'oaked', 'Tinto', 'Fino', 'Flavors', 'of', 'clove', 'and', 'woodspice', 'sit', 'on', 'top', 'of', 'blackberry', 'fruit', 'then', 'hickory', 'and', 'other', 'forceful', 'oak-based', 'aromas', 'rise', 'up', 'and', 'dominate', 'the', 'finish', 'Red', 'fruit', 'aromas', 'pervade', 'on', 'the', 'nose', 'with', 'cigar', 'box', 'and', 'menthol', 'notes', 'riding', 'in', 'the', 'back', 'The', 'palate', 'is', 'slightly', 'restrained', 'on', 'entry', 'but', 'opens', 'up', 'to', 'riper', 'notes', 'of', 'cherry', 'and', 'plum', 'specked', 'with', 'crushed', 'pepper', 'This', 'blend', 'of', 'Merlot', 'Cabernet', 'Sauvignon', 'and', 'Cabernet', 'Franc', 'is', 'approachable', 'now', 'and', 'ready', 'to', 'be', 'enjoyed', 'Ripe', 'aromas', 'of', 'dark', 'berries', 'mingle', 'with', 'ample', 'notes', 'of', 'black', 'pepper', 'toasted', 'vanilla', 'and', 'dusty', 'tobacco', 'The', 'palate', 'is', 'oak-driven', 'in', 'nature', 'but', 'notes', 'of', 'tart', 'red', 'currant', 'shine', 'through', 'offering', 'a', 'bit', 'of', 'levity', 'A', 'sleek', 'mix', 'of', 'tart', 'berry', 'stem', 'and', 'herb', 'along', 'with', 'a', 'hint', 'of', 'oak', 'and', 'chocolate', 'this', 'is', 'a', 'fair', 'value', 'in', 'a', 'widely', 'available', 'drink-now', 'Oregon', 'Pinot', 'The', 'wine', 'oak-aged', 'for', 'six', 'months', 'whether', 'in', 'neutral', 'or', 're-staved', 'is', 'not', 'indicated']\n"
          ],
          "name": "stdout"
        }
      ]
    },
    {
      "metadata": {
        "id": "cgDKdr1G2C1p",
        "colab_type": "code",
        "colab": {}
      },
      "cell_type": "code",
      "source": [
        "#fd_1 = FreqDist(tokens)\n",
        "#fd_1.most_common(25)\n",
        "\n",
        "#ans10 = [x for x in tokens if > 5000]\n",
        "#print(ans10)\n",
        "\n",
        "ans10 = pd.Series(tokens).value_counts().sort_values(ascending=False)\n",
        "\n",
        "#ans10 = pd.Series(tokens).value_counts().sort_values(ascending=False)\n",
        "#ans11 = FreqDist(ans10)\n",
        "#ans11\n",
        "\n",
        "#newlist = [word for word in words if len(word) == 9]\n",
        "\n",
        "#fish_list = [fish for fish in fish_tuple if fish != 'octopus']\n",
        "#print(fish_list)\n",
        "\n",
        "#number_list = [x ** 2 for x in range(10) if x % 2 == 0]\n",
        "#print(number_list)\n",
        "\n",
        "#newfd = sorted(fd_1, key=fd_1.get, reverse=True)[:10]\n",
        "#newfd"
      ],
      "execution_count": 0,
      "outputs": []
    },
    {
      "metadata": {
        "id": "hnh7pDmX2hDz",
        "colab_type": "code",
        "colab": {}
      },
      "cell_type": "code",
      "source": [
        "import matplotlib.pyplot as plt\n",
        "%matplotlib inline \n",
        "import nltk\n",
        "from nltk.corpus import reuters\n",
        "nltk.download('punkt')\n",
        "def tokenizeRawData(fileid):\n",
        "    raw_article = reuters.raw(fileid).lower()\n",
        "    tokenised_article = nltk.tokenize.word_tokenize(raw_article) \n",
        "    return (fileid, tokenised_article)\n",
        "nltk.download('reuters')\n",
        "reuters.fileids()\n",
        "reuters.categories()\n",
        "tokenized_reuters =  dict(tokenizeRawData(fileid) for fileid in reuters.fileids())\n",
        "tokenized_reuters"
      ],
      "execution_count": 0,
      "outputs": []
    },
    {
      "metadata": {
        "id": "v_BGykWRHC9-",
        "colab_type": "code",
        "colab": {}
      },
      "cell_type": "code",
      "source": [
        "# To print all key and vaule in the tokenized_reruers dictionary\n",
        "for key, value in tokenized_reuters.items() :\n",
        "    print (key, value)\n",
        "tokenized_reuters['training/1684']\n",
        "for k, v in tokenized_reuters.items():\n",
        "    #For the v in the each k, we will  keep alphabetic characters and alphanumberic characters\n",
        "    tokenized_reuters[k] = [word for word in v if word.isalnum()]\n",
        "\n",
        "tokenized_reuters['training/1684']\n",
        "#You will find the ',' and numbers which are not deleted comparing with above sample"
      ],
      "execution_count": 0,
      "outputs": []
    },
    {
      "metadata": {
        "id": "L-90jAfnHiti",
        "colab_type": "code",
        "colab": {
          "base_uri": "https://localhost:8080/",
          "height": 84
        },
        "outputId": "e2e470bb-7d1c-47cf-8d2c-140723dbd876"
      },
      "cell_type": "code",
      "source": [
        "from __future__ import division\n",
        "from itertools import chain\n",
        "\n",
        "words = list(chain.from_iterable(tokenized_reuters.values()))\n",
        "\n",
        "#Convert the words type from list to set\n",
        "#because the set will automaticlly delete all repeated elements in the list.\n",
        "vocab = set(words)\n",
        "\n",
        "lexical_diversity = len(words)/len(vocab)\n",
        "\n",
        "\n",
        "print (\"Total number of tokens: \", len(words), \"\\nVocabulary size (Type): \",len(vocab),\n",
        "\"\\nLexical diversity: \", lexical_diversity, \"\\nThe Lexical diversity means that words occur on averge about\", round(lexical_diversity),\"times each.\")"
      ],
      "execution_count": 75,
      "outputs": [
        {
          "output_type": "stream",
          "text": [
            "Total number of tokens:  1310704 \n",
            "Vocabulary size (Type):  29165 \n",
            "Lexical diversity:  44.9409909137665 \n",
            "The Lexical diversity means that words occur on averge about 45 times each.\n"
          ],
          "name": "stdout"
        }
      ]
    },
    {
      "metadata": {
        "id": "TFm9ss54HsQN",
        "colab_type": "code",
        "colab": {}
      },
      "cell_type": "code",
      "source": [
        "for wordList in tokenized_reuters.values():\n",
        "       for word in wordList:\n",
        "           yield word"
      ],
      "execution_count": 0,
      "outputs": []
    },
    {
      "metadata": {
        "id": "UHynM8SfIhSg",
        "colab_type": "code",
        "colab": {
          "base_uri": "https://localhost:8080/",
          "height": 435
        },
        "outputId": "24959378-44b1-414d-c00c-7a81e38e7248"
      },
      "cell_type": "code",
      "source": [
        "from nltk.probability import *\n",
        "fd_1 = FreqDist(words)\n",
        "fd_1.most_common(25)\n",
        "#fd_1.plot(25, cumulative=True)\n",
        "words_2 = list(chain.from_iterable([set(value) for value in tokenized_reuters.values()]))\n",
        "fd_2 = FreqDist(words_2)\n",
        "fd_2.most_common(25)"
      ],
      "execution_count": 76,
      "outputs": [
        {
          "output_type": "execute_result",
          "data": {
            "text/plain": [
              "[('of', 7621),\n",
              " ('the', 6950),\n",
              " ('to', 6911),\n",
              " ('said', 6784),\n",
              " ('and', 6761),\n",
              " ('in', 6580),\n",
              " ('a', 6222),\n",
              " ('lt', 6069),\n",
              " ('for', 5415),\n",
              " ('mln', 4845),\n",
              " ('it', 4788),\n",
              " ('dlrs', 4193),\n",
              " ('from', 4006),\n",
              " ('on', 3987),\n",
              " ('its', 3761),\n",
              " ('is', 3569),\n",
              " ('by', 3511),\n",
              " ('year', 3416),\n",
              " ('at', 3392),\n",
              " ('with', 3253),\n",
              " ('pct', 3212),\n",
              " ('cts', 3068),\n",
              " ('inc', 3017),\n",
              " ('vs', 2982),\n",
              " ('be', 2927)]"
            ]
          },
          "metadata": {
            "tags": []
          },
          "execution_count": 76
        }
      ]
    },
    {
      "metadata": {
        "id": "iLKmWb_G3fKt",
        "colab_type": "code",
        "colab": {}
      },
      "cell_type": "code",
      "source": [
        "import wget\n",
        "\n",
        "link_to_data = 'https://github.com/tulip-lab/sit742/raw/master/Jupyter/data/stopwords_en.txt'\n",
        "\n",
        "DataSet = wget.download(link_to_data)"
      ],
      "execution_count": 0,
      "outputs": []
    },
    {
      "metadata": {
        "id": "MFu0eOcXJFd4",
        "colab_type": "code",
        "colab": {
          "base_uri": "https://localhost:8080/",
          "height": 33
        },
        "outputId": "7ecb28cc-bcd2-4cf0-b8f4-e1e620be1fbd"
      },
      "cell_type": "code",
      "source": [
        "!ls"
      ],
      "execution_count": 59,
      "outputs": [
        {
          "output_type": "stream",
          "text": [
            "sample_data  stopwords_en.txt  stopwords.txt  wine.json\n"
          ],
          "name": "stdout"
        }
      ]
    },
    {
      "metadata": {
        "id": "V00GLkNNJJKe",
        "colab_type": "code",
        "colab": {}
      },
      "cell_type": "code",
      "source": [
        "stopwords = []\n",
        "with open('stopwords_en.txt') as f:\n",
        "    stopwords = f.read().splitlines()\n",
        "stopwords[:20]"
      ],
      "execution_count": 0,
      "outputs": []
    },
    {
      "metadata": {
        "id": "C6bDez7vJV3n",
        "colab_type": "code",
        "colab": {
          "base_uri": "https://localhost:8080/",
          "height": 33
        },
        "outputId": "3d285e43-7db3-40fb-b601-7342a329290c"
      },
      "cell_type": "code",
      "source": [
        "tokenized_reuters_1 = {}\n",
        "for fileid in reuters.fileids():\n",
        "    tokenized_reuters_1[fileid] = [w for w in tokenized_reuters[fileid] if w not in stopwords]\n",
        "tokenized_reuters_1\n",
        "\n",
        "print(len(tokenized_reuters_1))"
      ],
      "execution_count": 78,
      "outputs": [
        {
          "output_type": "stream",
          "text": [
            "10788\n"
          ],
          "name": "stdout"
        }
      ]
    },
    {
      "metadata": {
        "id": "N0s7lw6pJeJW",
        "colab_type": "code",
        "colab": {
          "base_uri": "https://localhost:8080/",
          "height": 67
        },
        "outputId": "46a6dc96-dba5-4b7d-e927-30912da97d9c"
      },
      "cell_type": "code",
      "source": [
        "#Convert the list stopwords to set stopwordsSet\n",
        "stopwordsSet = set(stopwords)\n",
        "\n",
        "#The length of stopwords list\n",
        "print(len(stopwords))\n",
        "\n",
        "#The length of stopwordsSet set\n",
        "print(len(stopwordsSet))\n",
        "\n",
        "#To delete all stopswords in the reuters\n",
        "for fileid in reuters.fileids():\n",
        "    tokenized_reuters[fileid] = [w for w in tokenized_reuters[fileid] if w not in stopwordsSet]\n",
        "\n",
        "#The length of processed tokenized_retuers\n",
        "print(len(tokenized_reuters))"
      ],
      "execution_count": 63,
      "outputs": [
        {
          "output_type": "stream",
          "text": [
            "571\n",
            "570\n",
            "10788\n"
          ],
          "name": "stdout"
        }
      ]
    },
    {
      "metadata": {
        "id": "z2WYMRKcKxSU",
        "colab_type": "code",
        "colab": {
          "base_uri": "https://localhost:8080/",
          "height": 33
        },
        "outputId": "4ad63922-cace-4086-9188-4a5d57fb38b7"
      },
      "cell_type": "code",
      "source": [
        "#To combine all tokenized_reuters without stopwords in a list using the chain method\n",
        "words_3 = list(chain.from_iterable(tokenized_reuters.values()))\n",
        "fd_3 = FreqDist(words_3)\n",
        "list(vocab - set(fd_3.keys()))"
      ],
      "execution_count": 79,
      "outputs": [
        {
          "output_type": "execute_result",
          "data": {
            "text/plain": [
              "[]"
            ]
          },
          "metadata": {
            "tags": []
          },
          "execution_count": 79
        }
      ]
    },
    {
      "metadata": {
        "id": "7vrEDyTXK0yQ",
        "colab_type": "code",
        "colab": {
          "base_uri": "https://localhost:8080/",
          "height": 184
        },
        "outputId": "b0873052-fee4-4f31-b3b2-f1ab64ef9979"
      },
      "cell_type": "code",
      "source": [
        "fd_3.most_common(10)"
      ],
      "execution_count": 80,
      "outputs": [
        {
          "output_type": "execute_result",
          "data": {
            "text/plain": [
              "[('the', 69245),\n",
              " ('of', 36749),\n",
              " ('to', 36275),\n",
              " ('in', 29217),\n",
              " ('and', 25616),\n",
              " ('said', 25381),\n",
              " ('a', 24723),\n",
              " ('mln', 18598),\n",
              " ('vs', 14332),\n",
              " ('for', 13420)]"
            ]
          },
          "metadata": {
            "tags": []
          },
          "execution_count": 80
        }
      ]
    },
    {
      "metadata": {
        "id": "0NNyR-x9K56V",
        "colab_type": "code",
        "colab": {}
      },
      "cell_type": "code",
      "source": [
        "nltk.Text(reuters.words()).concordance('mln')\n",
        "nltk.Text(reuters.words()).concordance('net')"
      ],
      "execution_count": 0,
      "outputs": []
    },
    {
      "metadata": {
        "id": "xdHFo45vLOxT",
        "colab_type": "code",
        "colab": {
          "base_uri": "https://localhost:8080/",
          "height": 278
        },
        "outputId": "56fd5995-e25b-4ab2-86f0-2cbcaf9a85bd"
      },
      "cell_type": "code",
      "source": [
        "#we have defined fd_3 = FreqDist(words_3), it means that ffd will show FreqDist about the processed tokenized_reuters\n",
        "ffd = FreqDist(fd_3.values())\n",
        "\n",
        "#Import pylab package for data virtualization\n",
        "from pylab import *\n",
        "\n",
        "#To create a list include 14 element, '0'.\n",
        "y = [0]*14\n",
        "\n",
        "#For top 10 Freq, we will show each of them \n",
        "#For therest Freq, we will catagorize them by 10-50, 51-100, 101-500 and > 500.\n",
        "#You can add a new code cell to run the command 'ffd'. Then, you can understand the below statements block deeply.\n",
        "for k, v in ffd.items():\n",
        "     if k <= 10:\n",
        "        y[k-1] = v\n",
        "     elif k >10 and k <= 50:\n",
        "        y[10] =  y[10] + v\n",
        "     elif k >50 and k <= 100:\n",
        "        y[11] =  y[11] + v\n",
        "     elif k > 100 and k <= 500:\n",
        "        y[12] =  y[12] + v\n",
        "     else:\n",
        "        y[13] =  y[13] + v\n",
        "                \n",
        "#covert a integer list to a string list\n",
        "ytks =list(map(str, range(1, 11))) \n",
        "\n",
        "#append is uedd to add its argument as a single element to the end of a list. \n",
        "ytks.append('10-50')\n",
        "ytks.append('51-100')\n",
        "ytks.append('101-500')\n",
        "ytks.append('>500')\n",
        "\n",
        "# generate integer from 1 to 14        \n",
        "x = range(1, 15)\n",
        "\n",
        "#Center the bars on the y positions\n",
        "barh(x,y, align='center')\n",
        "\n",
        "#x, A list of positions at which ticks should be placed\n",
        "#ytks, A list of explicit labels to place at the given locs.\n",
        "yticks(x, ytks)\n",
        "\n",
        "#To define x axial and y axial lables.\n",
        "xlabel('Frequency of Frequency')\n",
        "ylabel('Word Frequency')\n",
        "\n",
        "#To show the grid line on the diagram\n",
        "grid(True)"
      ],
      "execution_count": 68,
      "outputs": [
        {
          "output_type": "display_data",
          "data": {
            "image/png": "[encoded data removed]",
            "text/plain": [
              "<Figure size 432x288 with 1 Axes>"
            ]
          },
          "metadata": {
            "tags": []
          }
        }
      ]
    },
    {
      "metadata": {
        "id": "QFrgP72-LVe-",
        "colab_type": "code",
        "colab": {}
      },
      "cell_type": "code",
      "source": [
        "lessFreqWords = set(fd_3.hapaxes())\n",
        "\n",
        "#You also can use  \"lessFreqWords = set([k for k, v in fdist.items() if v < 2])\" to replace \"lessFreqWords = set(fd_3.hapaxes())\"\n",
        "\n",
        "#You can uncomment below codes for using the mp.pool parallelizing the execution of a function.\n",
        "#pool = mp.Pool(4)\n",
        "#tokenized_reuters = dict(pool.map(removeLessFreqWords, reuters.fileids()))"
      ],
      "execution_count": 0,
      "outputs": []
    },
    {
      "metadata": {
        "id": "3knTEtC6LYOU",
        "colab_type": "code",
        "colab": {}
      },
      "cell_type": "code",
      "source": [
        "#To define a function for removing LessFreqWords\n",
        "def removeLessFreqWords(fileid):\n",
        "    return (fileid, [w for w in tokenized_reuters[fileid] if w not in lessFreqWords])\n",
        "\n",
        "tokenized_reuters = dict(removeLessFreqWords(fileid) for fileid in reuters.fileids())"
      ],
      "execution_count": 0,
      "outputs": []
    },
    {
      "metadata": {
        "id": "BCNY71YxLat7",
        "colab_type": "code",
        "colab": {
          "base_uri": "https://localhost:8080/",
          "height": 187
        },
        "outputId": "5fa0b8f5-4908-4ce2-819e-8434c97dc04f"
      },
      "cell_type": "code",
      "source": [
        "import numpy as np\n",
        "\n",
        "words = list(chain.from_iterable(tokenized_reuters.values()))\n",
        "vocab = set(words)\n",
        "\n",
        "print (\"Vocabulary size: \",len(vocab))\n",
        "print (\"Total number of tokens: \", len(words))\n",
        "print (\"Lexical diversity: \", lexical_diversity)\n",
        "print (\"Total number of articles:\", len(tokenized_reuters))\n",
        "\n",
        "lens = [len(value) for value in tokenized_reuters.values()]\n",
        "print('The lens list for each article are', lens)\n",
        "\n",
        "#For mean,max, min and std,you can check those concepts on https://www.ucd.ie/t4cms/Mean%20and%20Standard%20Deviation.pdf\n",
        "print (\"Average document length:\", np.mean(lens))\n",
        "print (\"Maximun document length:\", np.max(lens))\n",
        "print (\"Minimun document length:\", np.min(lens))\n",
        "print (\"Standard deviation of document length:\", np.std(lens))"
      ],
      "execution_count": 71,
      "outputs": [
        {
          "output_type": "stream",
          "text": [
            "Vocabulary size:  18239\n",
            "Total number of tokens:  746942\n",
            "Lexical diversity:  44.9409909137665\n",
            "Total number of articles: 10788\n",
            "The lens list for each article are [362, 61, 99, 96, 95, 99, 199, 29, 60, 307, 50, 124, 139, 46, 236, 55, 61, 59, 218, 141, 69, 58, 92, 112, 60, 49, 51, 94, 55, 55, 20, 143, 358, 366, 127, 14, 92, 49, 107, 53, 101, 119, 94, 43, 21, 46, 417, 88, 52, 61, 107, 60, 215, 41, 72, 15, 82, 12, 69, 63, 24, 70, 16, 111, 32, 17, 36, 57, 18, 37, 14, 28, 23, 24, 21, 101, 49, 20, 214, 43, 106, 15, 20, 162, 83, 98, 16, 40, 35, 17, 17, 28, 46, 15, 16, 16, 101, 12, 33, 108, 11, 37, 52, 12, 49, 37, 71, 24, 82, 21, 42, 307, 66, 0, 114, 57, 40, 20, 95, 50, 41, 30, 17, 464, 94, 26, 14, 12, 20, 15, 19, 19, 14, 40, 128, 12, 58, 72, 156, 31, 76, 233, 34, 134, 74, 18, 123, 24, 97, 15, 21, 20, 121, 69, 12, 29, 48, 19, 45, 49, 37, 19, 37, 15, 64, 55, 246, 18, 17, 201, 79, 18, 47, 52, 49, 16, 18, 74, 28, 16, 32, 87, 48, 100, 305, 17, 50, 105, 28, 47, 149, 15, 17, 44, 59, 87, 216, 56, 92, 62, 30, 20, 52, 99, 131, 111, 50, 39, 59, 166, 190, 103, 16, 14, 50, 151, 25, 63, 99, 267, 133, 17, 27, 16, 172, 157, 9, 90, 53, 29, 56, 57, 22, 35, 76, 18, 69, 55, 65, 47, 21, 47, 21, 19, 20, 69, 68, 49, 114, 36, 100, 25, 58, 109, 98, 42, 21, 82, 53, 166, 48, 34, 44, 85, 13, 28, 14, 52, 70, 105, 28, 154, 102, 395, 40, 26, 82, 26, 111, 291, 47, 58, 96, 54, 313, 163, 38, 18, 94, 14, 168, 69, 42, 55, 124, 37, 84, 61, 53, 90, 53, 38, 58, 65, 22, 169, 38, 76, 182, 27, 153, 92, 46, 88, 22, 42, 54, 44, 44, 41, 142, 0, 375, 203, 35, 110, 45, 48, 209, 183, 163, 145, 184, 90, 14, 38, 280, 42, 21, 47, 54, 59, 125, 34, 24, 49, 35, 60, 25, 41, 65, 37, 16, 46, 30, 25, 33, 77, 64, 62, 29, 23, 135, 33, 79, 31, 12, 52, 45, 25, 111, 31, 18, 32, 156, 46, 18, 75, 16, 55, 53, 17, 438, 44, 215, 161, 15, 324, 43, 20, 37, 29, 44, 23, 134, 20, 159, 29, 122, 18, 97, 27, 110, 56, 52, 33, 24, 34, 192, 37, 12, 63, 44, 30, 59, 31, 36, 27, 55, 58, 33, 44, 23, 80, 12, 72, 47, 37, 12, 49, 50, 188, 69, 150, 72, 36, 79, 203, 13, 35, 36, 14, 29, 16, 255, 30, 91, 51, 66, 16, 20, 20, 26, 83, 31, 106, 26, 60, 48, 27, 27, 27, 157, 62, 33, 16, 31, 25, 26, 133, 16, 48, 65, 41, 45, 19, 65, 51, 16, 97, 62, 19, 18, 22, 70, 70, 15, 31, 17, 76, 16, 25, 67, 51, 46, 29, 45, 23, 35, 118, 61, 41, 307, 22, 29, 33, 20, 14, 112, 29, 78, 18, 27, 27, 24, 18, 30, 19, 16, 57, 31, 143, 50, 31, 54, 62, 14, 27, 46, 67, 55, 84, 75, 15, 44, 23, 22, 38, 21, 21, 21, 33, 57, 122, 278, 106, 20, 24, 22, 14, 18, 55, 16, 146, 40, 39, 58, 48, 38, 49, 70, 106, 216, 52, 57, 12, 37, 37, 52, 662, 122, 51, 804, 28, 41, 46, 25, 40, 30, 23, 31, 14, 38, 44, 118, 109, 14, 29, 13, 20, 36, 34, 21, 22, 16, 14, 195, 30, 36, 107, 65, 66, 57, 121, 60, 61, 36, 45, 68, 61, 70, 69, 72, 54, 27, 68, 21, 105, 18, 17, 18, 158, 14, 27, 62, 50, 46, 71, 78, 92, 22, 66, 58, 38, 78, 82, 30, 30, 43, 94, 175, 18, 20, 20, 57, 20, 12, 17, 36, 210, 61, 38, 40, 31, 45, 34, 54, 18, 18, 16, 149, 175, 48, 224, 17, 28, 0, 13, 44, 52, 40, 122, 45, 63, 44, 10, 31, 0, 17, 19, 57, 301, 25, 52, 14, 18, 105, 33, 87, 401, 90, 150, 94, 83, 49, 58, 39, 62, 108, 56, 187, 198, 177, 50, 152, 21, 117, 35, 142, 16, 57, 146, 22, 47, 252, 40, 63, 180, 97, 28, 25, 78, 53, 57, 221, 49, 39, 55, 268, 92, 76, 41, 39, 152, 50, 159, 97, 47, 60, 50, 48, 90, 325, 65, 89, 72, 315, 109, 146, 62, 213, 16, 59, 130, 196, 85, 112, 46, 32, 47, 47, 222, 18, 24, 111, 102, 85, 351, 76, 15, 54, 29, 95, 32, 161, 31, 73, 165, 221, 301, 43, 22, 16, 61, 257, 14, 24, 56, 76, 25, 50, 180, 94, 16, 32, 47, 34, 97, 72, 61, 88, 31, 101, 128, 40, 18, 31, 18, 131, 47, 30, 199, 22, 58, 131, 37, 47, 116, 147, 28, 18, 51, 56, 54, 35, 56, 39, 15, 24, 16, 24, 23, 14, 15, 20, 0, 24, 16, 24, 159, 53, 28, 57, 53, 44, 50, 26, 54, 22, 50, 35, 34, 42, 177, 118, 23, 44, 53, 70, 52, 47, 32, 36, 146, 198, 88, 64, 25, 28, 36, 95, 213, 61, 74, 54, 16, 23, 19, 37, 41, 26, 56, 16, 16, 16, 19, 23, 23, 22, 62, 26, 67, 124, 32, 16, 97, 42, 37, 26, 16, 29, 59, 28, 56, 27, 18, 25, 54, 30, 32, 23, 24, 80, 15, 54, 145, 51, 19, 105, 20, 61, 18, 19, 66, 142, 49, 12, 53, 26, 52, 24, 25, 39, 48, 17, 30, 27, 22, 22, 21, 22, 23, 22, 92, 25, 31, 47, 37, 110, 110, 18, 27, 64, 32, 37, 35, 91, 82, 39, 45, 66, 49, 36, 278, 16, 42, 40, 13, 33, 59, 56, 16, 35, 48, 18, 14, 24, 30, 21, 33, 17, 71, 30, 43, 170, 366, 46, 54, 49, 51, 138, 43, 25, 20, 33, 39, 83, 150, 48, 45, 18, 49, 56, 15, 18, 133, 54, 68, 107, 18, 148, 27, 14, 80, 47, 59, 48, 30, 13, 14, 28, 0, 18, 51, 166, 13, 38, 279, 23, 28, 64, 118, 21, 48, 62, 154, 48, 61, 22, 15, 25, 42, 107, 148, 22, 20, 21, 21, 36, 29, 27, 29, 10, 34, 70, 15, 18, 325, 121, 59, 45, 20, 47, 37, 24, 47, 25, 42, 23, 14, 56, 47, 28, 15, 29, 53, 31, 217, 23, 15, 267, 40, 16, 45, 119, 98, 16, 29, 55, 20, 113, 57, 55, 40, 88, 60, 14, 50, 252, 38, 52, 149, 84, 77, 49, 70, 50, 144, 127, 49, 278, 58, 100, 240, 148, 152, 149, 45, 228, 26, 27, 26, 29, 23, 14, 29, 16, 26, 56, 30, 30, 32, 16, 24, 34, 47, 23, 12, 20, 12, 59, 24, 27, 39, 24, 53, 190, 14, 16, 15, 12, 16, 17, 41, 55, 19, 121, 142, 101, 41, 147, 26, 44, 68, 173, 52, 45, 43, 59, 15, 51, 29, 60, 25, 78, 58, 45, 34, 46, 26, 18, 15, 34, 22, 23, 15, 13, 26, 34, 60, 329, 76, 53, 31, 28, 65, 35, 306, 44, 79, 98, 44, 76, 12, 16, 16, 97, 87, 61, 36, 56, 156, 50, 22, 54, 38, 113, 14, 56, 68, 127, 196, 39, 118, 60, 52, 91, 55, 36, 325, 151, 87, 152, 6, 20, 152, 12, 98, 15, 41, 29, 16, 55, 129, 16, 100, 145, 196, 81, 125, 73, 73, 102, 21, 163, 82, 31, 63, 12, 85, 44, 31, 11, 18, 14, 89, 16, 26, 29, 44, 48, 52, 14, 71, 42, 164, 243, 59, 38, 60, 41, 0, 107, 46, 113, 43, 49, 23, 46, 19, 157, 15, 10, 105, 47, 320, 52, 55, 35, 51, 27, 52, 39, 56, 37, 46, 159, 23, 78, 19, 31, 16, 44, 25, 41, 61, 151, 16, 53, 16, 106, 28, 65, 12, 33, 98, 36, 34, 42, 14, 432, 93, 14, 69, 31, 196, 26, 30, 180, 47, 31, 14, 57, 16, 28, 333, 22, 29, 14, 29, 29, 47, 19, 203, 19, 27, 20, 66, 16, 32, 53, 223, 12, 91, 81, 14, 20, 51, 213, 31, 55, 107, 54, 112, 84, 144, 56, 46, 24, 36, 58, 18, 40, 24, 25, 143, 30, 46, 34, 16, 166, 85, 71, 38, 103, 37, 36, 50, 20, 24, 88, 270, 20, 31, 171, 20, 31, 59, 329, 52, 52, 21, 128, 321, 58, 131, 144, 49, 208, 195, 63, 18, 16, 273, 202, 22, 96, 52, 55, 366, 48, 38, 51, 124, 180, 96, 188, 91, 323, 24, 56, 308, 58, 146, 59, 80, 113, 233, 16, 110, 18, 59, 96, 94, 135, 37, 104, 45, 57, 74, 95, 113, 98, 121, 355, 33, 56, 350, 12, 44, 14, 31, 87, 309, 23, 63, 269, 32, 106, 44, 149, 8, 16, 27, 16, 33, 53, 78, 29, 99, 118, 56, 75, 26, 16, 43, 41, 139, 35, 31, 49, 25, 19, 77, 21, 167, 141, 45, 44, 104, 379, 52, 174, 43, 112, 54, 120, 16, 107, 97, 40, 40, 70, 52, 137, 216, 95, 47, 192, 182, 62, 188, 37, 31, 34, 16, 45, 30, 95, 135, 18, 47, 93, 175, 45, 42, 41, 42, 105, 135, 94, 22, 110, 53, 32, 85, 96, 137, 16, 31, 28, 54, 37, 25, 36, 17, 224, 39, 39, 91, 29, 57, 123, 98, 50, 63, 183, 56, 17, 14, 34, 75, 56, 204, 14, 64, 23, 19, 23, 18, 43, 238, 40, 49, 91, 48, 127, 116, 105, 49, 22, 94, 77, 111, 39, 72, 200, 82, 49, 229, 23, 67, 89, 97, 208, 63, 18, 56, 35, 33, 44, 66, 111, 52, 105, 22, 157, 66, 25, 141, 37, 75, 60, 53, 138, 52, 42, 57, 33, 106, 35, 41, 93, 78, 76, 95, 16, 101, 136, 232, 16, 22, 16, 18, 18, 75, 86, 38, 44, 48, 46, 61, 60, 69, 62, 112, 18, 57, 96, 95, 82, 81, 37, 37, 83, 53, 52, 51, 74, 27, 199, 27, 29, 164, 40, 256, 36, 320, 191, 21, 64, 165, 16, 16, 38, 31, 96, 29, 16, 94, 70, 95, 12, 108, 56, 16, 14, 257, 80, 40, 20, 24, 60, 47, 155, 67, 28, 38, 35, 99, 30, 25, 20, 18, 24, 22, 33, 23, 34, 42, 32, 47, 39, 49, 18, 45, 38, 41, 16, 235, 55, 16, 38, 40, 14, 50, 117, 39, 33, 30, 41, 61, 56, 38, 97, 57, 0, 193, 54, 34, 16, 44, 100, 27, 32, 82, 27, 18, 54, 43, 16, 202, 54, 35, 372, 53, 44, 12, 42, 110, 34, 63, 68, 26, 52, 97, 15, 56, 127, 56, 37, 99, 31, 40, 27, 52, 68, 83, 53, 47, 42, 179, 284, 56, 51, 36, 138, 55, 37, 279, 14, 43, 63, 18, 32, 24, 14, 34, 52, 12, 58, 42, 210, 80, 169, 37, 100, 38, 108, 167, 166, 112, 114, 105, 205, 26, 254, 18, 111, 219, 44, 135, 18, 14, 51, 34, 272, 85, 86, 109, 225, 148, 59, 50, 21, 16, 135, 37, 70, 40, 66, 103, 63, 159, 149, 85, 120, 52, 16, 27, 57, 239, 106, 32, 52, 77, 104, 182, 29, 16, 14, 33, 96, 139, 86, 23, 41, 32, 93, 41, 50, 110, 85, 67, 18, 18, 21, 45, 33, 64, 20, 332, 46, 52, 69, 56, 16, 45, 41, 106, 10, 38, 47, 12, 148, 38, 88, 32, 32, 162, 39, 37, 46, 58, 33, 57, 99, 69, 18, 60, 12, 69, 20, 347, 44, 49, 118, 38, 154, 117, 33, 33, 47, 16, 42, 192, 49, 42, 18, 30, 38, 58, 46, 42, 41, 82, 14, 10, 49, 22, 22, 44, 56, 21, 187, 60, 27, 56, 91, 30, 35, 190, 92, 28, 51, 56, 41, 39, 153, 55, 98, 138, 14, 62, 22, 116, 47, 20, 36, 52, 36, 21, 22, 29, 28, 106, 72, 410, 101, 55, 26, 31, 94, 44, 44, 26, 43, 25, 18, 15, 20, 26, 12, 44, 16, 39, 156, 45, 30, 29, 57, 325, 62, 37, 238, 20, 108, 62, 61, 228, 268, 53, 18, 148, 58, 95, 243, 114, 149, 82, 16, 24, 35, 102, 20, 165, 163, 104, 16, 113, 16, 62, 127, 104, 228, 89, 212, 75, 32, 39, 20, 18, 128, 45, 24, 36, 41, 14, 30, 22, 24, 44, 30, 29, 35, 52, 25, 41, 44, 37, 23, 19, 55, 58, 51, 37, 29, 87, 129, 38, 18, 143, 33, 43, 204, 226, 10, 39, 26, 30, 49, 34, 49, 46, 15, 16, 15, 29, 19, 156, 40, 124, 22, 14, 44, 26, 48, 113, 59, 34, 43, 16, 18, 139, 47, 51, 272, 51, 54, 33, 57, 33, 104, 39, 46, 92, 40, 92, 27, 61, 79, 23, 21, 50, 69, 50, 25, 83, 50, 64, 22, 65, 14, 22, 32, 206, 39, 91, 189, 87, 68, 61, 41, 98, 26, 49, 16, 22, 48, 40, 20, 41, 137, 135, 40, 12, 30, 158, 54, 153, 29, 70, 28, 42, 14, 39, 66, 31, 52, 18, 31, 175, 18, 71, 249, 33, 32, 14, 51, 92, 198, 156, 69, 25, 59, 57, 28, 113, 12, 17, 178, 29, 27, 48, 91, 50, 47, 14, 113, 66, 14, 40, 45, 84, 187, 256, 61, 14, 53, 74, 20, 36, 42, 109, 56, 126, 30, 14, 41, 45, 58, 233, 74, 143, 248, 45, 20, 33, 16, 14, 12, 88, 78, 65, 14, 12, 12, 54, 36, 61, 55, 111, 257, 20, 133, 55, 40, 20, 16, 54, 132, 27, 21, 57, 20, 59, 24, 64, 54, 55, 25, 41, 18, 41, 20, 100, 32, 30, 36, 165, 35, 123, 69, 45, 31, 209, 75, 30, 38, 14, 19, 34, 34, 113, 29, 36, 0, 21, 116, 65, 34, 26, 30, 90, 50, 45, 145, 135, 27, 27, 34, 72, 41, 97, 38, 0, 26, 12, 30, 46, 34, 18, 21, 251, 53, 324, 49, 131, 14, 26, 58, 27, 235, 31, 43, 20, 26, 44, 28, 60, 57, 14, 50, 53, 77, 24, 110, 16, 69, 31, 17, 94, 24, 16, 71, 48, 71, 19, 50, 101, 30, 173, 29, 45, 54, 83, 10, 51, 12, 45, 60, 24, 26, 39, 117, 18, 24, 23, 20, 26, 45, 23, 25, 22, 21, 23, 23, 37, 74, 35, 15, 158, 56, 34, 28, 18, 119, 37, 100, 101, 32, 110, 65, 30, 33, 64, 28, 81, 32, 34, 20, 51, 41, 27, 50, 23, 44, 37, 122, 24, 48, 18, 38, 38, 41, 50, 31, 42, 99, 56, 158, 238, 33, 99, 53, 43, 49, 91, 23, 27, 29, 104, 35, 32, 25, 43, 34, 51, 24, 47, 44, 50, 45, 28, 29, 348, 30, 33, 209, 19, 55, 124, 36, 39, 22, 78, 35, 56, 78, 65, 62, 120, 25, 51, 16, 46, 19, 30, 34, 28, 33, 18, 60, 30, 27, 36, 21, 27, 57, 34, 32, 34, 52, 64, 61, 94, 72, 22, 89, 213, 88, 12, 56, 22, 40, 50, 42, 31, 94, 36, 48, 28, 70, 16, 36, 33, 42, 38, 39, 81, 49, 44, 47, 30, 33, 32, 20, 56, 40, 22, 64, 79, 18, 65, 14, 122, 50, 84, 22, 66, 40, 29, 44, 30, 90, 51, 68, 55, 32, 16, 30, 23, 27, 36, 217, 44, 24, 42, 16, 20, 84, 123, 10, 44, 338, 51, 41, 22, 65, 76, 34, 99, 125, 50, 21, 83, 28, 25, 131, 105, 30, 38, 19, 56, 87, 49, 47, 25, 20, 20, 37, 20, 27, 117, 37, 29, 64, 18, 66, 103, 27, 43, 93, 97, 43, 43, 33, 26, 34, 33, 35, 10, 16, 211, 358, 118, 82, 24, 126, 74, 21, 53, 36, 37, 98, 66, 39, 38, 40, 39, 16, 80, 34, 64, 102, 50, 82, 131, 40, 41, 51, 39, 42, 31, 18, 63, 101, 20, 29, 25, 45, 23, 53, 49, 73, 22, 25, 20, 44, 31, 69, 20, 55, 28, 20, 60, 38, 18, 75, 36, 21, 38, 53, 0, 101, 61, 16, 29, 44, 113, 89, 10, 37, 211, 20, 208, 33, 21, 196, 28, 31, 35, 58, 59, 24, 59, 61, 58, 42, 19, 50, 18, 26, 19, 24, 70, 24, 29, 28, 29, 117, 34, 25, 48, 60, 42, 31, 0, 14, 61, 16, 20, 70, 50, 45, 65, 34, 18, 130, 110, 35, 0, 14, 34, 39, 51, 48, 28, 75, 17, 34, 39, 55, 23, 38, 44, 45, 163, 18, 44, 42, 47, 257, 17, 26, 25, 35, 24, 70, 42, 69, 34, 45, 19, 88, 14, 61, 78, 16, 46, 33, 30, 20, 14, 32, 97, 38, 15, 29, 47, 12, 18, 42, 23, 19, 21, 29, 56, 29, 31, 33, 62, 28, 94, 95, 19, 27, 17, 16, 25, 32, 85, 20, 0, 33, 45, 52, 39, 33, 36, 33, 42, 25, 58, 14, 35, 25, 43, 48, 45, 43, 19, 63, 76, 72, 14, 82, 174, 17, 25, 17, 34, 10, 42, 175, 65, 24, 27, 50, 35, 65, 29, 26, 21, 88, 246, 37, 48, 20, 52, 27, 32, 103, 42, 33, 113, 31, 34, 18, 73, 44, 68, 39, 18, 47, 51, 42, 58, 94, 150, 55, 10, 65, 46, 35, 12, 120, 100, 55, 50, 49, 51, 27, 19, 26, 51, 40, 131, 52, 111, 29, 47, 53, 121, 193, 114, 55, 24, 28, 18, 128, 39, 20, 110, 26, 122, 27, 54, 103, 72, 42, 52, 57, 41, 93, 39, 27, 74, 10, 67, 83, 24, 35, 36, 32, 52, 48, 12, 187, 20, 39, 29, 26, 41, 39, 57, 18, 42, 71, 67, 45, 17, 56, 51, 38, 113, 53, 50, 12, 111, 16, 104, 175, 54, 121, 57, 14, 20, 36, 21, 20, 20, 387, 36, 46, 69, 80, 60, 16, 132, 59, 102, 65, 53, 413, 73, 12, 93, 76, 36, 58, 50, 183, 41, 101, 132, 58, 98, 35, 85, 177, 306, 86, 30, 30, 12, 93, 202, 147, 42, 100, 107, 112, 53, 102, 216, 36, 181, 49, 226, 113, 51, 68, 47, 17, 95, 38, 88, 70, 54, 41, 37, 47, 40, 49, 31, 18, 29, 53, 46, 73, 23, 130, 48, 57, 156, 20, 32, 21, 57, 39, 28, 16, 47, 12, 20, 50, 48, 30, 31, 61, 87, 17, 10, 17, 250, 20, 55, 345, 76, 46, 23, 18, 30, 45, 14, 28, 197, 19, 45, 85, 29, 49, 35, 24, 0, 34, 113, 29, 67, 204, 62, 18, 18, 89, 84, 25, 50, 26, 33, 38, 144, 242, 39, 38, 29, 51, 109, 0, 76, 91, 56, 67, 44, 20, 20, 54, 29, 38, 35, 19, 33, 47, 187, 20, 35, 44, 51, 34, 164, 18, 24, 22, 30, 27, 47, 37, 17, 197, 170, 103, 151, 19, 41, 0, 57, 60, 22, 36, 35, 115, 44, 53, 108, 22, 107, 52, 109, 124, 73, 31, 59, 25, 225, 52, 186, 24, 120, 21, 16, 70, 59, 18, 15, 25, 51, 307, 61, 38, 268, 52, 148, 18, 102, 25, 14, 137, 79, 398, 112, 122, 16, 64, 14, 64, 20, 89, 127, 57, 37, 267, 218, 20, 18, 180, 74, 0, 48, 38, 105, 52, 331, 54, 56, 247, 119, 37, 53, 60, 80, 41, 52, 48, 14, 38, 105, 20, 47, 28, 79, 106, 12, 32, 66, 111, 158, 95, 396, 128, 61, 68, 18, 79, 58, 310, 49, 66, 75, 52, 104, 150, 20, 54, 195, 14, 12, 50, 55, 127, 310, 155, 42, 60, 140, 16, 197, 30, 57, 29, 22, 22, 69, 38, 285, 14, 164, 18, 77, 41, 16, 18, 186, 59, 145, 43, 12, 50, 67, 48, 47, 70, 22, 31, 58, 18, 42, 68, 76, 75, 17, 78, 56, 33, 50, 183, 34, 31, 48, 98, 32, 18, 397, 31, 22, 80, 36, 39, 96, 150, 14, 91, 223, 48, 14, 15, 53, 115, 33, 24, 14, 97, 56, 37, 128, 26, 17, 32, 138, 32, 41, 26, 28, 48, 172, 70, 73, 83, 14, 57, 19, 86, 150, 35, 37, 16, 281, 32, 83, 40, 16, 105, 91, 232, 38, 142, 57, 155, 97, 44, 58, 36, 105, 24, 16, 25, 88, 121, 32, 23, 14, 16, 50, 210, 88, 10, 59, 6, 78, 49, 23, 20, 280, 58, 35, 30, 34, 28, 14, 45, 28, 20, 78, 161, 134, 27, 26, 27, 34, 29, 45, 51, 307, 128, 28, 50, 148, 118, 269, 54, 158, 33, 141, 127, 42, 73, 47, 139, 96, 237, 177, 122, 225, 18, 14, 16, 10, 16, 46, 10, 14, 70, 17, 49, 103, 64, 86, 0, 98, 101, 178, 47, 18, 75, 18, 40, 82, 16, 89, 50, 387, 91, 16, 168, 130, 223, 121, 35, 33, 98, 95, 157, 191, 86, 51, 48, 28, 62, 42, 40, 71, 117, 98, 60, 91, 87, 39, 214, 10, 149, 60, 171, 51, 47, 45, 132, 151, 83, 133, 61, 55, 63, 51, 87, 25, 74, 118, 30, 88, 351, 82, 60, 106, 129, 70, 52, 47, 387, 149, 103, 235, 52, 415, 86, 42, 229, 32, 30, 42, 73, 51, 51, 37, 167, 18, 127, 28, 138, 36, 121, 61, 278, 64, 14, 82, 25, 56, 123, 115, 108, 85, 238, 60, 42, 24, 35, 28, 153, 65, 48, 57, 22, 59, 42, 31, 19, 72, 31, 27, 25, 54, 22, 14, 50, 32, 82, 44, 28, 44, 18, 41, 59, 19, 75, 56, 27, 67, 62, 48, 26, 14, 39, 73, 26, 21, 79, 30, 62, 25, 24, 237, 20, 54, 241, 60, 69, 292, 36, 50, 48, 18, 37, 28, 85, 68, 20, 30, 45, 15, 55, 25, 50, 384, 77, 34, 33, 90, 25, 259, 40, 98, 181, 41, 24, 28, 28, 30, 58, 30, 65, 38, 21, 62, 38, 95, 33, 20, 38, 54, 46, 59, 36, 66, 58, 41, 31, 278, 90, 189, 14, 181, 54, 14, 57, 24, 30, 49, 108, 24, 43, 137, 92, 42, 84, 44, 41, 27, 51, 46, 50, 67, 63, 39, 39, 36, 71, 73, 28, 16, 51, 17, 39, 50, 54, 62, 101, 23, 16, 60, 68, 164, 180, 59, 35, 440, 63, 31, 58, 22, 18, 18, 77, 63, 39, 16, 47, 141, 46, 85, 177, 51, 38, 54, 67, 66, 34, 44, 41, 20, 29, 13, 202, 76, 114, 118, 52, 324, 119, 28, 20, 20, 36, 19, 30, 182, 55, 183, 14, 54, 176, 105, 160, 19, 18, 25, 0, 16, 123, 111, 14, 100, 12, 37, 54, 17, 48, 116, 31, 72, 244, 299, 96, 54, 146, 82, 31, 76, 44, 87, 22, 74, 51, 329, 14, 63, 43, 82, 206, 51, 44, 148, 57, 54, 46, 308, 57, 22, 89, 46, 94, 708, 358, 42, 42, 0, 38, 49, 119, 120, 25, 289, 149, 144, 46, 116, 33, 51, 59, 152, 93, 80, 32, 59, 56, 115, 118, 50, 29, 50, 18, 106, 139, 57, 176, 35, 55, 65, 49, 75, 166, 35, 17, 10, 69, 100, 23, 64, 28, 18, 29, 92, 97, 14, 134, 230, 20, 77, 147, 44, 35, 48, 50, 46, 32, 29, 33, 111, 50, 60, 61, 34, 70, 78, 91, 188, 246, 44, 49, 25, 28, 32, 17, 90, 141, 102, 36, 145, 20, 224, 144, 41, 51, 61, 72, 46, 53, 108, 22, 43, 44, 25, 76, 54, 94, 27, 53, 47, 74, 64, 60, 14, 63, 76, 100, 157, 83, 104, 29, 24, 79, 49, 141, 59, 59, 45, 84, 29, 125, 48, 72, 31, 71, 16, 114, 18, 16, 14, 20, 32, 85, 34, 15, 0, 64, 46, 29, 25, 80, 71, 50, 36, 34, 48, 44, 31, 117, 45, 34, 93, 41, 65, 141, 49, 50, 68, 58, 49, 84, 59, 18, 49, 37, 41, 24, 22, 20, 30, 66, 20, 28, 252, 12, 328, 165, 238, 24, 14, 93, 221, 27, 14, 26, 17, 379, 79, 36, 53, 66, 17, 45, 60, 38, 57, 133, 70, 46, 60, 23, 34, 16, 148, 92, 81, 42, 54, 91, 60, 52, 125, 42, 24, 26, 34, 29, 8, 97, 59, 61, 108, 43, 26, 15, 64, 37, 60, 47, 21, 24, 19, 15, 128, 97, 13, 40, 24, 128, 12, 119, 37, 90, 43, 23, 124, 43, 123, 18, 14, 16, 14, 14, 16, 17, 46, 28, 15, 21, 29, 81, 62, 16, 26, 71, 61, 45, 0, 42, 37, 139, 63, 141, 18, 96, 37, 38, 49, 107, 55, 27, 50, 12, 153, 128, 15, 53, 26, 24, 24, 18, 59, 50, 36, 20, 37, 30, 55, 15, 15, 26, 74, 43, 35, 18, 16, 17, 40, 14, 16, 51, 75, 54, 52, 365, 89, 64, 16, 164, 44, 48, 54, 33, 69, 65, 19, 26, 28, 57, 27, 18, 19, 202, 16, 42, 216, 57, 78, 39, 365, 57, 17, 41, 294, 366, 40, 52, 16, 35, 46, 18, 235, 12, 98, 20, 361, 158, 18, 99, 14, 356, 37, 40, 179, 50, 44, 43, 33, 49, 16, 56, 64, 61, 84, 55, 80, 43, 45, 69, 43, 33, 188, 43, 101, 103, 35, 163, 18, 85, 22, 56, 82, 264, 145, 26, 39, 39, 47, 57, 87, 72, 88, 77, 172, 43, 65, 103, 30, 77, 87, 32, 34, 16, 55, 59, 49, 105, 38, 193, 20, 137, 52, 16, 53, 57, 20, 54, 58, 15, 50, 60, 265, 48, 57, 137, 53, 88, 139, 63, 81, 43, 41, 38, 76, 32, 16, 35, 20, 32, 21, 33, 43, 76, 66, 24, 284, 51, 76, 114, 17, 44, 24, 53, 185, 17, 42, 58, 23, 23, 170, 16, 72, 18, 41, 20, 19, 50, 18, 134, 64, 56, 118, 22, 17, 57, 73, 84, 34, 50, 63, 133, 29, 33, 25, 15, 18, 46, 105, 20, 47, 47, 50, 116, 13, 37, 19, 15, 35, 48, 44, 69, 64, 28, 321, 29, 23, 44, 16, 57, 96, 24, 335, 18, 37, 33, 14, 14, 28, 20, 43, 38, 47, 68, 14, 50, 17, 16, 33, 31, 153, 32, 50, 56, 55, 22, 101, 77, 59, 48, 67, 56, 22, 9, 25, 22, 59, 68, 80, 17, 76, 39, 33, 158, 60, 70, 86, 161, 34, 36, 56, 26, 43, 25, 18, 62, 135, 45, 19, 42, 120, 39, 17, 22, 84, 33, 19, 141, 141, 98, 24, 112, 18, 176, 19, 83, 38, 66, 375, 105, 20, 10, 88, 197, 44, 45, 92, 28, 77, 29, 34, 21, 180, 67, 29, 303, 57, 24, 14, 33, 70, 20, 30, 32, 20, 64, 61, 33, 20, 98, 55, 31, 33, 16, 18, 50, 24, 39, 70, 320, 140, 47, 60, 38, 175, 20, 43, 28, 292, 356, 27, 42, 21, 64, 28, 58, 18, 21, 91, 62, 28, 16, 19, 26, 17, 60, 45, 39, 54, 39, 36, 23, 129, 20, 119, 12, 81, 31, 28, 56, 36, 96, 15, 124, 42, 16, 33, 54, 18, 17, 38, 50, 31, 44, 111, 22, 10, 82, 25, 31, 12, 37, 36, 34, 68, 28, 23, 18, 18, 103, 47, 50, 55, 20, 32, 61, 23, 63, 119, 33, 84, 41, 14, 45, 63, 115, 24, 21, 225, 53, 59, 14, 180, 47, 51, 35, 20, 33, 51, 49, 16, 24, 256, 45, 92, 32, 29, 0, 50, 0, 305, 41, 33, 50, 76, 34, 44, 26, 35, 114, 21, 94, 18, 137, 42, 273, 140, 142, 274, 53, 109, 38, 77, 97, 20, 95, 70, 212, 20, 234, 49, 20, 59, 43, 106, 61, 97, 190, 18, 120, 147, 61, 48, 103, 51, 103, 35, 238, 16, 118, 53, 56, 44, 14, 56, 127, 312, 304, 18, 177, 65, 60, 113, 10, 28, 121, 51, 110, 115, 128, 24, 83, 39, 47, 160, 87, 53, 33, 28, 124, 121, 47, 18, 66, 103, 147, 142, 41, 92, 39, 61, 16, 61, 40, 42, 43, 54, 25, 36, 37, 22, 18, 49, 18, 45, 16, 62, 28, 26, 266, 27, 261, 17, 29, 46, 47, 48, 14, 48, 90, 99, 37, 17, 15, 32, 20, 56, 16, 84, 24, 51, 66, 52, 12, 49, 60, 94, 57, 32, 55, 29, 23, 31, 68, 86, 101, 34, 73, 18, 36, 30, 63, 12, 24, 8, 33, 48, 89, 12, 25, 14, 232, 56, 31, 179, 58, 25, 55, 116, 65, 55, 122, 49, 77, 52, 57, 29, 80, 150, 66, 30, 54, 67, 48, 62, 54, 51, 92, 101, 120, 21, 185, 151, 91, 77, 96, 243, 119, 42, 16, 54, 79, 150, 41, 192, 250, 46, 25, 56, 175, 25, 33, 34, 104, 104, 16, 308, 49, 23, 40, 44, 306, 16, 172, 53, 51, 54, 44, 306, 82, 56, 127, 41, 40, 59, 10, 39, 27, 73, 112, 36, 56, 376, 168, 84, 61, 24, 23, 85, 80, 29, 85, 23, 42, 26, 39, 94, 67, 135, 17, 266, 47, 39, 0, 58, 63, 57, 264, 20, 36, 56, 48, 35, 17, 38, 10, 28, 30, 21, 57, 144, 37, 47, 20, 24, 44, 21, 284, 33, 130, 42, 55, 25, 11, 23, 50, 46, 69, 107, 111, 37, 61, 46, 58, 24, 119, 73, 34, 260, 51, 22, 35, 20, 60, 88, 17, 142, 88, 47, 250, 61, 58, 39, 64, 87, 48, 68, 52, 18, 42, 118, 50, 20, 50, 29, 152, 101, 90, 41, 29, 21, 24, 70, 46, 22, 31, 58, 127, 56, 31, 97, 315, 63, 366, 46, 17, 312, 48, 48, 48, 33, 38, 174, 50, 31, 50, 321, 103, 40, 42, 11, 14, 46, 70, 53, 43, 51, 45, 36, 31, 20, 23, 25, 12, 426, 60, 35, 55, 410, 14, 12, 174, 93, 15, 36, 28, 150, 18, 60, 14, 20, 54, 48, 50, 20, 56, 0, 123, 67, 37, 241, 0, 37, 77, 58, 24, 44, 70, 20, 60, 45, 47, 37, 29, 249, 42, 52, 71, 112, 36, 100, 31, 53, 40, 51, 49, 53, 25, 32, 32, 55, 0, 29, 53, 39, 16, 18, 23, 39, 89, 51, 51, 39, 18, 18, 19, 176, 20, 61, 38, 68, 16, 27, 112, 319, 101, 98, 98, 49, 305, 160, 16, 407, 60, 275, 165, 279, 81, 32, 57, 95, 0, 60, 10, 48, 0, 14, 106, 40, 14, 46, 86, 51, 67, 24, 56, 57, 57, 60, 43, 14, 25, 47, 40, 18, 14, 85, 15, 28, 13, 86, 411, 22, 78, 36, 58, 57, 76, 61, 18, 12, 32, 81, 255, 100, 37, 58, 86, 51, 40, 34, 62, 69, 123, 42, 122, 32, 113, 31, 34, 29, 86, 30, 204, 99, 79, 17, 75, 39, 186, 86, 21, 16, 79, 27, 21, 42, 22, 35, 26, 34, 34, 48, 60, 52, 83, 193, 63, 31, 44, 46, 83, 119, 18, 17, 36, 40, 148, 85, 28, 38, 22, 20, 10, 46, 14, 11, 16, 14, 55, 35, 88, 36, 87, 158, 45, 39, 48, 115, 18, 95, 18, 50, 121, 145, 192, 62, 48, 20, 44, 16, 99, 341, 28, 51, 116, 17, 113, 152, 57, 48, 72, 42, 25, 36, 39, 32, 12, 13, 142, 77, 64, 11, 101, 63, 15, 9, 20, 17, 227, 54, 109, 47, 144, 18, 10, 25, 35, 18, 18, 53, 36, 33, 18, 215, 16, 18, 57, 104, 178, 113, 167, 14, 153, 25, 45, 86, 33, 61, 32, 21, 43, 51, 74, 49, 18, 29, 116, 172, 63, 28, 19, 129, 36, 77, 77, 18, 57, 20, 69, 10, 59, 20, 56, 29, 42, 55, 206, 64, 19, 28, 57, 31, 27, 208, 39, 95, 60, 32, 16, 21, 63, 80, 65, 59, 21, 108, 87, 38, 67, 51, 59, 15, 13, 20, 31, 13, 58, 24, 49, 43, 30, 14, 18, 19, 18, 18, 35, 212, 24, 22, 61, 32, 91, 50, 24, 18, 28, 26, 32, 19, 41, 32, 112, 55, 30, 48, 69, 67, 32, 37, 34, 0, 173, 125, 20, 48, 93, 0, 0, 14, 171, 34, 110, 274, 44, 0, 16, 64, 0, 18, 48, 25, 80, 49, 28, 22, 83, 102, 112, 40, 14, 30, 20, 163, 36, 262, 90, 215, 41, 16, 43, 187, 35, 26, 50, 16, 95, 20, 38, 25, 34, 20, 17, 32, 153, 88, 17, 113, 34, 44, 16, 25, 36, 16, 35, 17, 62, 16, 25, 26, 23, 15, 53, 29, 55, 12, 49, 266, 15, 31, 59, 53, 17, 16, 90, 225, 42, 17, 72, 194, 247, 65, 43, 24, 25, 19, 19, 24, 87, 52, 46, 62, 106, 54, 348, 54, 263, 41, 58, 18, 50, 109, 59, 54, 28, 86, 46, 58, 36, 35, 230, 286, 45, 25, 41, 32, 90, 53, 38, 16, 67, 43, 156, 43, 34, 32, 82, 35, 58, 27, 19, 30, 23, 79, 19, 88, 17, 30, 115, 50, 42, 22, 18, 37, 43, 16, 35, 60, 34, 48, 139, 112, 53, 24, 30, 48, 26, 71, 41, 358, 50, 41, 13, 88, 39, 83, 53, 113, 149, 80, 14, 51, 165, 20, 129, 18, 182, 18, 44, 76, 230, 28, 124, 93, 60, 67, 143, 113, 35, 32, 41, 80, 30, 0, 39, 164, 32, 32, 16, 50, 47, 17, 44, 15, 111, 119, 55, 151, 17, 37, 96, 104, 240, 30, 102, 16, 16, 66, 18, 132, 200, 38, 38, 193, 213, 50, 18, 59, 61, 17, 18, 23, 44, 53, 368, 28, 88, 140, 19, 67, 43, 63, 113, 32, 21, 16, 24, 16, 71, 101, 16, 247, 93, 48, 44, 29, 29, 43, 14, 53, 36, 106, 78, 78, 54, 49, 245, 22, 154, 64, 55, 50, 91, 178, 116, 48, 101, 42, 15, 52, 41, 75, 42, 164, 368, 84, 43, 309, 25, 61, 52, 51, 157, 60, 45, 118, 100, 39, 93, 93, 79, 94, 44, 235, 14, 135, 24, 429, 134, 46, 29, 197, 63, 94, 28, 46, 61, 85, 49, 36, 21, 18, 16, 48, 248, 129, 87, 175, 227, 37, 159, 60, 22, 43, 44, 54, 50, 26, 165, 49, 80, 33, 43, 19, 52, 66, 106, 42, 17, 68, 29, 300, 51, 14, 30, 27, 50, 48, 29, 102, 16, 96, 32, 32, 258, 259, 16, 14, 51, 97, 31, 96, 120, 15, 353, 31, 72, 78, 22, 34, 67, 22, 24, 43, 104, 22, 58, 153, 53, 52, 223, 55, 188, 39, 193, 24, 36, 149, 94, 87, 35, 18, 28, 62, 15, 38, 34, 15, 17, 49, 18, 42, 0, 19, 14, 24, 143, 20, 18, 81, 67, 24, 44, 12, 16, 16, 48, 16, 105, 42, 41, 111, 36, 48, 60, 101, 65, 351, 87, 22, 105, 59, 234, 30, 63, 14, 93, 19, 41, 19, 14, 51, 82, 16, 290, 75, 61, 32, 118, 46, 334, 28, 63, 21, 40, 14, 28, 21, 33, 37, 12, 98, 81, 43, 148, 236, 32, 68, 209, 41, 68, 37, 46, 30, 53, 328, 203, 17, 92, 59, 31, 30, 157, 32, 49, 50, 88, 103, 0, 40, 32, 26, 113, 32, 100, 32, 148, 32, 45, 116, 50, 55, 236, 15, 21, 23, 31, 167, 14, 61, 19, 37, 50, 16, 40, 13, 16, 18, 45, 32, 19, 21, 14, 234, 65, 220, 38, 310, 144, 12, 160, 228, 39, 84, 229, 227, 63, 50, 54, 274, 124, 14, 64, 26, 58, 306, 25, 38, 112, 92, 17, 32, 56, 17, 16, 28, 49, 24, 20, 65, 105, 22, 50, 15, 50, 161, 47, 74, 29, 47, 50, 388, 44, 65, 30, 99, 64, 28, 16, 18, 20, 54, 108, 113, 53, 178, 49, 22, 165, 18, 51, 18, 24, 94, 49, 276, 99, 74, 52, 241, 76, 31, 24, 188, 110, 16, 61, 43, 26, 79, 19, 115, 99, 16, 89, 15, 18, 62, 216, 11, 94, 204, 75, 54, 219, 54, 53, 28, 27, 106, 473, 238, 43, 88, 48, 28, 43, 49, 67, 44, 166, 64, 66, 62, 53, 51, 133, 40, 97, 136, 24, 41, 52, 46, 45, 115, 266, 51, 90, 39, 23, 104, 44, 20, 31, 14, 40, 15, 49, 42, 31, 51, 41, 55, 57, 22, 47, 14, 26, 18, 24, 11, 50, 14, 72, 28, 15, 14, 76, 16, 154, 16, 82, 63, 37, 27, 51, 18, 56, 35, 27, 53, 384, 48, 84, 16, 10, 28, 17, 74, 0, 74, 36, 107, 40, 71, 38, 20, 41, 155, 90, 54, 37, 70, 36, 36, 51, 45, 44, 42, 20, 46, 14, 69, 31, 149, 34, 92, 69, 28, 123, 50, 236, 35, 43, 39, 52, 176, 52, 61, 33, 101, 63, 42, 26, 0, 314, 69, 57, 46, 215, 44, 93, 64, 156, 20, 150, 82, 75, 45, 67, 171, 57, 30, 25, 32, 21, 30, 50, 26, 75, 43, 88, 127, 52, 98, 41, 15, 18, 18, 358, 130, 23, 17, 43, 155, 14, 75, 17, 72, 83, 166, 204, 73, 14, 65, 16, 146, 28, 18, 163, 98, 73, 41, 19, 66, 57, 22, 47, 47, 66, 87, 26, 16, 30, 57, 225, 18, 322, 27, 19, 48, 35, 51, 45, 28, 62, 21, 29, 66, 52, 60, 57, 50, 46, 169, 35, 29, 20, 37, 12, 21, 43, 63, 35, 19, 68, 60, 44, 49, 46, 55, 57, 56, 50, 17, 18, 54, 130, 16, 94, 108, 49, 55, 34, 68, 44, 189, 226, 14, 29, 16, 28, 50, 45, 23, 176, 50, 16, 14, 103, 42, 49, 27, 77, 129, 49, 43, 33, 41, 28, 49, 123, 115, 111, 42, 54, 30, 31, 33, 31, 48, 192, 45, 161, 90, 40, 110, 220, 111, 111, 41, 43, 44, 327, 18, 59, 58, 39, 40, 66, 64, 84, 84, 45, 158, 22, 20, 50, 59, 42, 20, 49, 23, 72, 61, 190, 43, 98, 58, 314, 233, 294, 297, 294, 53, 140, 109, 95, 168, 164, 12, 68, 18, 49, 85, 97, 37, 16, 29, 49, 57, 45, 60, 221, 24, 67, 52, 169, 31, 18, 8, 247, 55, 356, 33, 100, 68, 55, 53, 118, 106, 20, 20, 158, 198, 41, 46, 16, 174, 36, 160, 18, 16, 51, 109, 40, 34, 99, 102, 58, 43, 38, 44, 52, 85, 71, 43, 45, 37, 377, 103, 232, 12, 234, 146, 50, 67, 44, 50, 85, 12, 60, 51, 120, 60, 48, 58, 14, 120, 169, 50, 32, 63, 80, 51, 18, 120, 46, 73, 52, 46, 166, 92, 14, 124, 20, 64, 32, 64, 57, 28, 102, 87, 53, 45, 49, 65, 39, 10, 83, 43, 18, 72, 146, 40, 111, 49, 69, 47, 60, 40, 44, 63, 46, 62, 145, 45, 106, 83, 31, 41, 33, 33, 64, 12, 51, 65, 178, 32, 135, 20, 113, 57, 30, 32, 29, 31, 22, 37, 174, 51, 56, 40, 234, 127, 136, 98, 44, 60, 46, 69, 100, 91, 75, 184, 78, 237, 41, 88, 38, 173, 14, 130, 38, 74, 12, 126, 37, 171, 60, 16, 24, 46, 74, 39, 60, 60, 20, 84, 46, 42, 53, 46, 78, 105, 154, 20, 52, 37, 97, 76, 83, 55, 60, 53, 22, 42, 20, 69, 28, 50, 50, 41, 99, 139, 110, 18, 45, 52, 22, 19, 109, 12, 101, 16, 42, 16, 121, 89, 20, 30, 46, 127, 59, 23, 61, 14, 85, 65, 259, 105, 25, 233, 58, 51, 67, 58, 16, 76, 45, 180, 138, 65, 43, 31, 43, 18, 273, 84, 225, 48, 30, 166, 18, 99, 57, 45, 157, 196, 93, 82, 89, 333, 14, 93, 54, 104, 53, 157, 154, 82, 48, 90, 96, 53, 38, 101, 65, 50, 29, 51, 75, 33, 47, 16, 40, 84, 14, 52, 54, 129, 368, 64, 165, 60, 74, 146, 82, 28, 12, 231, 65, 88, 82, 224, 165, 60, 69, 75, 178, 38, 93, 54, 107, 91, 37, 373, 248, 14, 127, 135, 277, 84, 159, 75, 60, 86, 92, 79, 135, 41, 65, 237, 275, 209, 31, 52, 16, 282, 54, 53, 137, 32, 36, 36, 29, 18, 42, 52, 32, 20, 133, 116, 24, 110, 268, 178, 31, 62, 61, 33, 59, 18, 20, 112, 49, 25, 44, 92, 66, 63, 18, 14, 40, 134, 296, 20, 69, 269, 36, 18, 38, 44, 28, 104, 44, 28, 100, 35, 49, 27, 64, 24, 83, 45, 64, 208, 137, 14, 24, 18, 26, 75, 58, 43, 55, 22, 25, 47, 40, 41, 18, 35, 61, 30, 28, 60, 61, 57, 55, 47, 26, 30, 103, 45, 66, 25, 102, 44, 53, 64, 130, 33, 29, 272, 54, 38, 54, 14, 27, 16, 32, 35, 26, 82, 59, 10, 69, 94, 31, 62, 95, 123, 37, 36, 17, 87, 122, 28, 27, 387, 17, 16, 18, 16, 86, 57, 55, 42, 17, 19, 84, 54, 136, 36, 13, 25, 38, 40, 16, 16, 36, 58, 209, 42, 80, 55, 133, 391, 28, 90, 59, 51, 15, 15, 59, 45, 47, 129, 42, 12, 54, 16, 49, 47, 57, 52, 58, 47, 42, 162, 16, 14, 31, 77, 48, 30, 17, 45, 99, 218, 41, 36, 136, 222, 45, 72, 24, 79, 34, 17, 18, 39, 59, 92, 55, 51, 63, 86, 97, 50, 43, 15, 14, 31, 81, 145, 80, 90, 126, 73, 69, 27, 140, 75, 50, 65, 100, 12, 34, 16, 58, 20, 48, 32, 40, 93, 135, 50, 249, 59, 56, 55, 28, 146, 18, 57, 54, 65, 45, 52, 51, 45, 23, 89, 100, 48, 16, 22, 38, 37, 14, 14, 45, 22, 50, 14, 27, 130, 14, 72, 308, 97, 14, 196, 44, 28, 25, 32, 153, 61, 80, 104, 30, 62, 50, 54, 16, 48, 233, 70, 105, 49, 50, 258, 149, 55, 23, 108, 33, 19, 286, 190, 109, 57, 109, 20, 51, 46, 37, 48, 114, 37, 53, 108, 95, 152, 43, 91, 379, 25, 43, 160, 55, 102, 47, 143, 109, 23, 177, 20, 85, 118, 34, 42, 457, 99, 25, 247, 106, 97, 47, 28, 88, 96, 44, 224, 49, 34, 51, 18, 66, 82, 53, 28, 28, 44, 307, 38, 98, 45, 102, 55, 60, 18, 41, 207, 48, 25, 192, 73, 88, 58, 120, 24, 55, 63, 66, 93, 44, 108, 160, 114, 57, 169, 101, 53, 48, 48, 22, 26, 134, 15, 77, 57, 102, 16, 30, 16, 195, 76, 44, 183, 29, 101, 26, 61, 219, 36, 60, 14, 314, 53, 31, 0, 65, 44, 69, 96, 256, 37, 15, 19, 25, 18, 70, 26, 14, 31, 21, 47, 15, 24, 71, 55, 53, 67, 41, 100, 77, 31, 50, 15, 61, 61, 48, 52, 24, 88, 30, 250, 68, 17, 114, 20, 46, 267, 128, 40, 29, 51, 41, 67, 16, 16, 17, 195, 52, 47, 19, 43, 16, 17, 95, 23, 198, 290, 21, 40, 25, 117, 22, 18, 18, 24, 14, 14, 18, 60, 18, 183, 367, 150, 35, 14, 52, 118, 31, 44, 20, 207, 91, 33, 27, 52, 148, 40, 100, 169, 44, 48, 24, 38, 38, 17, 53, 39, 53, 29, 201, 19, 51, 20, 54, 74, 66, 52, 93, 27, 31, 99, 29, 30, 43, 45, 31, 48, 100, 104, 42, 137, 147, 30, 25, 53, 49, 25, 40, 25, 17, 90, 16, 27, 40, 17, 17, 18, 26, 57, 15, 18, 17, 45, 14, 35, 53, 177, 122, 49, 14, 77, 54, 45, 16, 26, 45, 34, 151, 98, 58, 117, 10, 14, 93, 32, 36, 17, 43, 18, 0, 17, 71, 18, 20, 19, 45, 24, 14, 25, 66, 14, 20, 16, 68, 18, 61, 0, 43, 315, 29, 14, 54, 62, 82, 306, 43, 165, 14, 36, 18, 18, 14, 22, 105, 56, 238, 32, 52, 26, 20, 191, 49, 86, 26, 21, 54, 18, 81, 18, 96, 76, 20, 18, 41, 147, 54, 16, 36, 115, 69, 24, 22, 26, 46, 31, 66, 58, 318, 52, 18, 47, 186, 39, 93, 18, 30, 18, 56, 270, 79, 138, 56, 124, 58, 16, 54, 57, 35, 59, 50, 19, 18, 56, 65, 42, 138, 106, 54, 64, 55, 310, 240, 55, 44, 37, 118, 14, 90, 45, 26, 52, 57, 0, 153, 81, 65, 382, 56, 338, 37, 90, 60, 71, 20, 126, 41, 56, 23, 93, 56, 50, 39, 50, 59, 24, 53, 18, 55, 16, 57, 23, 40, 59, 71, 264, 53, 32, 36, 10, 58, 111, 55, 50, 57, 62, 43, 141, 97, 185, 286, 103, 46, 54, 18, 102, 18, 28, 55, 39, 60, 57, 52, 59, 71, 53, 43, 81, 19, 77, 62, 80, 109, 54, 49, 60, 57, 34, 16, 257, 42, 29, 54, 56, 73, 43, 61, 18, 18, 14, 14, 35, 22, 55, 18, 195, 124, 27, 110, 36, 34, 74, 54, 28, 54, 20, 110, 22, 62, 110, 33, 86, 44, 54, 43, 95, 61, 40, 41, 26, 40, 19, 32, 33, 13, 89, 60, 304, 106, 27, 31, 105, 54, 32, 21, 13, 49, 162, 63, 49, 54, 26, 18, 0, 55, 65, 30, 47, 26, 47, 53, 40, 33, 83, 49, 50, 79, 120, 38, 12, 80, 76, 44, 245, 35, 141, 55, 70, 12, 57, 38, 12, 77, 57, 73, 22, 51, 37, 24, 62, 20, 20, 66, 113, 37, 56, 151, 101, 27, 95, 453, 191, 52, 207, 30, 33, 15, 12, 255, 22, 131, 45, 42, 46, 48, 84, 43, 91, 26, 34, 46, 139, 55, 230, 19, 21, 54, 20, 11, 71, 24, 41, 42, 140, 70, 118, 16, 17, 44, 12, 18, 102, 55, 20, 23, 60, 87, 43, 69, 67, 63, 46, 39, 48, 20, 32, 68, 32, 25, 49, 26, 18, 39, 65, 183, 44, 20, 18, 37, 176, 12, 14, 419, 99, 35, 49, 39, 19, 16, 53, 35, 35, 17, 33, 17, 20, 56, 18, 27, 44, 95, 67, 55, 37, 11, 41, 36, 247, 12, 32, 99, 28, 81, 135, 40, 112, 110, 16, 50, 84, 71, 46, 211, 53, 16, 77, 140, 18, 229, 16, 47, 26, 117, 37, 85, 80, 167, 55, 86, 72, 146, 77, 84, 78, 16, 306, 146, 218, 16, 326, 175, 50, 320, 146, 154, 84, 148, 101, 76, 46, 98, 14, 179, 44, 145, 127, 40, 101, 93, 305, 153, 18, 51, 238, 60, 60, 19, 111, 49, 524, 39, 83, 52, 63, 32, 59, 67, 53, 113, 42, 50, 45, 148, 184, 51, 21, 40, 60, 36, 148, 51, 193, 40, 160, 98, 24, 102, 22, 98, 86, 42, 428, 56, 58, 49, 145, 35, 153, 194, 48, 305, 84, 62, 45, 147, 111, 26, 101, 86, 88, 12, 206, 146, 45, 85, 18, 365, 93, 42, 73, 123, 27, 41, 65, 18, 69, 16, 24, 30, 21, 47, 20, 45, 34, 35, 107, 38, 49, 397, 32, 14, 67, 95, 16, 50, 54, 18, 26, 71, 67, 34, 31, 40, 129, 0, 142, 139, 22, 42, 43, 20, 277, 17, 41, 20, 23, 45, 115, 33, 17, 42, 31, 27, 82, 19, 26, 0, 63, 129, 28, 104, 16, 14, 428, 169, 18, 81, 53, 178, 53, 51, 45, 59, 17, 85, 163, 90, 252, 33, 61, 62, 19, 49, 41, 56, 38, 29, 54, 81, 293, 18, 39, 36, 40, 40, 69, 47, 43, 65, 53, 51, 10, 67, 54, 54, 29, 59, 26, 34, 54, 45, 13, 112, 83, 128, 15, 52, 95, 68, 55, 92, 187, 15, 16, 29, 40, 70, 225, 28, 48, 23, 272, 127, 376, 75, 45, 14, 25, 19, 51, 14, 131, 54, 16, 52, 14, 27, 24, 17, 22, 55, 78, 44, 36, 18, 43, 64, 154, 82, 67, 94, 138, 51, 66, 29, 47, 17, 88, 90, 93, 21, 38, 33, 73, 26, 36, 14, 34, 26, 16, 24, 82, 246, 61, 67, 12, 15, 16, 43, 20, 150, 16, 23, 78, 54, 376, 41, 67, 29, 23, 59, 12, 46, 219, 14, 20, 65, 31, 50, 26, 27, 42, 40, 93, 60, 43, 49, 37, 21, 44, 34, 60, 121, 92, 24, 40, 28, 11, 16, 14, 34, 51, 101, 57, 30, 19, 87, 50, 33, 45, 18, 64, 44, 16, 71, 60, 14, 57, 50, 51, 150, 52, 70, 60, 17, 16, 33, 64, 50, 41, 36, 57, 54, 16, 17, 18, 42, 90, 18, 56, 98, 51, 45, 26, 13, 18, 49, 35, 126, 147, 60, 19, 16, 44, 216, 147, 41, 20, 55, 19, 165, 115, 23, 45, 205, 200, 103, 56, 12, 14, 122, 81, 17, 17, 20, 34, 91, 46, 157, 14, 21, 43, 54, 50, 29, 86, 46, 57, 29, 20, 98, 94, 20, 116, 53, 170, 20, 124, 108, 44, 18, 293, 41, 22, 236, 88, 20, 174, 295, 210, 33, 41, 32, 51, 191, 298, 116, 110, 38, 145, 170, 151, 20, 47, 47, 314, 12, 18, 156, 53, 322, 113, 63, 163, 26, 42, 52, 53, 47, 35, 228, 101, 31, 96, 56, 18, 41, 120, 98, 16, 88, 147, 70, 178, 117, 34, 295, 22, 48, 105, 113, 47, 24, 25, 238, 45, 20, 85, 153, 310, 57, 46, 173, 184, 28, 69, 115, 60, 26, 70, 19, 20, 71, 50, 56, 35, 14, 12, 18, 16, 65, 14, 37, 18, 23, 47, 38, 24, 59, 54, 20, 29, 18, 299, 30, 42, 56, 39, 32, 32, 84, 50, 46, 38, 15, 98, 91, 24, 29, 37, 70, 157, 13, 22, 33, 21, 16, 16, 20, 19, 485, 66, 39, 36, 27, 39, 104, 53, 33, 25, 55, 28, 16, 47, 35, 16, 18, 101, 97, 16, 42, 32, 19, 85, 46, 106, 15, 26, 14, 14, 32, 125, 25, 29, 68, 13, 56, 88, 35, 174, 135, 80, 51, 54, 16, 16, 55, 55, 87, 19, 131, 52, 71, 114, 62, 80, 278, 32, 255, 234, 58, 41, 28, 48, 44, 20, 45, 45, 43, 28, 29, 270, 59, 73, 90, 42, 64, 121, 18, 127, 46, 46, 157, 81, 135, 36, 32, 24, 38, 152, 62, 72, 57, 26, 52, 174, 18, 15, 300, 227, 116, 12, 133, 53, 46, 127, 24, 11, 20, 20, 207, 59, 58, 108, 52, 109, 17, 13, 51, 23, 104, 322, 54, 35, 221, 153, 0, 20, 71, 246, 24, 18, 62, 63, 154, 178, 61, 51, 55, 33, 43, 161, 18, 25, 34, 23, 57, 19, 14, 36, 32, 27, 17, 43, 55, 66, 19, 82, 41, 44, 150, 58, 90, 66, 106, 58, 22, 40, 24, 27, 61, 30, 36, 18, 72, 43, 35, 34, 54, 18, 18, 96, 38, 32, 33, 89, 19, 11, 80, 67, 18, 44, 44, 40, 76, 40, 19, 41, 169, 56, 18, 54, 131, 262, 45, 159, 37, 16, 106, 367, 22, 91, 79, 60, 216, 159, 35, 16, 30, 384, 30, 90, 89, 20, 14, 20, 18, 101, 81, 53, 35, 100, 76, 229, 117, 49, 33, 91, 12, 14, 35, 32, 348, 137, 81, 18, 228, 107, 262, 42, 59, 58, 18, 16, 42, 35, 52, 43, 80, 293, 96, 162, 95, 130, 80, 84, 18, 61, 47, 114, 24, 34, 102, 16, 50, 89, 14, 48, 98, 48, 162, 40, 34, 62, 14, 38, 22, 19, 54, 280, 110, 69, 67, 215, 189, 19, 41, 42, 47, 22, 222, 64, 20, 55, 76, 52, 34, 257, 114, 49, 30, 32, 43, 30, 18, 25, 37, 65, 87, 44, 12, 17, 32, 16, 56, 18, 77, 17, 23, 49, 37, 33, 56, 44, 13, 43, 315, 31, 25, 21, 53, 39, 27, 56, 38, 293, 20, 55, 89, 99, 34, 49, 34, 33, 97, 48, 93, 76, 22, 15, 30, 17, 148, 30, 65, 139, 42, 20, 76, 50, 262, 52, 79, 140, 165, 63, 63, 47, 24, 74, 48, 41, 275, 52, 157, 16, 21, 14, 36, 27, 86, 27, 55, 77, 55, 51, 17, 50, 44, 68, 40, 47, 40, 130, 44, 19, 19, 20, 64, 114, 14, 33, 398, 526, 108, 25, 57, 21, 314, 20, 28, 31, 64, 60, 14, 37, 16, 56, 33, 28, 39, 40, 18, 18, 19, 18, 29, 175, 46, 23, 10, 28, 76, 25, 32, 14, 104, 301, 22, 29, 37, 62, 0, 66, 191, 124, 203, 139, 348, 38, 82, 143, 33, 18, 20, 49, 15, 33, 40, 59, 43, 33, 64, 32, 257, 21, 120, 83, 46, 63, 35, 222, 74, 62, 31, 94, 28, 38, 34, 52, 36, 37, 121, 171, 35, 26, 19, 20, 18, 60, 36, 24, 59, 28, 121, 71, 49, 32, 22, 100, 19, 89, 66, 28, 33, 51, 21, 21, 60, 14, 36, 30, 44, 128, 36, 28, 122, 163, 51, 49, 85, 38, 20, 23, 32, 23, 16, 69, 56, 101, 96, 58, 329, 142, 29, 113, 108, 29, 23, 34, 27, 50, 15, 22, 25, 17, 22, 99, 23, 13, 87, 113, 27, 16, 51, 23, 48, 17, 320, 65, 68, 46, 19, 96, 60, 40, 73, 26, 8, 298, 105, 26, 41, 22, 50, 20, 62, 68, 65, 61, 93, 18, 21, 39, 49, 348, 15, 22, 32, 177, 229, 158, 195, 45, 22, 52, 15, 93, 78, 69, 14, 133, 20, 133, 106, 97, 49, 21, 27, 52, 41, 107, 43, 72, 166, 114, 46, 86, 55, 74, 82, 22, 53, 175, 17, 41, 75, 15, 53, 32, 18, 107, 16, 19, 31, 99, 38, 384, 117, 56, 22, 18, 165, 92, 0, 18, 20, 18, 63, 18, 22, 18, 142, 121, 80, 211, 98, 19, 17, 72, 106, 49, 134, 38, 86, 28, 150, 172, 131, 18, 141, 118, 170, 39, 27, 58, 46, 42, 24, 18, 89, 74, 54, 149, 333, 27, 20, 40, 166, 72, 43, 17, 37, 238, 33, 85, 34, 148, 15, 14, 49, 24, 41, 49, 36, 56, 36, 360, 14, 40, 33, 34, 27, 77, 14, 203, 18, 30, 31, 152, 147, 44, 16, 108, 45, 51, 51, 48, 37, 20, 58, 46, 93, 20, 84, 215, 80, 59, 103, 19, 28, 440, 60, 50, 371, 39, 115, 17, 17, 52, 57, 113, 18, 95, 179, 34, 33, 36, 42, 206, 38, 28, 29, 176, 58, 155, 34, 36, 20, 21, 21, 22, 36, 35, 99, 21, 14, 20, 32, 12, 19, 71, 34, 83, 41, 33, 14, 41, 53, 140, 34, 39, 36, 31, 15, 52, 104, 25, 29, 27, 43, 15, 57, 10, 36, 151, 46, 179, 66, 17, 16, 44, 18, 23, 17, 19, 16, 51, 20, 104, 25, 16, 242, 28, 267, 42, 202, 55, 139, 64, 88, 290, 46, 57, 21, 41, 120, 57, 16, 14, 42, 111, 266, 20, 63, 50, 30, 115, 103, 50, 29, 20, 26, 19, 121, 29, 19, 33, 38, 56, 24, 27, 159, 310, 63, 39, 102, 58, 34, 18, 365, 55, 24, 204, 54, 61, 69, 18, 43, 12, 37, 14, 40, 12, 325, 87, 68, 78, 35, 69, 37, 64, 49, 126, 33, 27, 19, 20, 149, 18, 53, 167, 132, 20, 24, 103, 170, 46, 69, 27, 31, 46, 49, 32, 27, 106, 83, 62, 47, 31, 21, 29, 27, 71, 21, 47, 35, 31, 69, 23, 18, 46, 50, 182, 10, 17, 50, 23, 124, 377, 65, 53, 36, 49, 19, 28, 51, 38, 43, 46, 78, 23, 22, 305, 41, 121, 72, 32, 25, 8, 77, 140, 40, 91, 45, 18, 18, 15, 19, 102, 10, 70, 60, 80, 104, 94, 146, 104, 55, 30, 161, 51, 367, 55, 90, 16, 30, 79, 85, 39, 15, 57, 14, 52, 272, 47, 62, 27, 59, 65, 20, 124, 82, 60, 20, 18, 22, 188, 71, 32, 74, 18, 31, 80, 136, 126, 46, 20, 96, 0, 46, 48, 143, 82, 62, 70, 74, 32, 57, 43, 29, 18, 56, 91, 102, 78, 286, 133, 23, 130, 94, 34, 76, 25, 12, 14, 58, 29, 58, 20, 90, 195, 110, 131, 51, 121, 45, 17, 94, 113, 103, 35, 31, 65, 55, 62, 50, 28, 50, 31, 150, 14, 19, 78, 29, 120, 20, 79, 16, 33, 21, 20, 76, 17, 47, 17, 18, 190, 70, 32, 101, 40, 39, 22, 25, 31, 22, 31, 13, 177, 27, 33, 50, 37, 22, 45, 65, 267, 22, 0, 17, 118, 55, 92, 18, 30, 18, 20, 41, 74, 14, 200, 26, 204, 19, 32, 137, 18, 27, 171, 20, 29, 15, 22, 18, 73, 39, 96, 177, 16, 99, 107, 22, 33, 160, 149, 14, 18, 53, 22, 85, 37, 26, 48, 40, 52, 18, 50, 28, 87, 57, 37, 28, 20, 26, 43, 56, 20, 41, 18, 52, 48, 27, 58, 60, 13, 24, 55, 41, 19, 21, 56, 26, 20, 18, 18, 16, 19, 14, 42, 53, 34, 48, 42, 44, 112, 99, 86, 214, 47, 52, 86, 121, 16, 115, 27, 14, 53, 23, 21, 49, 33, 127, 18, 36, 44, 41, 56, 98, 78, 73, 162, 89, 57, 41, 16, 21, 169, 139, 18, 28, 13, 62, 287, 42, 69, 67, 249, 32, 223, 71, 145, 18, 16, 38, 32, 121, 53, 69, 38, 15, 16, 53, 30, 123, 63, 56, 61, 59, 46, 30, 71, 12, 46, 49, 20, 172, 28, 28, 138, 26, 70, 37, 25, 15, 58, 11, 19, 0, 35, 52, 27, 40, 54, 75, 94, 37, 14, 95, 291, 31, 24, 141, 285, 98, 20, 42, 136, 19, 37, 55, 76, 122, 58, 0, 39, 61, 19, 193, 39, 61, 45, 88, 102, 233, 239, 46, 36, 27, 38, 38, 379, 74, 310, 94, 56, 132, 303, 242, 222, 192, 96, 38, 129, 39, 255, 98, 113, 108, 317, 56, 178, 74, 54, 105, 182, 82, 142, 31, 94, 33, 95, 312, 171, 46, 22, 18, 52, 32, 161, 132, 86, 142, 155, 400, 69, 81, 134, 14, 37, 50, 68, 140, 90, 57, 101, 96, 55, 64, 119, 104, 161, 73, 109, 154, 67, 63, 0, 31, 96, 152, 55, 129, 63, 95, 121, 20, 14, 18, 54, 182, 142, 108, 71, 113, 43, 28, 222, 38, 48, 55, 255, 78, 109, 53, 70, 261, 47, 47, 48, 58, 40, 20, 19, 36, 39, 96, 16, 52, 144, 30, 28, 77, 59, 31, 77, 64, 18, 37, 55, 277, 16, 15, 21, 87, 140, 59, 110, 31, 17, 17, 69, 55, 37, 14, 16, 27, 36, 54, 49, 128, 44, 32, 30, 24, 31, 14, 39, 44, 26, 16, 48, 12, 28, 70, 34, 118, 47, 171, 28, 28, 48, 39, 54, 14, 38, 124, 108, 41, 30, 48, 17, 31, 47, 25, 85, 14, 32, 62, 76, 100, 28, 35, 28, 46, 89, 100, 37, 26, 24, 18, 24, 12, 84, 26, 84, 62, 19, 18, 41, 87, 53, 52, 53, 18, 84, 160, 40, 22, 84, 61, 22, 17, 126, 54, 179, 70, 236, 85, 30, 20, 16, 186, 33, 14, 260, 91, 26, 18, 44, 151, 61, 173, 274, 14, 91, 43, 23, 109, 50, 90, 18, 59, 12, 25, 34, 73, 49, 116, 40, 30, 41, 25, 18, 29, 45, 33, 18, 18, 63, 74, 139, 19, 45, 16, 23, 211, 95, 58, 166, 100, 37, 36, 128, 83, 81, 17, 52, 128, 95, 32, 179, 25, 10, 18, 102, 18, 43, 81, 32, 39, 22, 28, 62, 80, 78, 54, 22, 15, 22, 34, 112, 296, 22, 232, 24, 58, 294, 57, 52, 37, 37, 39, 126, 52, 51, 70, 38, 14, 225, 16, 14, 54, 55, 14, 42, 151, 315, 101, 186, 187, 125, 16, 155, 138, 64, 74, 8, 148, 98, 103, 12, 46, 56, 102, 16, 70, 52, 148, 20, 16, 190, 58, 261, 137, 56, 259, 53, 212, 106, 128, 59, 126, 47, 50, 16, 105, 26, 62, 80, 42, 98, 20, 176, 151, 138, 261, 16, 259, 128, 84, 108, 63, 111, 56, 14, 50, 156, 103, 121, 45, 61, 75, 80, 47, 55, 63, 96, 84, 51, 121, 50, 32, 48, 50, 30, 49, 20, 110, 107, 185, 130, 164, 118, 16, 98, 142, 40, 296, 109, 53, 49, 19, 122, 23, 125, 37, 40, 107, 67, 15, 37, 27, 38, 51, 16, 37, 128, 38, 29, 29, 37, 58, 420, 186, 65, 97, 271, 38, 115, 82, 90, 22, 77, 29, 97, 138, 33, 16, 101, 50, 124, 85, 41, 32, 17, 18, 14, 64, 32, 36, 34, 252, 26, 113, 152, 133, 51, 44, 17, 27, 14, 16, 185, 106, 358, 10, 102, 33, 59, 48, 28, 77, 43, 16, 37, 117, 45, 63, 47, 45, 94, 111, 91, 94, 59, 15, 13, 16, 51, 104, 110, 35, 102, 25, 77, 93, 57, 61, 65, 184, 245, 195, 46, 47, 36, 70, 16, 53, 16, 47, 191, 84, 64, 82, 15, 48, 14, 20, 59, 26, 46, 16, 23, 65, 20, 17, 17, 219, 112, 41, 151, 164, 116, 394, 172, 61, 35, 32, 52, 25, 92, 38, 53, 77, 115, 281, 76, 182, 32, 17, 34, 50, 33, 207, 13, 201, 48, 75, 35, 39, 109, 43, 114, 14, 14, 22, 62, 21, 47, 109, 35, 55, 36, 22, 28, 57, 135, 37, 24, 26, 80, 26, 14, 50, 38, 138, 41, 35, 56, 375, 45, 38, 16, 125, 46, 65, 176, 45, 51, 89, 18, 39, 25, 10, 18, 36, 257, 116, 25, 64, 38, 12, 170, 16, 340, 35, 136, 76, 53, 103, 27, 8, 16, 177, 80, 18, 16, 79, 203, 80, 36, 99, 55, 84, 74, 43, 30, 23, 22, 20, 68, 59, 52, 52, 49, 11, 63, 36, 52, 244, 32, 151, 18, 18, 14, 18, 18, 52, 44, 63, 16, 58, 52, 16, 12, 31, 146, 56, 14, 94, 299, 224, 48, 56, 61, 187, 66, 20, 53, 113, 134, 79, 16, 126, 51, 22, 133, 47, 31, 109, 427, 50, 78, 108, 25, 56, 124, 87, 198, 107, 31, 57, 101, 49, 40, 97, 27, 63, 28, 18, 62, 45, 101, 338, 50, 108, 221, 74, 149, 161, 95, 187, 52, 94, 24, 28, 284, 146, 109, 93, 0, 45, 110, 54, 47, 43, 51, 48, 37, 18, 47, 33, 48, 14, 96, 368, 21, 36, 139, 16, 37, 49, 140, 13, 27, 25, 12, 30, 23, 37, 21, 22, 16, 16, 45, 29, 87, 21, 264, 41, 12, 104, 18, 48, 18, 23, 44, 52, 95, 48, 159, 105, 33, 25, 54, 43, 43, 20, 86, 11, 20, 27, 34, 15, 46, 139, 42, 63, 21, 29, 92, 187, 60, 32, 34, 44, 23, 247, 55, 42, 39, 0, 34, 85, 16, 84, 35, 51, 16, 34, 12, 49, 34, 49, 29, 21, 27, 19, 155, 43, 41, 71, 47, 18, 46, 107, 52, 104, 38, 18, 72, 29, 65, 39, 70, 12, 53, 48, 22, 117, 122, 32, 182, 150, 45, 43, 14, 35, 32, 85, 19, 140, 20, 64, 31, 20, 46, 16, 34, 20, 20, 37, 52, 45, 12, 298, 109, 23, 24, 35, 72, 24, 191, 52, 87, 40, 71, 18, 108, 20, 323, 42, 44, 27, 15, 33, 179, 51, 29, 128, 130, 37, 20, 0, 16, 24, 39, 20, 22, 43, 17, 60, 79, 24, 16, 48, 77, 107, 291, 58, 126, 53, 41, 18, 22, 157, 10, 118, 45, 71, 103, 127, 17, 142, 152, 75, 28, 146, 56, 46, 22, 127, 104, 52, 69, 39, 16, 29, 22, 19, 17, 29, 24, 15, 0, 18, 235, 185, 69, 19, 15, 135, 84, 16, 20, 30, 42, 249, 18, 82, 88, 52, 24, 185, 29, 52, 35, 18, 18, 18, 44, 172, 58, 26, 51, 18, 89, 58, 156, 16, 219, 273, 207, 57, 116, 67, 25, 26, 248, 34, 54, 135, 87, 42, 338, 60, 12, 102, 49, 38, 25, 40, 77, 52, 32, 16, 152, 131, 56, 14, 14, 88, 80, 146, 147, 55, 263, 94, 101, 59, 50, 18, 93, 20, 16, 74, 53, 105, 22, 323, 198, 20, 165, 22, 51, 134, 51, 156, 36, 42, 103, 22, 20, 298, 75, 61, 40, 304, 167, 35, 20, 215, 195, 141, 346, 24, 24, 160, 138, 144, 92, 22, 22, 59, 80, 52, 18, 231, 48, 304, 32, 90, 248, 148, 117, 117, 31, 50, 81, 16, 44, 27, 12, 43, 37, 33, 24, 56, 74, 90, 127, 90, 12, 20, 30, 15, 38, 199, 83, 37, 97, 14, 59, 44, 125, 40, 63, 372, 71, 10, 35, 18, 12, 115, 56, 20, 44, 46, 43, 103, 14, 134, 47, 150, 48, 20, 114, 107, 56, 116, 23, 14, 95, 32, 32, 59, 127, 48, 35, 32, 75, 0, 18, 18, 48, 16, 116, 75, 193, 34, 90, 61, 53, 72, 49, 38, 46, 34, 154, 31, 52, 82, 105, 48, 47, 106, 12, 18, 56, 20, 164, 21, 12, 53, 200, 133, 38, 117, 154, 159, 16, 79, 73, 22, 129, 37, 42, 14, 17, 79, 30, 77, 14, 40, 53, 343, 57, 50, 324, 66, 56, 54, 55, 19, 30, 54, 26, 15, 17, 36, 21]\n",
            "Average document length: 69.23822766036336\n",
            "Maximun document length: 804\n",
            "Minimun document length: 0\n",
            "Standard deviation of document length: 67.46928176385823\n"
          ],
          "name": "stdout"
        }
      ]
    }
  ]
}