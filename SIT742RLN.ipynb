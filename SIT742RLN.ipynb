{
  "nbformat": 4,
  "nbformat_minor": 0,
  "metadata": {
    "colab": {
      "name": "SIT742RLN.ipynb",
      "version": "0.3.2",
      "provenance": [],
      "collapsed_sections": [],
      "include_colab_link": true
    },
    "language_info": {
      "codemirror_mode": {
        "name": "ipython",
        "version": 3
      },
      "file_extension": ".py",
      "mimetype": "text/x-python",
      "name": "python",
      "nbconvert_exporter": "python",
      "pygments_lexer": "ipython3",
      "version": "3.6.4"
    },
    "kernelspec": {
      "display_name": "Python 3",
      "language": "python",
      "name": "python3"
    }
  },
  "cells": [
    {
      "cell_type": "markdown",
      "metadata": {
        "id": "view-in-github",
        "colab_type": "text"
      },
      "source": [
        "<a href=\"https://colab.research.google.com/github/resh1604/SIT742/blob/master/SIT742RLN.ipynb\" target=\"_parent\"><img src=\"https://colab.research.google.com/assets/colab-badge.svg\" alt=\"Open In Colab\"/></a>"
      ]
    },
    {
      "cell_type": "markdown",
      "metadata": {
        "id": "GOUUQCsm8ecf",
        "colab_type": "text"
      },
      "source": [
        "# SIT742: Modern Data Science \n",
        "**(Assessment Task 02: Bank Marketing Data Analytics)**\n",
        "\n",
        "---\n",
        "- Materials in this module include resources collected from various open-source online repositories.\n",
        "- You are free to use, change and distribute this package.\n",
        "\n",
        "Prepared by **SIT742 Teaching Team**\n",
        "\n",
        "\n",
        "---\n",
        "\n",
        "**Project Group Information:** \n",
        "- GROUP NUMBER: 118\n",
        "- Names: Reshita Minocha, Latha Balavari, Nishtha Gupta\n",
        "- Student IDs: 217435691, 218207168, \n",
        "- Emails: rminocha@deakin.edu.au, lbalavari@deakin.edu.au, guptani@deakin.edu.au\n"
      ]
    },
    {
      "cell_type": "markdown",
      "metadata": {
        "colab_type": "text",
        "id": "eASNvREtBU9G"
      },
      "source": [
        "## 1. Import Spark"
      ]
    },
    {
      "cell_type": "code",
      "metadata": {
        "cellView": "code",
        "colab_type": "code",
        "id": "duCJfMrnGu00",
        "outputId": "7ec603ad-cbea-4b7d-e487-5926f8ae98c4",
        "colab": {
          "base_uri": "https://localhost:8080/",
          "height": 150
        }
      },
      "source": [
        "# WGET is a free tool to download files and crawl websites via the command line\n",
        "# OpenJDK Development Kit (JDK) (headless) OpenJDK is a development environment for building applications, applets, and components using the Java programming language\n",
        "# Apache Spark is an open-source distributed general-purpose cluster-computing framework\n",
        "!pip install wget\n",
        "!apt-get install openjdk-8-jdk-headless -qq > /dev/null\n",
        "!wget -q https://archive.apache.org/dist/spark/spark-2.4.0/spark-2.4.0-bin-hadoop2.7.tgz\n",
        "!tar xf spark-2.4.0-bin-hadoop2.7.tgz\n",
        "!pip install -q findspark\n",
        "\n",
        "# os.environ[\" \"] ->  Sets the enviroment variable\n",
        "import os\n",
        "os.environ[\"JAVA_HOME\"] = \"/usr/lib/jvm/java-8-openjdk-amd64\"\n",
        "os.environ[\"SPARK_HOME\"] = \"/content/spark-2.4.0-bin-hadoop2.7\""
      ],
      "execution_count": 1,
      "outputs": [
        {
          "output_type": "stream",
          "text": [
            "Collecting wget\n",
            "  Downloading https://files.pythonhosted.org/packages/47/6a/62e288da7bcda82b935ff0c6cfe542970f04e29c756b0e147251b2fb251f/wget-3.2.zip\n",
            "Building wheels for collected packages: wget\n",
            "  Building wheel for wget (setup.py) ... \u001b[?25l\u001b[?25hdone\n",
            "  Stored in directory: /root/.cache/pip/wheels/40/15/30/7d8f7cea2902b4db79e3fea550d7d7b85ecb27ef992b618f3f\n",
            "Successfully built wget\n",
            "Installing collected packages: wget\n",
            "Successfully installed wget-3.2\n"
          ],
          "name": "stdout"
        }
      ]
    },
    {
      "cell_type": "code",
      "metadata": {
        "colab_type": "code",
        "id": "aGOo805LA-fM",
        "colab": {}
      },
      "source": [
        "# findspark.init() -> makes pyspark importable as a regular library\n",
        "# SparkSession is an entry point where control is transferred from the operating system to the provided program\n",
        "import findspark\n",
        "findspark.init()\n",
        "from pyspark.sql import SparkSession "
      ],
      "execution_count": 0,
      "outputs": []
    },
    {
      "cell_type": "markdown",
      "metadata": {
        "colab_type": "text",
        "id": "K7bEtO_fBZmE"
      },
      "source": [
        "## 2. Read and check data"
      ]
    },
    {
      "cell_type": "code",
      "metadata": {
        "id": "F5qcOpBu8ecq",
        "colab_type": "code",
        "outputId": "9d4cc330-513d-4f8f-ac23-a205d37f9cd7",
        "colab": {
          "base_uri": "https://localhost:8080/",
          "height": 33
        }
      },
      "source": [
        "# WGET is a free tool to download files and crawl websites via the command line\n",
        "!pip install wget"
      ],
      "execution_count": 4,
      "outputs": [
        {
          "output_type": "stream",
          "text": [
            "Requirement already satisfied: wget in /usr/local/lib/python3.6/dist-packages (3.2)\n"
          ],
          "name": "stdout"
        }
      ]
    },
    {
      "cell_type": "code",
      "metadata": {
        "id": "Q6c6Lla88ect",
        "colab_type": "code",
        "colab": {}
      },
      "source": [
        "# link_to_data -> links the command line to the mentioned path\n",
        "# wget.download(link_to_data) -> downloads the files\n",
        "\n",
        "import wget\n",
        "\n",
        "link_to_data = 'https://github.com/tulip-lab/sit742/raw/master/Assessment/2019/data/bank.csv'\n",
        "DataSet = wget.download(link_to_data)"
      ],
      "execution_count": 0,
      "outputs": []
    },
    {
      "cell_type": "code",
      "metadata": {
        "id": "aR55yOYn8ecw",
        "colab_type": "code",
        "outputId": "733f59bb-6a0a-4d2c-bfa2-52639b21e1b2",
        "colab": {
          "base_uri": "https://localhost:8080/",
          "height": 33
        }
      },
      "source": [
        "# ls -> lists all the files in the current directory\n",
        "!ls"
      ],
      "execution_count": 6,
      "outputs": [
        {
          "output_type": "stream",
          "text": [
            "bank.csv  sample_data  spark-2.4.0-bin-hadoop2.7  spark-2.4.0-bin-hadoop2.7.tgz\n"
          ],
          "name": "stdout"
        }
      ]
    },
    {
      "cell_type": "code",
      "metadata": {
        "colab_type": "code",
        "id": "FQ8Ts9eZBA-M",
        "colab": {
          "base_uri": "https://localhost:8080/",
          "height": 53
        },
        "outputId": "58dfc95c-191b-4f37-ae23-d7d15e6bac5c"
      },
      "source": [
        "# Creation of SparkSession \n",
        "spark = SparkSession.builder.appName('ml-bank').getOrCreate()\n",
        "\n",
        "# PySpark is a great language for performing exploratory data analysis at scale, building machine learning pipelines, and creating ETLs for a data platform\n",
        "from pyspark.sql.types import StructType, StructField\n",
        "from pyspark.sql.types import DoubleType, IntegerType, StringType\n",
        "\n",
        "# StructType objects define the schema of Spark DataFrames. \n",
        "# StructType objects contain a list of StructField objects that define the name, type, and nullable flag for each column in a DataFrame\n",
        "schema = StructType([\n",
        "    StructField(\"age\", IntegerType()),\n",
        "    StructField(\"job\", StringType()),\n",
        "    StructField(\"marital\", StringType()),\n",
        "    StructField(\"education\", StringType()),\n",
        "    StructField(\"default\", StringType()),\n",
        "    StructField(\"balance\", IntegerType()),\n",
        "    StructField(\"housing\", StringType()),\n",
        "    StructField(\"contact\", StringType()),\n",
        "    StructField(\"day\", IntegerType()),\n",
        "    StructField(\"month\", StringType()),\n",
        "    StructField(\"duration\", IntegerType()),\n",
        "    StructField(\"campaign\", IntegerType()),\n",
        "    StructField(\"pdays\", IntegerType()),\n",
        "    StructField(\"previous\", IntegerType()),\n",
        "    StructField(\"poutcome\", StringType()),\n",
        "    StructField(\"deposit\", StringType())\n",
        "])\n",
        "\n",
        "# Import the 'bank.csv' as a Spark dataframe and name it as d\n",
        "df = spark.read.format(\"csv\").\\\n",
        "        option(\"header\", \"true\").\\\n",
        "            load(\"bank.csv\")\n",
        "\n",
        "# withColumn -> returns a new DataFrame with an added column       \n",
        "df = df.withColumn(\"age\", df[\"age\"].cast(IntegerType()))\n",
        "df = df.withColumn(\"balance\", df[\"balance\"].cast(IntegerType()))\n",
        "df = df.withColumn(\"day\", df[\"day\"].cast(IntegerType()))\n",
        "df = df.withColumn(\"duration\", df[\"duration\"].cast(IntegerType()))\n",
        "df = df.withColumn(\"campaign\", df[\"campaign\"].cast(IntegerType()))\n",
        "df = df.withColumn(\"pdays\", df[\"pdays\"].cast(IntegerType()))\n",
        "df = df.withColumn(\"previous\", df[\"previous\"].cast(IntegerType()))\n",
        "\n",
        "df"
      ],
      "execution_count": 8,
      "outputs": [
        {
          "output_type": "execute_result",
          "data": {
            "text/plain": [
              "DataFrame[age: int, job: string, marital: string, education: string, default: string, balance: int, housing: string, loan: string, contact: string, day: int, month: string, duration: int, campaign: int, pdays: int, previous: int, poutcome: string, deposit: string]"
            ]
          },
          "metadata": {
            "tags": []
          },
          "execution_count": 8
        }
      ]
    },
    {
      "cell_type": "code",
      "metadata": {
        "id": "kD7R8DK4COOb",
        "colab_type": "code",
        "outputId": "35b2b7d0-2020-4487-c91e-979436fd1dc2",
        "colab": {
          "base_uri": "https://localhost:8080/",
          "height": 53
        }
      },
      "source": [
        "# .head() -> returns top n (5 by default) rows of a data frame or series\n",
        "df.head(1)"
      ],
      "execution_count": 9,
      "outputs": [
        {
          "output_type": "execute_result",
          "data": {
            "text/plain": [
              "[Row(age=59, job='admin.', marital='married', education='secondary', default='no', balance=2343, housing='yes', loan='no', contact='unknown', day=5, month='may', duration=1042, campaign=1, pdays=-1, previous=0, poutcome='unknown', deposit='yes')]"
            ]
          },
          "metadata": {
            "tags": []
          },
          "execution_count": 9
        }
      ]
    },
    {
      "cell_type": "code",
      "metadata": {
        "colab_type": "code",
        "id": "XJGWVc0yB0UA",
        "outputId": "b1d6b15b-be58-4ff2-9c2f-93126a064dec",
        "colab": {
          "base_uri": "https://localhost:8080/",
          "height": 334
        }
      },
      "source": [
        "# printSchema() -> prints the schema for a SparkR DataFrame in a tree format \n",
        "df.printSchema()"
      ],
      "execution_count": 10,
      "outputs": [
        {
          "output_type": "stream",
          "text": [
            "root\n",
            " |-- age: integer (nullable = true)\n",
            " |-- job: string (nullable = true)\n",
            " |-- marital: string (nullable = true)\n",
            " |-- education: string (nullable = true)\n",
            " |-- default: string (nullable = true)\n",
            " |-- balance: integer (nullable = true)\n",
            " |-- housing: string (nullable = true)\n",
            " |-- loan: string (nullable = true)\n",
            " |-- contact: string (nullable = true)\n",
            " |-- day: integer (nullable = true)\n",
            " |-- month: string (nullable = true)\n",
            " |-- duration: integer (nullable = true)\n",
            " |-- campaign: integer (nullable = true)\n",
            " |-- pdays: integer (nullable = true)\n",
            " |-- previous: integer (nullable = true)\n",
            " |-- poutcome: string (nullable = true)\n",
            " |-- deposit: string (nullable = true)\n",
            "\n"
          ],
          "name": "stdout"
        }
      ]
    },
    {
      "cell_type": "markdown",
      "metadata": {
        "colab_type": "text",
        "id": "wKQMhrtFChHa"
      },
      "source": [
        "## 3. Select features"
      ]
    },
    {
      "cell_type": "code",
      "metadata": {
        "colab_type": "code",
        "id": "VU5xMqN_RyM2",
        "outputId": "386e232e-fd96-457c-f77e-3e33abebee27",
        "colab": {
          "base_uri": "https://localhost:8080/",
          "height": 53
        }
      },
      "source": [
        "# select features ('age', 'job', 'marital', 'education', 'default', 'balance', 'housing', 'loan', 'campaign', 'pdays', 'previous', 'poutcome', 'deposit') as df2\n",
        "\n",
        "# Feature Selection is the process where we manually select the features which contribute most to the output\n",
        "\n",
        "columns = ['age',\n",
        "           'job', \n",
        "           'marital',\n",
        "           'education',\n",
        "           'default', \n",
        "           'balance', \n",
        "           'housing',\n",
        "           'loan',\n",
        "           'campaign',\n",
        "           'pdays', \n",
        "           'previous',\n",
        "           'poutcome',\n",
        "           'deposit']\n",
        "\n",
        "df2 = df.select([c for c in df.columns if c in columns])\n",
        "df2.head(1)"
      ],
      "execution_count": 11,
      "outputs": [
        {
          "output_type": "execute_result",
          "data": {
            "text/plain": [
              "[Row(age=59, job='admin.', marital='married', education='secondary', default='no', balance=2343, housing='yes', loan='no', campaign=1, pdays=-1, previous=0, poutcome='unknown', deposit='yes')]"
            ]
          },
          "metadata": {
            "tags": []
          },
          "execution_count": 11
        }
      ]
    },
    {
      "cell_type": "code",
      "metadata": {
        "colab_type": "code",
        "id": "vwF5sqRYa_eI",
        "outputId": "d6d4ed3f-bd1e-45af-c3dd-115f156349e6",
        "colab": {
          "base_uri": "https://localhost:8080/",
          "height": 639
        }
      },
      "source": [
        "# remove invalid rows/records using spark.sql \n",
        "\n",
        "# There are two methods to remove the invalid rows/records\n",
        "\n",
        "# filter() -> returns an iterator that passed the function check for each element in the iterable\n",
        "df3 = df2.filter((((df2.poutcome != 'unknown') & (df2.poutcome != 'other') & (df2.job != 'unknown') & (df2.education != 'unknown'))))\n",
        "df3.show()\n",
        "df3.describe().show()\n",
        "\n",
        "\n",
        "#df2 = df2.na.drop()\n",
        "#df2 = df2[df2.poutcome != 'unknown']\n",
        "#df2 = df2[df2.poutcome != 'other']\n",
        "#df2 = df2[df2.job != 'unknown']\n",
        "#df2 = df2[df2.education != 'unknown']"
      ],
      "execution_count": 15,
      "outputs": [
        {
          "output_type": "stream",
          "text": [
            "+---+------------+--------+---------+-------+-------+-------+----+--------+-----+--------+--------+-------+\n",
            "|age|         job| marital|education|default|balance|housing|loan|campaign|pdays|previous|poutcome|deposit|\n",
            "+---+------------+--------+---------+-------+-------+-------+----+--------+-----+--------+--------+-------+\n",
            "| 33|    services| married|secondary|     no|   3444|    yes|  no|       1|   91|       4| failure|    yes|\n",
            "| 56|  technician| married|secondary|     no|    589|    yes|  no|       1|  147|       2| success|    yes|\n",
            "| 34|      admin.| married| tertiary|     no|    899|    yes|  no|       1|  170|       3| failure|    yes|\n",
            "| 53|     retired| married| tertiary|     no|   2269|     no|  no|       2|  150|       1| success|    yes|\n",
            "| 37|  technician| married|secondary|     no|   5115|    yes|  no|       2|  171|       4| failure|    yes|\n",
            "| 45|entrepreneur| married|secondary|     no|    781|     no| yes|       2|  126|       2| failure|    yes|\n",
            "| 46|  unemployed|divorced|secondary|     no|   3354|    yes|  no|       1|  174|       1| success|    yes|\n",
            "| 40|  management| married| tertiary|     no|   3352|    yes|  no|       2|   27|       1| success|    yes|\n",
            "| 32|  technician| married| tertiary|     no|   4654|    yes| yes|       1|  128|       2| failure|    yes|\n",
            "| 30| blue-collar| married|secondary|     no|    501|    yes| yes|       1|  177|       1| failure|    yes|\n",
            "| 46|  technician| married| tertiary|     no|      0|     no|  no|       1|  167|       1| failure|    yes|\n",
            "| 38|entrepreneur| married| tertiary|     no|   1110|    yes|  no|       2|  183|       2| failure|    yes|\n",
            "| 32|    services| married|secondary|     no|    983|    yes|  no|       2|  133|       1| failure|    yes|\n",
            "| 31|  unemployed| married|secondary|     no|    314|    yes|  no|       3|  178|       7| failure|    yes|\n",
            "| 50| blue-collar| married|  primary|     no|  12519|    yes|  no|       3|   34|       1| failure|    yes|\n",
            "| 47|  technician| married|secondary|     no|      0|     no|  no|       1|   10|       1| failure|    yes|\n",
            "| 59|  management| married| tertiary|     no|   7049|     no|  no|       1|  163|       2| failure|    yes|\n",
            "| 31|  management| married|secondary|     no|   8629|    yes|  no|       1|  184|       2| failure|    yes|\n",
            "| 53| blue-collar| married|secondary|     no|   1777|    yes|  no|       5|  154|       1| failure|    yes|\n",
            "| 40|  technician|  single| tertiary|     no|   1646|    yes|  no|       1|  242|       2| failure|    yes|\n",
            "+---+------------+--------+---------+-------+-------+-------+----+--------+-----+--------+--------+-------+\n",
            "only showing top 20 rows\n",
            "\n",
            "+-------+------------------+----------+--------+---------+-------+------------------+-------+----+------------------+-----------------+------------------+--------+-------+\n",
            "|summary|               age|       job| marital|education|default|           balance|housing|loan|          campaign|            pdays|          previous|poutcome|deposit|\n",
            "+-------+------------------+----------+--------+---------+-------+------------------+-------+----+------------------+-----------------+------------------+--------+-------+\n",
            "|  count|              2181|      2181|    2181|     2181|   2181|              2181|   2181|2181|              2181|             2181|              2181|    2181|   2181|\n",
            "|   mean| 41.84364970197157|      null|    null|     null|   null| 1742.946813388354|   null|null|1.8211829436038514|202.8578633654287|3.0917010545621273|    null|   null|\n",
            "| stddev|12.855329179952637|      null|    null|     null|   null|3397.7939950723485|   null|null|1.2274126864078023|121.3097255486155| 2.958246116660583|    null|   null|\n",
            "|    min|                18|    admin.|divorced|  primary|     no|              -938|     no|  no|                 1|                1|                 1| failure|     no|\n",
            "|    max|                88|unemployed|  single| tertiary|    yes|             81204|    yes| yes|                12|              854|                55| success|    yes|\n",
            "+-------+------------------+----------+--------+---------+-------+------------------+-------+----+------------------+-----------------+------------------+--------+-------+\n",
            "\n"
          ],
          "name": "stdout"
        }
      ]
    },
    {
      "cell_type": "code",
      "metadata": {
        "id": "CipPpPPeW85m",
        "colab_type": "code",
        "outputId": "2c596e4c-2cda-4a18-afdc-a443188da779",
        "colab": {
          "base_uri": "https://localhost:8080/",
          "height": 226
        }
      },
      "source": [
        "# Pandas would be used to display Numeric features of the dataframe\n",
        "\n",
        "import pandas as pd\n",
        "numeric_features = [t[0] for t in df3.dtypes if t[1] == 'int']\n",
        "df3.select(numeric_features).describe().toPandas().transpose()"
      ],
      "execution_count": 16,
      "outputs": [
        {
          "output_type": "execute_result",
          "data": {
            "text/html": [
              "<div>\n",
              "<style scoped>\n",
              "    .dataframe tbody tr th:only-of-type {\n",
              "        vertical-align: middle;\n",
              "    }\n",
              "\n",
              "    .dataframe tbody tr th {\n",
              "        vertical-align: top;\n",
              "    }\n",
              "\n",
              "    .dataframe thead th {\n",
              "        text-align: right;\n",
              "    }\n",
              "</style>\n",
              "<table border=\"1\" class=\"dataframe\">\n",
              "  <thead>\n",
              "    <tr style=\"text-align: right;\">\n",
              "      <th></th>\n",
              "      <th>0</th>\n",
              "      <th>1</th>\n",
              "      <th>2</th>\n",
              "      <th>3</th>\n",
              "      <th>4</th>\n",
              "    </tr>\n",
              "  </thead>\n",
              "  <tbody>\n",
              "    <tr>\n",
              "      <th>summary</th>\n",
              "      <td>count</td>\n",
              "      <td>mean</td>\n",
              "      <td>stddev</td>\n",
              "      <td>min</td>\n",
              "      <td>max</td>\n",
              "    </tr>\n",
              "    <tr>\n",
              "      <th>age</th>\n",
              "      <td>2181</td>\n",
              "      <td>41.84364970197157</td>\n",
              "      <td>12.855329179952637</td>\n",
              "      <td>18</td>\n",
              "      <td>88</td>\n",
              "    </tr>\n",
              "    <tr>\n",
              "      <th>balance</th>\n",
              "      <td>2181</td>\n",
              "      <td>1742.946813388354</td>\n",
              "      <td>3397.7939950723485</td>\n",
              "      <td>-938</td>\n",
              "      <td>81204</td>\n",
              "    </tr>\n",
              "    <tr>\n",
              "      <th>campaign</th>\n",
              "      <td>2181</td>\n",
              "      <td>1.8211829436038514</td>\n",
              "      <td>1.2274126864078023</td>\n",
              "      <td>1</td>\n",
              "      <td>12</td>\n",
              "    </tr>\n",
              "    <tr>\n",
              "      <th>pdays</th>\n",
              "      <td>2181</td>\n",
              "      <td>202.8578633654287</td>\n",
              "      <td>121.3097255486155</td>\n",
              "      <td>1</td>\n",
              "      <td>854</td>\n",
              "    </tr>\n",
              "    <tr>\n",
              "      <th>previous</th>\n",
              "      <td>2181</td>\n",
              "      <td>3.0917010545621273</td>\n",
              "      <td>2.958246116660583</td>\n",
              "      <td>1</td>\n",
              "      <td>55</td>\n",
              "    </tr>\n",
              "  </tbody>\n",
              "</table>\n",
              "</div>"
            ],
            "text/plain": [
              "              0                   1                   2     3      4\n",
              "summary   count                mean              stddev   min    max\n",
              "age        2181   41.84364970197157  12.855329179952637    18     88\n",
              "balance    2181   1742.946813388354  3397.7939950723485  -938  81204\n",
              "campaign   2181  1.8211829436038514  1.2274126864078023     1     12\n",
              "pdays      2181   202.8578633654287   121.3097255486155     1    854\n",
              "previous   2181  3.0917010545621273   2.958246116660583     1     55"
            ]
          },
          "metadata": {
            "tags": []
          },
          "execution_count": 16
        }
      ]
    },
    {
      "cell_type": "code",
      "metadata": {
        "id": "-jpmpq-CXDuk",
        "colab_type": "code",
        "outputId": "43e7e7fa-e2d9-4c67-f47d-c9352f894927",
        "colab": {
          "base_uri": "https://localhost:8080/",
          "height": 523
        }
      },
      "source": [
        "# scatter_matrix -> Draws a matrix of scatter plots\n",
        "\n",
        "from pandas.plotting import scatter_matrix\n",
        "\n",
        "numeric_data = df3.select(numeric_features).toPandas()\n",
        "axs = scatter_matrix(numeric_data, figsize=(8, 8));\n",
        "\n",
        "n = len(numeric_data.columns)\n",
        "for i in range(n):\n",
        "    v = axs[i, 0]\n",
        "    v.yaxis.label.set_rotation(0)\n",
        "    v.yaxis.label.set_ha('right')\n",
        "    v.set_yticks(())\n",
        "    h = axs[n-1, i]\n",
        "    h.xaxis.label.set_rotation(90)\n",
        "    h.set_xticks(())"
      ],
      "execution_count": 17,
      "outputs": [
        {
          "output_type": "display_data",
          "data": {
            "image/png": "[encoded data removed]",
            "text/plain": [
              "<Figure size 576x576 with 25 Axes>"
            ]
          },
          "metadata": {
            "tags": []
          }
        }
      ]
    },
    {
      "cell_type": "code",
      "metadata": {
        "colab_type": "code",
        "id": "A_T8qvxzR-oI",
        "outputId": "465ce097-2297-4a27-9f70-2a4fe3b29b85",
        "colab": {
          "base_uri": "https://localhost:8080/",
          "height": 472
        }
      },
      "source": [
        "# Pipeline is a powerful tool to standardise your operations and chain then in a sequence\n",
        "# One hot encoding is a common pre-processing technique used to work with categorical features with the availability of multiple tools\n",
        "# StringIndexer encodes a string column of labels to a column of label indices\n",
        "\n",
        "from pyspark.ml import Pipeline\n",
        "from pyspark.ml.feature import StringIndexer, OneHotEncoderEstimator, VectorAssembler, OneHotEncoder\n",
        "\n",
        "# convert categorical features to numeric features  using One hot encoding\n",
        "cols = [\"job\", \n",
        "        \"marital\",\n",
        "        \"education\",\n",
        "        \"default\",\n",
        "        \"housing\",\n",
        "        \"loan\",\n",
        "        \"poutcome\",\n",
        "        \"deposit\"]\n",
        "\n",
        "for col in cols:\n",
        "  stringIndexer = StringIndexer(inputCol=col, outputCol=\"{}Index\".format(col))\n",
        "  model = stringIndexer.fit(df3)\n",
        "  indexed = model.transform(df3)\n",
        "\n",
        "  encoder = OneHotEncoder(inputCol=\"{}Index\".format(col), outputCol=\"{}Vec\".format(col))\n",
        "  df3 = encoder.transform(indexed)\n",
        "  \n",
        "df3.show()"
      ],
      "execution_count": 18,
      "outputs": [
        {
          "output_type": "stream",
          "text": [
            "+---+------------+--------+---------+-------+-------+-------+----+--------+-----+--------+--------+-------+--------+--------------+------------+-------------+--------------+-------------+------------+-------------+------------+-------------+---------+-------------+-------------+-------------+------------+-------------+\n",
            "|age|         job| marital|education|default|balance|housing|loan|campaign|pdays|previous|poutcome|deposit|jobIndex|        jobVec|maritalIndex|   maritalVec|educationIndex| educationVec|defaultIndex|   defaultVec|housingIndex|   housingVec|loanIndex|      loanVec|poutcomeIndex|  poutcomeVec|depositIndex|   depositVec|\n",
            "+---+------------+--------+---------+-------+-------+-------+----+--------+-----+--------+--------+-------+--------+--------------+------------+-------------+--------------+-------------+------------+-------------+------------+-------------+---------+-------------+-------------+-------------+------------+-------------+\n",
            "| 33|    services| married|secondary|     no|   3444|    yes|  no|       1|   91|       4| failure|    yes|     5.0|(10,[5],[1.0])|         0.0|(2,[0],[1.0])|           0.0|(2,[0],[1.0])|         0.0|(1,[0],[1.0])|         1.0|    (1,[],[])|      0.0|(1,[0],[1.0])|          0.0|(1,[0],[1.0])|         0.0|(1,[0],[1.0])|\n",
            "| 56|  technician| married|secondary|     no|    589|    yes|  no|       1|  147|       2| success|    yes|     1.0|(10,[1],[1.0])|         0.0|(2,[0],[1.0])|           0.0|(2,[0],[1.0])|         0.0|(1,[0],[1.0])|         1.0|    (1,[],[])|      0.0|(1,[0],[1.0])|          1.0|    (1,[],[])|         0.0|(1,[0],[1.0])|\n",
            "| 34|      admin.| married| tertiary|     no|    899|    yes|  no|       1|  170|       3| failure|    yes|     2.0|(10,[2],[1.0])|         0.0|(2,[0],[1.0])|           1.0|(2,[1],[1.0])|         0.0|(1,[0],[1.0])|         1.0|    (1,[],[])|      0.0|(1,[0],[1.0])|          0.0|(1,[0],[1.0])|         0.0|(1,[0],[1.0])|\n",
            "| 53|     retired| married| tertiary|     no|   2269|     no|  no|       2|  150|       1| success|    yes|     4.0|(10,[4],[1.0])|         0.0|(2,[0],[1.0])|           1.0|(2,[1],[1.0])|         0.0|(1,[0],[1.0])|         0.0|(1,[0],[1.0])|      0.0|(1,[0],[1.0])|          1.0|    (1,[],[])|         0.0|(1,[0],[1.0])|\n",
            "| 37|  technician| married|secondary|     no|   5115|    yes|  no|       2|  171|       4| failure|    yes|     1.0|(10,[1],[1.0])|         0.0|(2,[0],[1.0])|           0.0|(2,[0],[1.0])|         0.0|(1,[0],[1.0])|         1.0|    (1,[],[])|      0.0|(1,[0],[1.0])|          0.0|(1,[0],[1.0])|         0.0|(1,[0],[1.0])|\n",
            "| 45|entrepreneur| married|secondary|     no|    781|     no| yes|       2|  126|       2| failure|    yes|     9.0|(10,[9],[1.0])|         0.0|(2,[0],[1.0])|           0.0|(2,[0],[1.0])|         0.0|(1,[0],[1.0])|         0.0|(1,[0],[1.0])|      1.0|    (1,[],[])|          0.0|(1,[0],[1.0])|         0.0|(1,[0],[1.0])|\n",
            "| 46|  unemployed|divorced|secondary|     no|   3354|    yes|  no|       1|  174|       1| success|    yes|     7.0|(10,[7],[1.0])|         2.0|    (2,[],[])|           0.0|(2,[0],[1.0])|         0.0|(1,[0],[1.0])|         1.0|    (1,[],[])|      0.0|(1,[0],[1.0])|          1.0|    (1,[],[])|         0.0|(1,[0],[1.0])|\n",
            "| 40|  management| married| tertiary|     no|   3352|    yes|  no|       2|   27|       1| success|    yes|     0.0|(10,[0],[1.0])|         0.0|(2,[0],[1.0])|           1.0|(2,[1],[1.0])|         0.0|(1,[0],[1.0])|         1.0|    (1,[],[])|      0.0|(1,[0],[1.0])|          1.0|    (1,[],[])|         0.0|(1,[0],[1.0])|\n",
            "| 32|  technician| married| tertiary|     no|   4654|    yes| yes|       1|  128|       2| failure|    yes|     1.0|(10,[1],[1.0])|         0.0|(2,[0],[1.0])|           1.0|(2,[1],[1.0])|         0.0|(1,[0],[1.0])|         1.0|    (1,[],[])|      1.0|    (1,[],[])|          0.0|(1,[0],[1.0])|         0.0|(1,[0],[1.0])|\n",
            "| 30| blue-collar| married|secondary|     no|    501|    yes| yes|       1|  177|       1| failure|    yes|     3.0|(10,[3],[1.0])|         0.0|(2,[0],[1.0])|           0.0|(2,[0],[1.0])|         0.0|(1,[0],[1.0])|         1.0|    (1,[],[])|      1.0|    (1,[],[])|          0.0|(1,[0],[1.0])|         0.0|(1,[0],[1.0])|\n",
            "| 46|  technician| married| tertiary|     no|      0|     no|  no|       1|  167|       1| failure|    yes|     1.0|(10,[1],[1.0])|         0.0|(2,[0],[1.0])|           1.0|(2,[1],[1.0])|         0.0|(1,[0],[1.0])|         0.0|(1,[0],[1.0])|      0.0|(1,[0],[1.0])|          0.0|(1,[0],[1.0])|         0.0|(1,[0],[1.0])|\n",
            "| 38|entrepreneur| married| tertiary|     no|   1110|    yes|  no|       2|  183|       2| failure|    yes|     9.0|(10,[9],[1.0])|         0.0|(2,[0],[1.0])|           1.0|(2,[1],[1.0])|         0.0|(1,[0],[1.0])|         1.0|    (1,[],[])|      0.0|(1,[0],[1.0])|          0.0|(1,[0],[1.0])|         0.0|(1,[0],[1.0])|\n",
            "| 32|    services| married|secondary|     no|    983|    yes|  no|       2|  133|       1| failure|    yes|     5.0|(10,[5],[1.0])|         0.0|(2,[0],[1.0])|           0.0|(2,[0],[1.0])|         0.0|(1,[0],[1.0])|         1.0|    (1,[],[])|      0.0|(1,[0],[1.0])|          0.0|(1,[0],[1.0])|         0.0|(1,[0],[1.0])|\n",
            "| 31|  unemployed| married|secondary|     no|    314|    yes|  no|       3|  178|       7| failure|    yes|     7.0|(10,[7],[1.0])|         0.0|(2,[0],[1.0])|           0.0|(2,[0],[1.0])|         0.0|(1,[0],[1.0])|         1.0|    (1,[],[])|      0.0|(1,[0],[1.0])|          0.0|(1,[0],[1.0])|         0.0|(1,[0],[1.0])|\n",
            "| 50| blue-collar| married|  primary|     no|  12519|    yes|  no|       3|   34|       1| failure|    yes|     3.0|(10,[3],[1.0])|         0.0|(2,[0],[1.0])|           2.0|    (2,[],[])|         0.0|(1,[0],[1.0])|         1.0|    (1,[],[])|      0.0|(1,[0],[1.0])|          0.0|(1,[0],[1.0])|         0.0|(1,[0],[1.0])|\n",
            "| 47|  technician| married|secondary|     no|      0|     no|  no|       1|   10|       1| failure|    yes|     1.0|(10,[1],[1.0])|         0.0|(2,[0],[1.0])|           0.0|(2,[0],[1.0])|         0.0|(1,[0],[1.0])|         0.0|(1,[0],[1.0])|      0.0|(1,[0],[1.0])|          0.0|(1,[0],[1.0])|         0.0|(1,[0],[1.0])|\n",
            "| 59|  management| married| tertiary|     no|   7049|     no|  no|       1|  163|       2| failure|    yes|     0.0|(10,[0],[1.0])|         0.0|(2,[0],[1.0])|           1.0|(2,[1],[1.0])|         0.0|(1,[0],[1.0])|         0.0|(1,[0],[1.0])|      0.0|(1,[0],[1.0])|          0.0|(1,[0],[1.0])|         0.0|(1,[0],[1.0])|\n",
            "| 31|  management| married|secondary|     no|   8629|    yes|  no|       1|  184|       2| failure|    yes|     0.0|(10,[0],[1.0])|         0.0|(2,[0],[1.0])|           0.0|(2,[0],[1.0])|         0.0|(1,[0],[1.0])|         1.0|    (1,[],[])|      0.0|(1,[0],[1.0])|          0.0|(1,[0],[1.0])|         0.0|(1,[0],[1.0])|\n",
            "| 53| blue-collar| married|secondary|     no|   1777|    yes|  no|       5|  154|       1| failure|    yes|     3.0|(10,[3],[1.0])|         0.0|(2,[0],[1.0])|           0.0|(2,[0],[1.0])|         0.0|(1,[0],[1.0])|         1.0|    (1,[],[])|      0.0|(1,[0],[1.0])|          0.0|(1,[0],[1.0])|         0.0|(1,[0],[1.0])|\n",
            "| 40|  technician|  single| tertiary|     no|   1646|    yes|  no|       1|  242|       2| failure|    yes|     1.0|(10,[1],[1.0])|         1.0|(2,[1],[1.0])|           1.0|(2,[1],[1.0])|         0.0|(1,[0],[1.0])|         1.0|    (1,[],[])|      0.0|(1,[0],[1.0])|          0.0|(1,[0],[1.0])|         0.0|(1,[0],[1.0])|\n",
            "+---+------------+--------+---------+-------+-------+-------+----+--------+-----+--------+--------+-------+--------+--------------+------------+-------------+--------------+-------------+------------+-------------+------------+-------------+---------+-------------+-------------+-------------+------------+-------------+\n",
            "only showing top 20 rows\n",
            "\n"
          ],
          "name": "stdout"
        }
      ]
    },
    {
      "cell_type": "markdown",
      "metadata": {
        "colab_type": "text",
        "id": "pOqHERYJCQuC"
      },
      "source": [
        "### 3.1 normalisation"
      ]
    },
    {
      "cell_type": "code",
      "metadata": {
        "id": "5p-VF7zqJNr5",
        "colab_type": "code",
        "outputId": "09ec74c7-a3e5-49ca-81fc-a524055fb18d",
        "colab": {
          "base_uri": "https://localhost:8080/",
          "height": 472
        }
      },
      "source": [
        "# VectorAssembler is a transformer that combines a given list of columns into a single vector column\n",
        "\n",
        "numeric_variables = [\n",
        "    'age',\n",
        "    'balance',\n",
        "    'campaign',\n",
        "    'pdays',\n",
        "    'previous'\n",
        "]\n",
        "\n",
        "\n",
        "vecAssembler = VectorAssembler(inputCols=numeric_variables, outputCol=\"nums\")\n",
        "df3 = vecAssembler.transform(df3)\n",
        "df3.show()"
      ],
      "execution_count": 19,
      "outputs": [
        {
          "output_type": "stream",
          "text": [
            "+---+------------+--------+---------+-------+-------+-------+----+--------+-----+--------+--------+-------+--------+--------------+------------+-------------+--------------+-------------+------------+-------------+------------+-------------+---------+-------------+-------------+-------------+------------+-------------+--------------------+\n",
            "|age|         job| marital|education|default|balance|housing|loan|campaign|pdays|previous|poutcome|deposit|jobIndex|        jobVec|maritalIndex|   maritalVec|educationIndex| educationVec|defaultIndex|   defaultVec|housingIndex|   housingVec|loanIndex|      loanVec|poutcomeIndex|  poutcomeVec|depositIndex|   depositVec|                nums|\n",
            "+---+------------+--------+---------+-------+-------+-------+----+--------+-----+--------+--------+-------+--------+--------------+------------+-------------+--------------+-------------+------------+-------------+------------+-------------+---------+-------------+-------------+-------------+------------+-------------+--------------------+\n",
            "| 33|    services| married|secondary|     no|   3444|    yes|  no|       1|   91|       4| failure|    yes|     5.0|(10,[5],[1.0])|         0.0|(2,[0],[1.0])|           0.0|(2,[0],[1.0])|         0.0|(1,[0],[1.0])|         1.0|    (1,[],[])|      0.0|(1,[0],[1.0])|          0.0|(1,[0],[1.0])|         0.0|(1,[0],[1.0])|[33.0,3444.0,1.0,...|\n",
            "| 56|  technician| married|secondary|     no|    589|    yes|  no|       1|  147|       2| success|    yes|     1.0|(10,[1],[1.0])|         0.0|(2,[0],[1.0])|           0.0|(2,[0],[1.0])|         0.0|(1,[0],[1.0])|         1.0|    (1,[],[])|      0.0|(1,[0],[1.0])|          1.0|    (1,[],[])|         0.0|(1,[0],[1.0])|[56.0,589.0,1.0,1...|\n",
            "| 34|      admin.| married| tertiary|     no|    899|    yes|  no|       1|  170|       3| failure|    yes|     2.0|(10,[2],[1.0])|         0.0|(2,[0],[1.0])|           1.0|(2,[1],[1.0])|         0.0|(1,[0],[1.0])|         1.0|    (1,[],[])|      0.0|(1,[0],[1.0])|          0.0|(1,[0],[1.0])|         0.0|(1,[0],[1.0])|[34.0,899.0,1.0,1...|\n",
            "| 53|     retired| married| tertiary|     no|   2269|     no|  no|       2|  150|       1| success|    yes|     4.0|(10,[4],[1.0])|         0.0|(2,[0],[1.0])|           1.0|(2,[1],[1.0])|         0.0|(1,[0],[1.0])|         0.0|(1,[0],[1.0])|      0.0|(1,[0],[1.0])|          1.0|    (1,[],[])|         0.0|(1,[0],[1.0])|[53.0,2269.0,2.0,...|\n",
            "| 37|  technician| married|secondary|     no|   5115|    yes|  no|       2|  171|       4| failure|    yes|     1.0|(10,[1],[1.0])|         0.0|(2,[0],[1.0])|           0.0|(2,[0],[1.0])|         0.0|(1,[0],[1.0])|         1.0|    (1,[],[])|      0.0|(1,[0],[1.0])|          0.0|(1,[0],[1.0])|         0.0|(1,[0],[1.0])|[37.0,5115.0,2.0,...|\n",
            "| 45|entrepreneur| married|secondary|     no|    781|     no| yes|       2|  126|       2| failure|    yes|     9.0|(10,[9],[1.0])|         0.0|(2,[0],[1.0])|           0.0|(2,[0],[1.0])|         0.0|(1,[0],[1.0])|         0.0|(1,[0],[1.0])|      1.0|    (1,[],[])|          0.0|(1,[0],[1.0])|         0.0|(1,[0],[1.0])|[45.0,781.0,2.0,1...|\n",
            "| 46|  unemployed|divorced|secondary|     no|   3354|    yes|  no|       1|  174|       1| success|    yes|     7.0|(10,[7],[1.0])|         2.0|    (2,[],[])|           0.0|(2,[0],[1.0])|         0.0|(1,[0],[1.0])|         1.0|    (1,[],[])|      0.0|(1,[0],[1.0])|          1.0|    (1,[],[])|         0.0|(1,[0],[1.0])|[46.0,3354.0,1.0,...|\n",
            "| 40|  management| married| tertiary|     no|   3352|    yes|  no|       2|   27|       1| success|    yes|     0.0|(10,[0],[1.0])|         0.0|(2,[0],[1.0])|           1.0|(2,[1],[1.0])|         0.0|(1,[0],[1.0])|         1.0|    (1,[],[])|      0.0|(1,[0],[1.0])|          1.0|    (1,[],[])|         0.0|(1,[0],[1.0])|[40.0,3352.0,2.0,...|\n",
            "| 32|  technician| married| tertiary|     no|   4654|    yes| yes|       1|  128|       2| failure|    yes|     1.0|(10,[1],[1.0])|         0.0|(2,[0],[1.0])|           1.0|(2,[1],[1.0])|         0.0|(1,[0],[1.0])|         1.0|    (1,[],[])|      1.0|    (1,[],[])|          0.0|(1,[0],[1.0])|         0.0|(1,[0],[1.0])|[32.0,4654.0,1.0,...|\n",
            "| 30| blue-collar| married|secondary|     no|    501|    yes| yes|       1|  177|       1| failure|    yes|     3.0|(10,[3],[1.0])|         0.0|(2,[0],[1.0])|           0.0|(2,[0],[1.0])|         0.0|(1,[0],[1.0])|         1.0|    (1,[],[])|      1.0|    (1,[],[])|          0.0|(1,[0],[1.0])|         0.0|(1,[0],[1.0])|[30.0,501.0,1.0,1...|\n",
            "| 46|  technician| married| tertiary|     no|      0|     no|  no|       1|  167|       1| failure|    yes|     1.0|(10,[1],[1.0])|         0.0|(2,[0],[1.0])|           1.0|(2,[1],[1.0])|         0.0|(1,[0],[1.0])|         0.0|(1,[0],[1.0])|      0.0|(1,[0],[1.0])|          0.0|(1,[0],[1.0])|         0.0|(1,[0],[1.0])|[46.0,0.0,1.0,167...|\n",
            "| 38|entrepreneur| married| tertiary|     no|   1110|    yes|  no|       2|  183|       2| failure|    yes|     9.0|(10,[9],[1.0])|         0.0|(2,[0],[1.0])|           1.0|(2,[1],[1.0])|         0.0|(1,[0],[1.0])|         1.0|    (1,[],[])|      0.0|(1,[0],[1.0])|          0.0|(1,[0],[1.0])|         0.0|(1,[0],[1.0])|[38.0,1110.0,2.0,...|\n",
            "| 32|    services| married|secondary|     no|    983|    yes|  no|       2|  133|       1| failure|    yes|     5.0|(10,[5],[1.0])|         0.0|(2,[0],[1.0])|           0.0|(2,[0],[1.0])|         0.0|(1,[0],[1.0])|         1.0|    (1,[],[])|      0.0|(1,[0],[1.0])|          0.0|(1,[0],[1.0])|         0.0|(1,[0],[1.0])|[32.0,983.0,2.0,1...|\n",
            "| 31|  unemployed| married|secondary|     no|    314|    yes|  no|       3|  178|       7| failure|    yes|     7.0|(10,[7],[1.0])|         0.0|(2,[0],[1.0])|           0.0|(2,[0],[1.0])|         0.0|(1,[0],[1.0])|         1.0|    (1,[],[])|      0.0|(1,[0],[1.0])|          0.0|(1,[0],[1.0])|         0.0|(1,[0],[1.0])|[31.0,314.0,3.0,1...|\n",
            "| 50| blue-collar| married|  primary|     no|  12519|    yes|  no|       3|   34|       1| failure|    yes|     3.0|(10,[3],[1.0])|         0.0|(2,[0],[1.0])|           2.0|    (2,[],[])|         0.0|(1,[0],[1.0])|         1.0|    (1,[],[])|      0.0|(1,[0],[1.0])|          0.0|(1,[0],[1.0])|         0.0|(1,[0],[1.0])|[50.0,12519.0,3.0...|\n",
            "| 47|  technician| married|secondary|     no|      0|     no|  no|       1|   10|       1| failure|    yes|     1.0|(10,[1],[1.0])|         0.0|(2,[0],[1.0])|           0.0|(2,[0],[1.0])|         0.0|(1,[0],[1.0])|         0.0|(1,[0],[1.0])|      0.0|(1,[0],[1.0])|          0.0|(1,[0],[1.0])|         0.0|(1,[0],[1.0])|[47.0,0.0,1.0,10....|\n",
            "| 59|  management| married| tertiary|     no|   7049|     no|  no|       1|  163|       2| failure|    yes|     0.0|(10,[0],[1.0])|         0.0|(2,[0],[1.0])|           1.0|(2,[1],[1.0])|         0.0|(1,[0],[1.0])|         0.0|(1,[0],[1.0])|      0.0|(1,[0],[1.0])|          0.0|(1,[0],[1.0])|         0.0|(1,[0],[1.0])|[59.0,7049.0,1.0,...|\n",
            "| 31|  management| married|secondary|     no|   8629|    yes|  no|       1|  184|       2| failure|    yes|     0.0|(10,[0],[1.0])|         0.0|(2,[0],[1.0])|           0.0|(2,[0],[1.0])|         0.0|(1,[0],[1.0])|         1.0|    (1,[],[])|      0.0|(1,[0],[1.0])|          0.0|(1,[0],[1.0])|         0.0|(1,[0],[1.0])|[31.0,8629.0,1.0,...|\n",
            "| 53| blue-collar| married|secondary|     no|   1777|    yes|  no|       5|  154|       1| failure|    yes|     3.0|(10,[3],[1.0])|         0.0|(2,[0],[1.0])|           0.0|(2,[0],[1.0])|         0.0|(1,[0],[1.0])|         1.0|    (1,[],[])|      0.0|(1,[0],[1.0])|          0.0|(1,[0],[1.0])|         0.0|(1,[0],[1.0])|[53.0,1777.0,5.0,...|\n",
            "| 40|  technician|  single| tertiary|     no|   1646|    yes|  no|       1|  242|       2| failure|    yes|     1.0|(10,[1],[1.0])|         1.0|(2,[1],[1.0])|           1.0|(2,[1],[1.0])|         0.0|(1,[0],[1.0])|         1.0|    (1,[],[])|      0.0|(1,[0],[1.0])|          0.0|(1,[0],[1.0])|         0.0|(1,[0],[1.0])|[40.0,1646.0,1.0,...|\n",
            "+---+------------+--------+---------+-------+-------+-------+----+--------+-----+--------+--------+-------+--------+--------------+------------+-------------+--------------+-------------+------------+-------------+------------+-------------+---------+-------------+-------------+-------------+------------+-------------+--------------------+\n",
            "only showing top 20 rows\n",
            "\n"
          ],
          "name": "stdout"
        }
      ]
    },
    {
      "cell_type": "code",
      "metadata": {
        "colab_type": "code",
        "id": "cfL6_sca5VwI",
        "outputId": "2b8326fa-410e-45f4-bcda-2e4acc938130",
        "colab": {
          "base_uri": "https://localhost:8080/",
          "height": 472
        }
      },
      "source": [
        "# MinMaxScaler transforms a dataset of Vector rows, rescaling each feature to a specific range (often [0, 1])  \n",
        "\n",
        "from pyspark.ml.feature import MinMaxScaler\n",
        "  \n",
        "scaler = MinMaxScaler(inputCol=\"nums\", outputCol=\"scaledNums\")\n",
        "\n",
        "# Compute summary statistics and generate MinMaxScalerModel\n",
        "scalerModel = scaler.fit(df3)\n",
        "\n",
        "# rescale each feature to range [min, max].\n",
        "df3= scalerModel.transform(df3)\n",
        "\n",
        "df3.show()"
      ],
      "execution_count": 20,
      "outputs": [
        {
          "output_type": "stream",
          "text": [
            "+---+------------+--------+---------+-------+-------+-------+----+--------+-----+--------+--------+-------+--------+--------------+------------+-------------+--------------+-------------+------------+-------------+------------+-------------+---------+-------------+-------------+-------------+------------+-------------+--------------------+--------------------+\n",
            "|age|         job| marital|education|default|balance|housing|loan|campaign|pdays|previous|poutcome|deposit|jobIndex|        jobVec|maritalIndex|   maritalVec|educationIndex| educationVec|defaultIndex|   defaultVec|housingIndex|   housingVec|loanIndex|      loanVec|poutcomeIndex|  poutcomeVec|depositIndex|   depositVec|                nums|          scaledNums|\n",
            "+---+------------+--------+---------+-------+-------+-------+----+--------+-----+--------+--------+-------+--------+--------------+------------+-------------+--------------+-------------+------------+-------------+------------+-------------+---------+-------------+-------------+-------------+------------+-------------+--------------------+--------------------+\n",
            "| 33|    services| married|secondary|     no|   3444|    yes|  no|       1|   91|       4| failure|    yes|     5.0|(10,[5],[1.0])|         0.0|(2,[0],[1.0])|           0.0|(2,[0],[1.0])|         0.0|(1,[0],[1.0])|         1.0|    (1,[],[])|      0.0|(1,[0],[1.0])|          0.0|(1,[0],[1.0])|         0.0|(1,[0],[1.0])|[33.0,3444.0,1.0,...|[0.21428571428571...|\n",
            "| 56|  technician| married|secondary|     no|    589|    yes|  no|       1|  147|       2| success|    yes|     1.0|(10,[1],[1.0])|         0.0|(2,[0],[1.0])|           0.0|(2,[0],[1.0])|         0.0|(1,[0],[1.0])|         1.0|    (1,[],[])|      0.0|(1,[0],[1.0])|          1.0|    (1,[],[])|         0.0|(1,[0],[1.0])|[56.0,589.0,1.0,1...|[0.54285714285714...|\n",
            "| 34|      admin.| married| tertiary|     no|    899|    yes|  no|       1|  170|       3| failure|    yes|     2.0|(10,[2],[1.0])|         0.0|(2,[0],[1.0])|           1.0|(2,[1],[1.0])|         0.0|(1,[0],[1.0])|         1.0|    (1,[],[])|      0.0|(1,[0],[1.0])|          0.0|(1,[0],[1.0])|         0.0|(1,[0],[1.0])|[34.0,899.0,1.0,1...|[0.22857142857142...|\n",
            "| 53|     retired| married| tertiary|     no|   2269|     no|  no|       2|  150|       1| success|    yes|     4.0|(10,[4],[1.0])|         0.0|(2,[0],[1.0])|           1.0|(2,[1],[1.0])|         0.0|(1,[0],[1.0])|         0.0|(1,[0],[1.0])|      0.0|(1,[0],[1.0])|          1.0|    (1,[],[])|         0.0|(1,[0],[1.0])|[53.0,2269.0,2.0,...|[0.5,0.0390421465...|\n",
            "| 37|  technician| married|secondary|     no|   5115|    yes|  no|       2|  171|       4| failure|    yes|     1.0|(10,[1],[1.0])|         0.0|(2,[0],[1.0])|           0.0|(2,[0],[1.0])|         0.0|(1,[0],[1.0])|         1.0|    (1,[],[])|      0.0|(1,[0],[1.0])|          0.0|(1,[0],[1.0])|         0.0|(1,[0],[1.0])|[37.0,5115.0,2.0,...|[0.27142857142857...|\n",
            "| 45|entrepreneur| married|secondary|     no|    781|     no| yes|       2|  126|       2| failure|    yes|     9.0|(10,[9],[1.0])|         0.0|(2,[0],[1.0])|           0.0|(2,[0],[1.0])|         0.0|(1,[0],[1.0])|         0.0|(1,[0],[1.0])|      1.0|    (1,[],[])|          0.0|(1,[0],[1.0])|         0.0|(1,[0],[1.0])|[45.0,781.0,2.0,1...|[0.38571428571428...|\n",
            "| 46|  unemployed|divorced|secondary|     no|   3354|    yes|  no|       1|  174|       1| success|    yes|     7.0|(10,[7],[1.0])|         2.0|    (2,[],[])|           0.0|(2,[0],[1.0])|         0.0|(1,[0],[1.0])|         1.0|    (1,[],[])|      0.0|(1,[0],[1.0])|          1.0|    (1,[],[])|         0.0|(1,[0],[1.0])|[46.0,3354.0,1.0,...|[0.4,0.0522509800...|\n",
            "| 40|  management| married| tertiary|     no|   3352|    yes|  no|       2|   27|       1| success|    yes|     0.0|(10,[0],[1.0])|         0.0|(2,[0],[1.0])|           1.0|(2,[1],[1.0])|         0.0|(1,[0],[1.0])|         1.0|    (1,[],[])|      0.0|(1,[0],[1.0])|          1.0|    (1,[],[])|         0.0|(1,[0],[1.0])|[40.0,3352.0,2.0,...|[0.31428571428571...|\n",
            "| 32|  technician| married| tertiary|     no|   4654|    yes| yes|       1|  128|       2| failure|    yes|     1.0|(10,[1],[1.0])|         0.0|(2,[0],[1.0])|           1.0|(2,[1],[1.0])|         0.0|(1,[0],[1.0])|         1.0|    (1,[],[])|      1.0|    (1,[],[])|          0.0|(1,[0],[1.0])|         0.0|(1,[0],[1.0])|[32.0,4654.0,1.0,...|[0.2,0.0680772321...|\n",
            "| 30| blue-collar| married|secondary|     no|    501|    yes| yes|       1|  177|       1| failure|    yes|     3.0|(10,[3],[1.0])|         0.0|(2,[0],[1.0])|           0.0|(2,[0],[1.0])|         0.0|(1,[0],[1.0])|         1.0|    (1,[],[])|      1.0|    (1,[],[])|          0.0|(1,[0],[1.0])|         0.0|(1,[0],[1.0])|[30.0,501.0,1.0,1...|[0.17142857142857...|\n",
            "| 46|  technician| married| tertiary|     no|      0|     no|  no|       1|  167|       1| failure|    yes|     1.0|(10,[1],[1.0])|         0.0|(2,[0],[1.0])|           1.0|(2,[1],[1.0])|         0.0|(1,[0],[1.0])|         0.0|(1,[0],[1.0])|      0.0|(1,[0],[1.0])|          0.0|(1,[0],[1.0])|         0.0|(1,[0],[1.0])|[46.0,0.0,1.0,167...|[0.4,0.0114192495...|\n",
            "| 38|entrepreneur| married| tertiary|     no|   1110|    yes|  no|       2|  183|       2| failure|    yes|     9.0|(10,[9],[1.0])|         0.0|(2,[0],[1.0])|           1.0|(2,[1],[1.0])|         0.0|(1,[0],[1.0])|         1.0|    (1,[],[])|      0.0|(1,[0],[1.0])|          0.0|(1,[0],[1.0])|         0.0|(1,[0],[1.0])|[38.0,1110.0,2.0,...|[0.28571428571428...|\n",
            "| 32|    services| married|secondary|     no|    983|    yes|  no|       2|  133|       1| failure|    yes|     5.0|(10,[5],[1.0])|         0.0|(2,[0],[1.0])|           0.0|(2,[0],[1.0])|         0.0|(1,[0],[1.0])|         1.0|    (1,[],[])|      0.0|(1,[0],[1.0])|          0.0|(1,[0],[1.0])|         0.0|(1,[0],[1.0])|[32.0,983.0,2.0,1...|[0.2,0.0233863309...|\n",
            "| 31|  unemployed| married|secondary|     no|    314|    yes|  no|       3|  178|       7| failure|    yes|     7.0|(10,[7],[1.0])|         0.0|(2,[0],[1.0])|           0.0|(2,[0],[1.0])|         0.0|(1,[0],[1.0])|         1.0|    (1,[],[])|      0.0|(1,[0],[1.0])|          0.0|(1,[0],[1.0])|         0.0|(1,[0],[1.0])|[31.0,314.0,3.0,1...|[0.18571428571428...|\n",
            "| 50| blue-collar| married|  primary|     no|  12519|    yes|  no|       3|   34|       1| failure|    yes|     3.0|(10,[3],[1.0])|         0.0|(2,[0],[1.0])|           2.0|    (2,[],[])|         0.0|(1,[0],[1.0])|         1.0|    (1,[],[])|      0.0|(1,[0],[1.0])|          0.0|(1,[0],[1.0])|         0.0|(1,[0],[1.0])|[50.0,12519.0,3.0...|[0.45714285714285...|\n",
            "| 47|  technician| married|secondary|     no|      0|     no|  no|       1|   10|       1| failure|    yes|     1.0|(10,[1],[1.0])|         0.0|(2,[0],[1.0])|           0.0|(2,[0],[1.0])|         0.0|(1,[0],[1.0])|         0.0|(1,[0],[1.0])|      0.0|(1,[0],[1.0])|          0.0|(1,[0],[1.0])|         0.0|(1,[0],[1.0])|[47.0,0.0,1.0,10....|[0.41428571428571...|\n",
            "| 59|  management| married| tertiary|     no|   7049|     no|  no|       1|  163|       2| failure|    yes|     0.0|(10,[0],[1.0])|         0.0|(2,[0],[1.0])|           1.0|(2,[1],[1.0])|         0.0|(1,[0],[1.0])|         0.0|(1,[0],[1.0])|      0.0|(1,[0],[1.0])|          0.0|(1,[0],[1.0])|         0.0|(1,[0],[1.0])|[59.0,7049.0,1.0,...|[0.58571428571428...|\n",
            "| 31|  management| married|secondary|     no|   8629|    yes|  no|       1|  184|       2| failure|    yes|     0.0|(10,[0],[1.0])|         0.0|(2,[0],[1.0])|           0.0|(2,[0],[1.0])|         0.0|(1,[0],[1.0])|         1.0|    (1,[],[])|      0.0|(1,[0],[1.0])|          0.0|(1,[0],[1.0])|         0.0|(1,[0],[1.0])|[31.0,8629.0,1.0,...|[0.18571428571428...|\n",
            "| 53| blue-collar| married|secondary|     no|   1777|    yes|  no|       5|  154|       1| failure|    yes|     3.0|(10,[3],[1.0])|         0.0|(2,[0],[1.0])|           0.0|(2,[0],[1.0])|         0.0|(1,[0],[1.0])|         1.0|    (1,[],[])|      0.0|(1,[0],[1.0])|          0.0|(1,[0],[1.0])|         0.0|(1,[0],[1.0])|[53.0,1777.0,5.0,...|[0.5,0.0330525188...|\n",
            "| 40|  technician|  single| tertiary|     no|   1646|    yes|  no|       1|  242|       2| failure|    yes|     1.0|(10,[1],[1.0])|         1.0|(2,[1],[1.0])|           1.0|(2,[1],[1.0])|         0.0|(1,[0],[1.0])|         1.0|    (1,[],[])|      0.0|(1,[0],[1.0])|          0.0|(1,[0],[1.0])|         0.0|(1,[0],[1.0])|[40.0,1646.0,1.0,...|[0.31428571428571...|\n",
            "+---+------------+--------+---------+-------+-------+-------+----+--------+-----+--------+--------+-------+--------+--------------+------------+-------------+--------------+-------------+------------+-------------+------------+-------------+---------+-------------+-------------+-------------+------------+-------------+--------------------+--------------------+\n",
            "only showing top 20 rows\n",
            "\n"
          ],
          "name": "stdout"
        }
      ]
    },
    {
      "cell_type": "markdown",
      "metadata": {
        "colab_type": "text",
        "id": "9trUY7ZgCzhW"
      },
      "source": [
        "## 4. Unsupervised learning"
      ]
    },
    {
      "cell_type": "markdown",
      "metadata": {
        "colab_type": "text",
        "id": "KTQfUch2Cmmi"
      },
      "source": [
        "### 4.1 K-means"
      ]
    },
    {
      "cell_type": "code",
      "metadata": {
        "id": "sGVqbIXnK1xz",
        "colab_type": "code",
        "outputId": "744862c0-8b6a-40ad-c679-247982411c4a",
        "colab": {
          "base_uri": "https://localhost:8080/",
          "height": 452
        }
      },
      "source": [
        "#selectExpr is a variant of select that selects columns in a DataFrame while projecting SQL expressions\n",
        "\n",
        "df4 = df3.selectExpr('scaledNums as features')\n",
        "df4.show() "
      ],
      "execution_count": 21,
      "outputs": [
        {
          "output_type": "stream",
          "text": [
            "+--------------------+\n",
            "|            features|\n",
            "+--------------------+\n",
            "|[0.21428571428571...|\n",
            "|[0.54285714285714...|\n",
            "|[0.22857142857142...|\n",
            "|[0.5,0.0390421465...|\n",
            "|[0.27142857142857...|\n",
            "|[0.38571428571428...|\n",
            "|[0.4,0.0522509800...|\n",
            "|[0.31428571428571...|\n",
            "|[0.2,0.0680772321...|\n",
            "|[0.17142857142857...|\n",
            "|[0.4,0.0114192495...|\n",
            "|[0.28571428571428...|\n",
            "|[0.2,0.0233863309...|\n",
            "|[0.18571428571428...|\n",
            "|[0.45714285714285...|\n",
            "|[0.41428571428571...|\n",
            "|[0.58571428571428...|\n",
            "|[0.18571428571428...|\n",
            "|[0.5,0.0330525188...|\n",
            "|[0.31428571428571...|\n",
            "+--------------------+\n",
            "only showing top 20 rows\n",
            "\n"
          ],
          "name": "stdout"
        }
      ]
    },
    {
      "cell_type": "code",
      "metadata": {
        "colab_type": "code",
        "id": "dGGZI70Ohqgg",
        "outputId": "dcaae339-9616-46bc-af5b-97e44b0318cf",
        "colab": {
          "base_uri": "https://localhost:8080/",
          "height": 84
        }
      },
      "source": [
        "# Perform unsupervised learning on df2 with k-means \n",
        "# you can use whole df2 as both training and testing data, \n",
        "# evaluate the clustering result using Accuracy.  \n",
        "\n",
        "from pyspark.ml.clustering import KMeans\n",
        "from pyspark.ml.evaluation import ClusteringEvaluator\n",
        "from pyspark.ml.evaluation import MulticlassClassificationEvaluator\n",
        "from pyspark.ml.evaluation import BinaryClassificationEvaluator\n",
        "\n",
        "\n",
        "# Trains a k-means model.\n",
        "kmeans = KMeans().setK(2).setSeed(1)\n",
        "model = kmeans.fit(df4)\n",
        "\n",
        "# Make predictions\n",
        "predictions = model.transform(df4)\n",
        "\n",
        "# Evaluate clustering by computing Silhouette score\n",
        "evaluator = ClusteringEvaluator()\n",
        "\n",
        "silhouette = evaluator.evaluate(predictions)\n",
        "print(\"Silhouette with squared euclidean distance = \" + str(silhouette))\n",
        "\n",
        "# Shows the result\n",
        "centers = model.clusterCenters()\n",
        "print(\"Cluster Centers: \")\n",
        "for center in centers:\n",
        "    print(center)"
      ],
      "execution_count": 22,
      "outputs": [
        {
          "output_type": "stream",
          "text": [
            "Silhouette with squared euclidean distance = 0.522351247162557\n",
            "Cluster Centers: \n",
            "[0.56902673 0.03672264 0.06884636 0.21411016 0.03958198]\n",
            "[0.236263   0.03077161 0.07730613 0.24694093 0.0383483 ]\n"
          ],
          "name": "stdout"
        }
      ]
    },
    {
      "cell_type": "code",
      "metadata": {
        "id": "AHo3qSj6rYyo",
        "colab_type": "code",
        "outputId": "f9ecb427-0812-406e-d97f-8b58c3fc39c6",
        "colab": {
          "base_uri": "https://localhost:8080/",
          "height": 134
        }
      },
      "source": [
        "pred = predictions.toPandas().prediction\n",
        "#print(pred)\n",
        "predictions.groupby('prediction').count().show()\n",
        "#print(pred)"
      ],
      "execution_count": 23,
      "outputs": [
        {
          "output_type": "stream",
          "text": [
            "+----------+-----+\n",
            "|prediction|count|\n",
            "+----------+-----+\n",
            "|         1| 1497|\n",
            "|         0|  684|\n",
            "+----------+-----+\n",
            "\n"
          ],
          "name": "stdout"
        }
      ]
    },
    {
      "cell_type": "markdown",
      "metadata": {
        "colab_type": "text",
        "id": "FHom8o2KCt36"
      },
      "source": [
        "### 4.2 PCA"
      ]
    },
    {
      "cell_type": "code",
      "metadata": {
        "colab_type": "code",
        "id": "wT4cx5uGTjmj",
        "outputId": "dbb287ce-2c4d-4bff-92f1-d43240fc4975",
        "colab": {
          "base_uri": "https://localhost:8080/",
          "height": 452
        }
      },
      "source": [
        "# PCA is performed comparing the use of data with StandardScaler applied to unscaled data\n",
        " \n",
        "from pyspark.ml.feature import PCA, StandardScaler\n",
        "from pyspark.ml.linalg import Vectors\n",
        "from pyspark.ml.feature import VectorAssembler\n",
        "\n",
        "standardizer = StandardScaler(withMean=True, withStd=True,\n",
        "                              inputCol='features',\n",
        "                              outputCol='std_features')\n",
        "model = standardizer.fit(df4)\n",
        "df4 = model.transform(df4)\n",
        "\n",
        "pca = PCA(k=2, inputCol=\"std_features\", outputCol=\"pcaFeatures\")\n",
        "model = pca.fit(df4)\n",
        "\n",
        "result = model.transform(df4).select(\"pcaFeatures\")\n",
        "result.show(truncate=False)"
      ],
      "execution_count": 24,
      "outputs": [
        {
          "output_type": "stream",
          "text": [
            "+-------------------------------------------+\n",
            "|pcaFeatures                                |\n",
            "+-------------------------------------------+\n",
            "|[-0.03206393364201332,-0.5695096766392835] |\n",
            "|[-0.3772084081851722,-0.9347358547052576]  |\n",
            "|[-0.5681265078927981,0.06065592172107618]  |\n",
            "|[-0.06012113550244991,-0.8308138210612721] |\n",
            "|[0.5034177338153928,-0.3695510233860928]   |\n",
            "|[-0.03334223417066565,-0.2973766989098179] |\n",
            "|[-0.650210915702627,-0.9380769092136181]   |\n",
            "|[0.0032346353284150586,-0.9814294185217675]|\n",
            "|[-0.49916556510989607,-0.7067140999502876] |\n",
            "|[-1.1466791071228188,0.18538762823511157]  |\n",
            "|[-0.8702955344285754,-0.4190228530680751]  |\n",
            "|[-0.24334308230992754,0.16238962917165192] |\n",
            "|[-0.5025014483981541,0.15761255542155217]  |\n",
            "|[1.2378127069841545,1.1894516705658138]    |\n",
            "|[1.303297870733422,-2.5428754159246134]    |\n",
            "|[-0.5634735106204192,-1.0956096736302374]  |\n",
            "|[0.09696133506188287,-2.0453225013577585]  |\n",
            "|[-0.3442984211635313,-1.0882011512412868]  |\n",
            "|[1.378079213004206,0.19542370082098037]    |\n",
            "|[-0.7711816633026631,-0.07661507406610019] |\n",
            "+-------------------------------------------+\n",
            "only showing top 20 rows\n",
            "\n"
          ],
          "name": "stdout"
        }
      ]
    },
    {
      "cell_type": "code",
      "metadata": {
        "id": "DdNm4qPSq6na",
        "colab_type": "code",
        "colab": {}
      },
      "source": [
        "# generate a scatter plot using the first two PCA components to investigate the data distribution\n",
        "\n",
        "# Scatterplot ca only be generated using Pandas \n",
        "# toPandas() -> Converts the dataframe to Panda dataframe\n",
        "result = result.toPandas()"
      ],
      "execution_count": 0,
      "outputs": []
    },
    {
      "cell_type": "code",
      "metadata": {
        "id": "LWXWLdoNnh9B",
        "colab_type": "code",
        "colab": {}
      },
      "source": [
        "X, Y = zip(*result.pcaFeatures)"
      ],
      "execution_count": 0,
      "outputs": []
    },
    {
      "cell_type": "code",
      "metadata": {
        "id": "bdMkVwJJq86t",
        "colab_type": "code",
        "outputId": "348a6446-253a-4efc-e99c-e49cc64ead4e",
        "colab": {
          "base_uri": "https://localhost:8080/",
          "height": 283
        }
      },
      "source": [
        "# matplotlib -> provides a MATLAB-like plotting framework\n",
        "\n",
        "import matplotlib.pyplot as plt\n",
        "plt.scatter(X[0:3340], Y[0:3340], c = pred)\n",
        "plt.xlabel('PCA (1)')\n",
        "plt.ylabel('PCA (2)')\n",
        "plt.show()"
      ],
      "execution_count": 27,
      "outputs": [
        {
          "output_type": "display_data",
          "data": {
            "image/png": "[encoded data removed]",
            "text/plain": [
              "<Figure size 432x288 with 1 Axes>"
            ]
          },
          "metadata": {
            "tags": []
          }
        }
      ]
    },
    {
      "cell_type": "markdown",
      "metadata": {
        "colab_type": "text",
        "id": "ulp_uILXCv4Z"
      },
      "source": [
        "## 5. Supervised learning"
      ]
    },
    {
      "cell_type": "code",
      "metadata": {
        "id": "L7-RorKELakx",
        "colab_type": "code",
        "outputId": "0512eef4-da39-4929-cfa8-b9a004db9943",
        "colab": {
          "base_uri": "https://localhost:8080/",
          "height": 452
        }
      },
      "source": [
        "# selectExpr is a variant of select that selects columns in a DataFrame while projecting SQL expressions\n",
        "\n",
        "\n",
        "df4 = df3.selectExpr('scaledNums as features', 'poutcomeIndex as label')\n",
        "df4.show() "
      ],
      "execution_count": 28,
      "outputs": [
        {
          "output_type": "stream",
          "text": [
            "+--------------------+-----+\n",
            "|            features|label|\n",
            "+--------------------+-----+\n",
            "|[0.21428571428571...|  0.0|\n",
            "|[0.54285714285714...|  1.0|\n",
            "|[0.22857142857142...|  0.0|\n",
            "|[0.5,0.0390421465...|  1.0|\n",
            "|[0.27142857142857...|  0.0|\n",
            "|[0.38571428571428...|  0.0|\n",
            "|[0.4,0.0522509800...|  1.0|\n",
            "|[0.31428571428571...|  1.0|\n",
            "|[0.2,0.0680772321...|  0.0|\n",
            "|[0.17142857142857...|  0.0|\n",
            "|[0.4,0.0114192495...|  0.0|\n",
            "|[0.28571428571428...|  0.0|\n",
            "|[0.2,0.0233863309...|  0.0|\n",
            "|[0.18571428571428...|  0.0|\n",
            "|[0.45714285714285...|  0.0|\n",
            "|[0.41428571428571...|  0.0|\n",
            "|[0.58571428571428...|  0.0|\n",
            "|[0.18571428571428...|  0.0|\n",
            "|[0.5,0.0330525188...|  0.0|\n",
            "|[0.31428571428571...|  0.0|\n",
            "+--------------------+-----+\n",
            "only showing top 20 rows\n",
            "\n"
          ],
          "name": "stdout"
        }
      ]
    },
    {
      "cell_type": "code",
      "metadata": {
        "colab_type": "code",
        "id": "0O7tszcPfnHN",
        "outputId": "f252e4e6-cac9-4ddd-d086-52de462fadf2",
        "colab": {
          "base_uri": "https://localhost:8080/",
          "height": 50
        }
      },
      "source": [
        "train, test = df4.randomSplit([0.7, 0.3], seed = 742)\n",
        "print(\"Training Dataset Count: \" + str(train.count()))\n",
        "print(\"Test Dataset Count: \" + str(test.count()))"
      ],
      "execution_count": 29,
      "outputs": [
        {
          "output_type": "stream",
          "text": [
            "Training Dataset Count: 1535\n",
            "Test Dataset Count: 646\n"
          ],
          "name": "stdout"
        }
      ]
    },
    {
      "cell_type": "markdown",
      "metadata": {
        "colab_type": "text",
        "id": "2SsHdh7YC-eN"
      },
      "source": [
        "### 5.1 LogisticRegression"
      ]
    },
    {
      "cell_type": "code",
      "metadata": {
        "colab_type": "code",
        "id": "Vqo_ywFQYxSj",
        "colab": {}
      },
      "source": [
        "# Logistic Regression is a statistical method for analyzing a dataset in which there are one or more independent variables that determine an outcome\n",
        "\n",
        "from pyspark.ml.classification import LogisticRegression\n",
        "from pyspark.ml.evaluation import MulticlassClassificationEvaluator\n",
        "from pyspark.ml.evaluation import BinaryClassificationEvaluator \n",
        "\n",
        "lr = LogisticRegression(maxIter=10, regParam=0.3, elasticNetParam=0.8)\n",
        "\n",
        "# Fit the model\n",
        "lrModel = lr.fit(train)\n",
        "\n",
        "\n",
        "# We can also use the multinomial family for binary classification\n",
        "mlr = LogisticRegression(maxIter=10,\n",
        "                         regParam=0.3,\n",
        "                         elasticNetParam=0.8, \n",
        "                         family=\"multinomial\")\n",
        "\n",
        "# Fit the model\n",
        "mlrModel = mlr.fit(train)"
      ],
      "execution_count": 0,
      "outputs": []
    },
    {
      "cell_type": "code",
      "metadata": {
        "colab_type": "code",
        "id": "hANwFUzhgG83",
        "outputId": "5afb9c92-a5dd-4dad-a02d-e9c2d67e53aa",
        "colab": {
          "base_uri": "https://localhost:8080/",
          "height": 67
        }
      },
      "source": [
        "# exam the coefficients\n",
        "# Print the coefficients and intercepts for logistic regression with multinomial family\n",
        "\n",
        "print(\"Multinomial coefficients: \" + str(mlrModel.coefficientMatrix))\n",
        "print(\"Multinomial intercepts: \" + str(mlrModel.interceptVector))"
      ],
      "execution_count": 31,
      "outputs": [
        {
          "output_type": "stream",
          "text": [
            "Multinomial coefficients: 2 X 5 CSRMatrix\n",
            "\n",
            "Multinomial intercepts: [0.06589298179841327,-0.06589298179841327]\n"
          ],
          "name": "stdout"
        }
      ]
    },
    {
      "cell_type": "markdown",
      "metadata": {
        "colab_type": "text",
        "id": "evM5eiJoDHw2"
      },
      "source": [
        "### 5.2 Decision tree"
      ]
    },
    {
      "cell_type": "code",
      "metadata": {
        "colab_type": "code",
        "id": "He4mlHb7hBoY",
        "outputId": "47e4dc78-9a06-439c-c4c1-31b0689c77c0",
        "colab": {
          "base_uri": "https://localhost:8080/",
          "height": 217
        }
      },
      "source": [
        "# Decision tree is a decision support tool that uses a tree-like model of decisions and their possible consequences   \n",
        "\n",
        "from pyspark.ml import Pipeline\n",
        "from pyspark.ml.classification import DecisionTreeClassifier\n",
        "from pyspark.ml.feature import StringIndexer, VectorIndexer\n",
        "from pyspark.ml.evaluation import MulticlassClassificationEvaluator\n",
        "\n",
        "# Train a DecisionTree model.\n",
        "dt = DecisionTreeClassifier(labelCol=\"label\", \n",
        "                            featuresCol=\"features\")\n",
        "\n",
        "# Train model.  This also runs the indexers.\n",
        "model = dt.fit(train)\n",
        "\n",
        "# Make predictions.\n",
        "predictions = model.transform(test)\n",
        "\n",
        "# Select example rows to display.\n",
        "predictions.select(\"prediction\", \"label\", \"features\").show(5)\n",
        "\n",
        "# Select (prediction, true label) and compute test error\n",
        "evaluator = MulticlassClassificationEvaluator(\n",
        "    labelCol=\"label\", predictionCol=\"prediction\", metricName=\"accuracy\")\n",
        "accuracy = evaluator.evaluate(predictions)\n",
        "print(\"Test Error = %g \" % (1.0 - accuracy))"
      ],
      "execution_count": 32,
      "outputs": [
        {
          "output_type": "stream",
          "text": [
            "+----------+-----+--------------------+\n",
            "|prediction|label|            features|\n",
            "+----------+-----+--------------------+\n",
            "|       1.0|  1.0|[0.0,0.0188210659...|\n",
            "|       1.0|  0.0|[0.02857142857142...|\n",
            "|       1.0|  1.0|[0.04285714285714...|\n",
            "|       1.0|  1.0|[0.05714285714285...|\n",
            "|       0.0|  1.0|[0.05714285714285...|\n",
            "+----------+-----+--------------------+\n",
            "only showing top 5 rows\n",
            "\n",
            "Test Error = 0.295666 \n"
          ],
          "name": "stdout"
        }
      ]
    },
    {
      "cell_type": "markdown",
      "metadata": {
        "colab_type": "text",
        "id": "CaE-Z_IlDKXF"
      },
      "source": [
        "### 5.3 NaiveBayes"
      ]
    },
    {
      "cell_type": "code",
      "metadata": {
        "id": "VSKBCIAQMuc6",
        "colab_type": "code",
        "outputId": "8b9ec394-29eb-4d53-b9da-e859a754380a",
        "colab": {
          "base_uri": "https://localhost:8080/",
          "height": 468
        }
      },
      "source": [
        "#Naive bayes is a probabilistic machine learning model that is used for classification task\n",
        "\n",
        "from pyspark.ml.classification import NaiveBayes\n",
        "from pyspark.ml.evaluation import MulticlassClassificationEvaluator\n",
        "\n",
        "\n",
        "# create the trainer and set its parameters\n",
        "nb = NaiveBayes(smoothing=1.0, modelType=\"multinomial\")\n",
        "\n",
        "# train the model\n",
        "model = nb.fit(train)\n",
        "\n",
        "# select example rows to display.\n",
        "predictions = model.transform(test)\n",
        "predictions.show()\n",
        "\n",
        "# compute accuracy on the test set\n",
        "evaluator = MulticlassClassificationEvaluator(labelCol=\"label\", predictionCol=\"prediction\",\n",
        "                                              metricName=\"accuracy\")\n",
        "accuracy = evaluator.evaluate(predictions)\n",
        "print(\"Test set accuracy = \" + str(accuracy))"
      ],
      "execution_count": 33,
      "outputs": [
        {
          "output_type": "stream",
          "text": [
            "+--------------------+-----+--------------------+--------------------+----------+\n",
            "|            features|label|       rawPrediction|         probability|prediction|\n",
            "+--------------------+-----+--------------------+--------------------+----------+\n",
            "|[0.0,0.0188210659...|  1.0|[-0.7984706114202...|[0.53925235161110...|       0.0|\n",
            "|[0.02857142857142...|  0.0|[-1.9839317759548...|[0.54462708663348...|       0.0|\n",
            "|[0.04285714285714...|  1.0|[-0.8130847708611...|[0.53762411362300...|       0.0|\n",
            "|[0.05714285714285...|  1.0|[-1.0441231259776...|[0.54397657885897...|       0.0|\n",
            "|[0.05714285714285...|  1.0|[-0.9869717696311...|[0.54384103471045...|       0.0|\n",
            "|[0.05714285714285...|  1.0|[-0.9419611061017...|[0.54497628307335...|       0.0|\n",
            "|[0.05714285714285...|  1.0|[-1.0841874756700...|[0.54375039192719...|       0.0|\n",
            "|[0.05714285714285...|  0.0|[-1.0368171145264...|[0.54471798765961...|       0.0|\n",
            "|[0.05714285714285...|  0.0|[-1.1733917992993...|[0.54089653299452...|       0.0|\n",
            "|[0.07142857142857...|  0.0|[-1.1723118258245...|[0.55959600521538...|       0.0|\n",
            "|[0.07142857142857...|  1.0|[-1.2341299326370...|[0.54086156750435...|       0.0|\n",
            "|[0.08571428571428...|  0.0|[-0.8479117412960...|[0.53565718742543...|       0.0|\n",
            "|[0.08571428571428...|  0.0|[-0.9307812384309...|[0.53467147035160...|       0.0|\n",
            "|[0.1,0.0115409899...|  0.0|[-1.0960826796657...|[0.55223898435662...|       0.0|\n",
            "|[0.1,0.0140853643...|  1.0|[-0.8706407659547...|[0.53545306788071...|       0.0|\n",
            "|[0.1,0.0171288743...|  1.0|[-1.0422269758576...|[0.54241626914986...|       0.0|\n",
            "|[0.1,0.0212558739...|  0.0|[-1.1709678652307...|[0.53837485353869...|       0.0|\n",
            "|[0.1,0.0340264420...|  1.0|[-1.5277019265738...|[0.52848358270533...|       0.0|\n",
            "|[0.1,0.0352438460...|  0.0|[-1.8844047918160...|[0.56524444953875...|       0.0|\n",
            "|[0.11428571428571...|  1.0|[-1.1518929151422...|[0.53755463045271...|       0.0|\n",
            "+--------------------+-----+--------------------+--------------------+----------+\n",
            "only showing top 20 rows\n",
            "\n",
            "Test set accuracy = 0.5526315789473685\n"
          ],
          "name": "stdout"
        }
      ]
    }
  ]
}