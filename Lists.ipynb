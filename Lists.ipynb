{
  "nbformat": 4,
  "nbformat_minor": 0,
  "metadata": {
    "colab": {
      "name": "Hello.ipynb",
      "version": "0.3.2",
      "provenance": [],
      "include_colab_link": true
    },
    "kernelspec": {
      "name": "python3",
      "display_name": "Python 3"
    }
  },
  "cells": [
    {
      "cell_type": "markdown",
      "metadata": {
        "id": "view-in-github",
        "colab_type": "text"
      },
      "source": [
        "<a href=\"https://colab.research.google.com/github/resh1604/SIT742/blob/master/Lists.ipynb\" target=\"_parent\"><img src=\"https://colab.research.google.com/assets/colab-badge.svg\" alt=\"Open In Colab\"/></a>"
      ]
    },
    {
      "metadata": {
        "id": "1OwhDZBxBTk9",
        "colab_type": "code",
        "colab": {
          "base_uri": "https://localhost:8080/",
          "height": 34
        },
        "outputId": "91eddafe-07d4-49aa-b747-1958792d9556"
      },
      "cell_type": "code",
      "source": [
        "text = \"GOOD MORNING\"\n",
        "print(text) "
      ],
      "execution_count": 4,
      "outputs": [
        {
          "output_type": "stream",
          "text": [
            "GOOD MORNING\n"
          ],
          "name": "stdout"
        }
      ]
    },
    {
      "metadata": {
        "id": "pO8GqKXbE8RE",
        "colab_type": "text"
      },
      "cell_type": "markdown",
      "source": [
        "##Heading 2\n",
        "Normal text here!\n",
        "\n",
        "#Heading 3\n",
        "ordered list here\n",
        "\n",
        "1. Fruits\n",
        "          A. Banana\n",
        "          B. Grapes\n",
        "2. Veggies\n",
        "          A. Tomato\n",
        "          B. Broccoli\n",
        "      \n",
        "Unordered list here\n",
        "\n",
        "*  Fruits\n",
        "        * Banana\n",
        "        * Grapes\n",
        "* Veggies\n",
        "       * Tomato\n",
        "       * Broccoli\n",
        "\n"
      ]
    }
  ]
}